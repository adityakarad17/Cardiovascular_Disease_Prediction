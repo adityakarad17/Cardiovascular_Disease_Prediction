{
  "nbformat": 4,
  "nbformat_minor": 0,
  "metadata": {
    "colab": {
      "name": "Cardiovascular Disease.ipynb",
      "provenance": [],
      "collapsed_sections": []
    },
    "kernelspec": {
      "name": "python3",
      "display_name": "Python 3"
    },
    "language_info": {
      "name": "python"
    }
  },
  "cells": [
    {
      "cell_type": "markdown",
      "metadata": {
        "id": "RMdIDh5p9HeQ"
      },
      "source": [
        "## **Importing libraries**"
      ]
    },
    {
      "cell_type": "code",
      "metadata": {
        "id": "9rKVESAXX1e6"
      },
      "source": [
        "import numpy as np\n",
        "import pandas as pd"
      ],
      "execution_count": 834,
      "outputs": []
    },
    {
      "cell_type": "markdown",
      "metadata": {
        "id": "pqqG9c619Lpa"
      },
      "source": [
        "## **Importing dataset**"
      ]
    },
    {
      "cell_type": "code",
      "metadata": {
        "colab": {
          "base_uri": "https://localhost:8080/",
          "height": 357
        },
        "id": "Y8XnX46Z1orm",
        "outputId": "aac815c0-ab33-4326-d5a5-eefadddd1c29"
      },
      "source": [
        "df = pd.read_csv(\"cardio_train.csv\", sep = \";\")\n",
        "df.head(10)"
      ],
      "execution_count": 835,
      "outputs": [
        {
          "output_type": "execute_result",
          "data": {
            "text/html": [
              "<div>\n",
              "<style scoped>\n",
              "    .dataframe tbody tr th:only-of-type {\n",
              "        vertical-align: middle;\n",
              "    }\n",
              "\n",
              "    .dataframe tbody tr th {\n",
              "        vertical-align: top;\n",
              "    }\n",
              "\n",
              "    .dataframe thead th {\n",
              "        text-align: right;\n",
              "    }\n",
              "</style>\n",
              "<table border=\"1\" class=\"dataframe\">\n",
              "  <thead>\n",
              "    <tr style=\"text-align: right;\">\n",
              "      <th></th>\n",
              "      <th>id</th>\n",
              "      <th>age</th>\n",
              "      <th>gender</th>\n",
              "      <th>height</th>\n",
              "      <th>weight</th>\n",
              "      <th>ap_hi</th>\n",
              "      <th>ap_lo</th>\n",
              "      <th>cholesterol</th>\n",
              "      <th>gluc</th>\n",
              "      <th>smoke</th>\n",
              "      <th>alco</th>\n",
              "      <th>active</th>\n",
              "      <th>cardio</th>\n",
              "    </tr>\n",
              "  </thead>\n",
              "  <tbody>\n",
              "    <tr>\n",
              "      <th>0</th>\n",
              "      <td>0</td>\n",
              "      <td>18393</td>\n",
              "      <td>2</td>\n",
              "      <td>168</td>\n",
              "      <td>62.0</td>\n",
              "      <td>110</td>\n",
              "      <td>80</td>\n",
              "      <td>1</td>\n",
              "      <td>1</td>\n",
              "      <td>0</td>\n",
              "      <td>0</td>\n",
              "      <td>1</td>\n",
              "      <td>0</td>\n",
              "    </tr>\n",
              "    <tr>\n",
              "      <th>1</th>\n",
              "      <td>1</td>\n",
              "      <td>20228</td>\n",
              "      <td>1</td>\n",
              "      <td>156</td>\n",
              "      <td>85.0</td>\n",
              "      <td>140</td>\n",
              "      <td>90</td>\n",
              "      <td>3</td>\n",
              "      <td>1</td>\n",
              "      <td>0</td>\n",
              "      <td>0</td>\n",
              "      <td>1</td>\n",
              "      <td>1</td>\n",
              "    </tr>\n",
              "    <tr>\n",
              "      <th>2</th>\n",
              "      <td>2</td>\n",
              "      <td>18857</td>\n",
              "      <td>1</td>\n",
              "      <td>165</td>\n",
              "      <td>64.0</td>\n",
              "      <td>130</td>\n",
              "      <td>70</td>\n",
              "      <td>3</td>\n",
              "      <td>1</td>\n",
              "      <td>0</td>\n",
              "      <td>0</td>\n",
              "      <td>0</td>\n",
              "      <td>1</td>\n",
              "    </tr>\n",
              "    <tr>\n",
              "      <th>3</th>\n",
              "      <td>3</td>\n",
              "      <td>17623</td>\n",
              "      <td>2</td>\n",
              "      <td>169</td>\n",
              "      <td>82.0</td>\n",
              "      <td>150</td>\n",
              "      <td>100</td>\n",
              "      <td>1</td>\n",
              "      <td>1</td>\n",
              "      <td>0</td>\n",
              "      <td>0</td>\n",
              "      <td>1</td>\n",
              "      <td>1</td>\n",
              "    </tr>\n",
              "    <tr>\n",
              "      <th>4</th>\n",
              "      <td>4</td>\n",
              "      <td>17474</td>\n",
              "      <td>1</td>\n",
              "      <td>156</td>\n",
              "      <td>56.0</td>\n",
              "      <td>100</td>\n",
              "      <td>60</td>\n",
              "      <td>1</td>\n",
              "      <td>1</td>\n",
              "      <td>0</td>\n",
              "      <td>0</td>\n",
              "      <td>0</td>\n",
              "      <td>0</td>\n",
              "    </tr>\n",
              "    <tr>\n",
              "      <th>5</th>\n",
              "      <td>8</td>\n",
              "      <td>21914</td>\n",
              "      <td>1</td>\n",
              "      <td>151</td>\n",
              "      <td>67.0</td>\n",
              "      <td>120</td>\n",
              "      <td>80</td>\n",
              "      <td>2</td>\n",
              "      <td>2</td>\n",
              "      <td>0</td>\n",
              "      <td>0</td>\n",
              "      <td>0</td>\n",
              "      <td>0</td>\n",
              "    </tr>\n",
              "    <tr>\n",
              "      <th>6</th>\n",
              "      <td>9</td>\n",
              "      <td>22113</td>\n",
              "      <td>1</td>\n",
              "      <td>157</td>\n",
              "      <td>93.0</td>\n",
              "      <td>130</td>\n",
              "      <td>80</td>\n",
              "      <td>3</td>\n",
              "      <td>1</td>\n",
              "      <td>0</td>\n",
              "      <td>0</td>\n",
              "      <td>1</td>\n",
              "      <td>0</td>\n",
              "    </tr>\n",
              "    <tr>\n",
              "      <th>7</th>\n",
              "      <td>12</td>\n",
              "      <td>22584</td>\n",
              "      <td>2</td>\n",
              "      <td>178</td>\n",
              "      <td>95.0</td>\n",
              "      <td>130</td>\n",
              "      <td>90</td>\n",
              "      <td>3</td>\n",
              "      <td>3</td>\n",
              "      <td>0</td>\n",
              "      <td>0</td>\n",
              "      <td>1</td>\n",
              "      <td>1</td>\n",
              "    </tr>\n",
              "    <tr>\n",
              "      <th>8</th>\n",
              "      <td>13</td>\n",
              "      <td>17668</td>\n",
              "      <td>1</td>\n",
              "      <td>158</td>\n",
              "      <td>71.0</td>\n",
              "      <td>110</td>\n",
              "      <td>70</td>\n",
              "      <td>1</td>\n",
              "      <td>1</td>\n",
              "      <td>0</td>\n",
              "      <td>0</td>\n",
              "      <td>1</td>\n",
              "      <td>0</td>\n",
              "    </tr>\n",
              "    <tr>\n",
              "      <th>9</th>\n",
              "      <td>14</td>\n",
              "      <td>19834</td>\n",
              "      <td>1</td>\n",
              "      <td>164</td>\n",
              "      <td>68.0</td>\n",
              "      <td>110</td>\n",
              "      <td>60</td>\n",
              "      <td>1</td>\n",
              "      <td>1</td>\n",
              "      <td>0</td>\n",
              "      <td>0</td>\n",
              "      <td>0</td>\n",
              "      <td>0</td>\n",
              "    </tr>\n",
              "  </tbody>\n",
              "</table>\n",
              "</div>"
            ],
            "text/plain": [
              "   id    age  gender  height  weight  ...  gluc  smoke  alco  active  cardio\n",
              "0   0  18393       2     168    62.0  ...     1      0     0       1       0\n",
              "1   1  20228       1     156    85.0  ...     1      0     0       1       1\n",
              "2   2  18857       1     165    64.0  ...     1      0     0       0       1\n",
              "3   3  17623       2     169    82.0  ...     1      0     0       1       1\n",
              "4   4  17474       1     156    56.0  ...     1      0     0       0       0\n",
              "5   8  21914       1     151    67.0  ...     2      0     0       0       0\n",
              "6   9  22113       1     157    93.0  ...     1      0     0       1       0\n",
              "7  12  22584       2     178    95.0  ...     3      0     0       1       1\n",
              "8  13  17668       1     158    71.0  ...     1      0     0       1       0\n",
              "9  14  19834       1     164    68.0  ...     1      0     0       0       0\n",
              "\n",
              "[10 rows x 13 columns]"
            ]
          },
          "metadata": {
            "tags": []
          },
          "execution_count": 835
        }
      ]
    },
    {
      "cell_type": "code",
      "metadata": {
        "colab": {
          "base_uri": "https://localhost:8080/"
        },
        "id": "z-bCECfn1tl1",
        "outputId": "8c7d0653-76da-4121-e615-3f25e593437a"
      },
      "source": [
        "df.info()"
      ],
      "execution_count": 836,
      "outputs": [
        {
          "output_type": "stream",
          "text": [
            "<class 'pandas.core.frame.DataFrame'>\n",
            "RangeIndex: 70000 entries, 0 to 69999\n",
            "Data columns (total 13 columns):\n",
            " #   Column       Non-Null Count  Dtype  \n",
            "---  ------       --------------  -----  \n",
            " 0   id           70000 non-null  int64  \n",
            " 1   age          70000 non-null  int64  \n",
            " 2   gender       70000 non-null  int64  \n",
            " 3   height       70000 non-null  int64  \n",
            " 4   weight       70000 non-null  float64\n",
            " 5   ap_hi        70000 non-null  int64  \n",
            " 6   ap_lo        70000 non-null  int64  \n",
            " 7   cholesterol  70000 non-null  int64  \n",
            " 8   gluc         70000 non-null  int64  \n",
            " 9   smoke        70000 non-null  int64  \n",
            " 10  alco         70000 non-null  int64  \n",
            " 11  active       70000 non-null  int64  \n",
            " 12  cardio       70000 non-null  int64  \n",
            "dtypes: float64(1), int64(12)\n",
            "memory usage: 6.9 MB\n"
          ],
          "name": "stdout"
        }
      ]
    },
    {
      "cell_type": "code",
      "metadata": {
        "colab": {
          "base_uri": "https://localhost:8080/",
          "height": 295
        },
        "id": "80r5WTNl0sfq",
        "outputId": "e197af4f-93ac-4f03-d4e2-b87db5e70fe1"
      },
      "source": [
        "df.describe()"
      ],
      "execution_count": 837,
      "outputs": [
        {
          "output_type": "execute_result",
          "data": {
            "text/html": [
              "<div>\n",
              "<style scoped>\n",
              "    .dataframe tbody tr th:only-of-type {\n",
              "        vertical-align: middle;\n",
              "    }\n",
              "\n",
              "    .dataframe tbody tr th {\n",
              "        vertical-align: top;\n",
              "    }\n",
              "\n",
              "    .dataframe thead th {\n",
              "        text-align: right;\n",
              "    }\n",
              "</style>\n",
              "<table border=\"1\" class=\"dataframe\">\n",
              "  <thead>\n",
              "    <tr style=\"text-align: right;\">\n",
              "      <th></th>\n",
              "      <th>id</th>\n",
              "      <th>age</th>\n",
              "      <th>gender</th>\n",
              "      <th>height</th>\n",
              "      <th>weight</th>\n",
              "      <th>ap_hi</th>\n",
              "      <th>ap_lo</th>\n",
              "      <th>cholesterol</th>\n",
              "      <th>gluc</th>\n",
              "      <th>smoke</th>\n",
              "      <th>alco</th>\n",
              "      <th>active</th>\n",
              "      <th>cardio</th>\n",
              "    </tr>\n",
              "  </thead>\n",
              "  <tbody>\n",
              "    <tr>\n",
              "      <th>count</th>\n",
              "      <td>70000.000000</td>\n",
              "      <td>70000.000000</td>\n",
              "      <td>70000.000000</td>\n",
              "      <td>70000.000000</td>\n",
              "      <td>70000.000000</td>\n",
              "      <td>70000.000000</td>\n",
              "      <td>70000.000000</td>\n",
              "      <td>70000.000000</td>\n",
              "      <td>70000.000000</td>\n",
              "      <td>70000.000000</td>\n",
              "      <td>70000.000000</td>\n",
              "      <td>70000.000000</td>\n",
              "      <td>70000.000000</td>\n",
              "    </tr>\n",
              "    <tr>\n",
              "      <th>mean</th>\n",
              "      <td>49972.419900</td>\n",
              "      <td>19468.865814</td>\n",
              "      <td>1.349571</td>\n",
              "      <td>164.359229</td>\n",
              "      <td>74.205690</td>\n",
              "      <td>128.817286</td>\n",
              "      <td>96.630414</td>\n",
              "      <td>1.366871</td>\n",
              "      <td>1.226457</td>\n",
              "      <td>0.088129</td>\n",
              "      <td>0.053771</td>\n",
              "      <td>0.803729</td>\n",
              "      <td>0.499700</td>\n",
              "    </tr>\n",
              "    <tr>\n",
              "      <th>std</th>\n",
              "      <td>28851.302323</td>\n",
              "      <td>2467.251667</td>\n",
              "      <td>0.476838</td>\n",
              "      <td>8.210126</td>\n",
              "      <td>14.395757</td>\n",
              "      <td>154.011419</td>\n",
              "      <td>188.472530</td>\n",
              "      <td>0.680250</td>\n",
              "      <td>0.572270</td>\n",
              "      <td>0.283484</td>\n",
              "      <td>0.225568</td>\n",
              "      <td>0.397179</td>\n",
              "      <td>0.500003</td>\n",
              "    </tr>\n",
              "    <tr>\n",
              "      <th>min</th>\n",
              "      <td>0.000000</td>\n",
              "      <td>10798.000000</td>\n",
              "      <td>1.000000</td>\n",
              "      <td>55.000000</td>\n",
              "      <td>10.000000</td>\n",
              "      <td>-150.000000</td>\n",
              "      <td>-70.000000</td>\n",
              "      <td>1.000000</td>\n",
              "      <td>1.000000</td>\n",
              "      <td>0.000000</td>\n",
              "      <td>0.000000</td>\n",
              "      <td>0.000000</td>\n",
              "      <td>0.000000</td>\n",
              "    </tr>\n",
              "    <tr>\n",
              "      <th>25%</th>\n",
              "      <td>25006.750000</td>\n",
              "      <td>17664.000000</td>\n",
              "      <td>1.000000</td>\n",
              "      <td>159.000000</td>\n",
              "      <td>65.000000</td>\n",
              "      <td>120.000000</td>\n",
              "      <td>80.000000</td>\n",
              "      <td>1.000000</td>\n",
              "      <td>1.000000</td>\n",
              "      <td>0.000000</td>\n",
              "      <td>0.000000</td>\n",
              "      <td>1.000000</td>\n",
              "      <td>0.000000</td>\n",
              "    </tr>\n",
              "    <tr>\n",
              "      <th>50%</th>\n",
              "      <td>50001.500000</td>\n",
              "      <td>19703.000000</td>\n",
              "      <td>1.000000</td>\n",
              "      <td>165.000000</td>\n",
              "      <td>72.000000</td>\n",
              "      <td>120.000000</td>\n",
              "      <td>80.000000</td>\n",
              "      <td>1.000000</td>\n",
              "      <td>1.000000</td>\n",
              "      <td>0.000000</td>\n",
              "      <td>0.000000</td>\n",
              "      <td>1.000000</td>\n",
              "      <td>0.000000</td>\n",
              "    </tr>\n",
              "    <tr>\n",
              "      <th>75%</th>\n",
              "      <td>74889.250000</td>\n",
              "      <td>21327.000000</td>\n",
              "      <td>2.000000</td>\n",
              "      <td>170.000000</td>\n",
              "      <td>82.000000</td>\n",
              "      <td>140.000000</td>\n",
              "      <td>90.000000</td>\n",
              "      <td>2.000000</td>\n",
              "      <td>1.000000</td>\n",
              "      <td>0.000000</td>\n",
              "      <td>0.000000</td>\n",
              "      <td>1.000000</td>\n",
              "      <td>1.000000</td>\n",
              "    </tr>\n",
              "    <tr>\n",
              "      <th>max</th>\n",
              "      <td>99999.000000</td>\n",
              "      <td>23713.000000</td>\n",
              "      <td>2.000000</td>\n",
              "      <td>250.000000</td>\n",
              "      <td>200.000000</td>\n",
              "      <td>16020.000000</td>\n",
              "      <td>11000.000000</td>\n",
              "      <td>3.000000</td>\n",
              "      <td>3.000000</td>\n",
              "      <td>1.000000</td>\n",
              "      <td>1.000000</td>\n",
              "      <td>1.000000</td>\n",
              "      <td>1.000000</td>\n",
              "    </tr>\n",
              "  </tbody>\n",
              "</table>\n",
              "</div>"
            ],
            "text/plain": [
              "                 id           age  ...        active        cardio\n",
              "count  70000.000000  70000.000000  ...  70000.000000  70000.000000\n",
              "mean   49972.419900  19468.865814  ...      0.803729      0.499700\n",
              "std    28851.302323   2467.251667  ...      0.397179      0.500003\n",
              "min        0.000000  10798.000000  ...      0.000000      0.000000\n",
              "25%    25006.750000  17664.000000  ...      1.000000      0.000000\n",
              "50%    50001.500000  19703.000000  ...      1.000000      0.000000\n",
              "75%    74889.250000  21327.000000  ...      1.000000      1.000000\n",
              "max    99999.000000  23713.000000  ...      1.000000      1.000000\n",
              "\n",
              "[8 rows x 13 columns]"
            ]
          },
          "metadata": {
            "tags": []
          },
          "execution_count": 837
        }
      ]
    },
    {
      "cell_type": "code",
      "metadata": {
        "colab": {
          "base_uri": "https://localhost:8080/"
        },
        "id": "VVGv7-y613JY",
        "outputId": "5c57aa48-a3ec-409e-82dd-5e57735de112"
      },
      "source": [
        "df.isnull().sum()"
      ],
      "execution_count": 838,
      "outputs": [
        {
          "output_type": "execute_result",
          "data": {
            "text/plain": [
              "id             0\n",
              "age            0\n",
              "gender         0\n",
              "height         0\n",
              "weight         0\n",
              "ap_hi          0\n",
              "ap_lo          0\n",
              "cholesterol    0\n",
              "gluc           0\n",
              "smoke          0\n",
              "alco           0\n",
              "active         0\n",
              "cardio         0\n",
              "dtype: int64"
            ]
          },
          "metadata": {
            "tags": []
          },
          "execution_count": 838
        }
      ]
    },
    {
      "cell_type": "markdown",
      "metadata": {
        "id": "C5PGroMF9TFQ"
      },
      "source": [
        "No null values are found.\n",
        "\n"
      ]
    },
    {
      "cell_type": "markdown",
      "metadata": {
        "id": "YY7NP2ycOajR"
      },
      "source": [
        "## **Removing outliers & irrelevant data**"
      ]
    },
    {
      "cell_type": "markdown",
      "metadata": {
        "id": "RMH5jtb9NUoE"
      },
      "source": [
        "Systolic blood pressure, measures the pressure in your arteries when your heart beats.\n",
        "Diastolic blood pressure, measures the pressure in your arteries when your heart rests between beats. \n",
        "Systolic blood pressure is always greater than diastolic blood pressure."
      ]
    },
    {
      "cell_type": "code",
      "metadata": {
        "colab": {
          "base_uri": "https://localhost:8080/",
          "height": 417
        },
        "id": "gPcKa-fONdjt",
        "outputId": "2a19279f-1f7e-426f-c858-97e67fa3c83f"
      },
      "source": [
        "df[(df['ap_lo'] > df['ap_hi'])]"
      ],
      "execution_count": 839,
      "outputs": [
        {
          "output_type": "execute_result",
          "data": {
            "text/html": [
              "<div>\n",
              "<style scoped>\n",
              "    .dataframe tbody tr th:only-of-type {\n",
              "        vertical-align: middle;\n",
              "    }\n",
              "\n",
              "    .dataframe tbody tr th {\n",
              "        vertical-align: top;\n",
              "    }\n",
              "\n",
              "    .dataframe thead th {\n",
              "        text-align: right;\n",
              "    }\n",
              "</style>\n",
              "<table border=\"1\" class=\"dataframe\">\n",
              "  <thead>\n",
              "    <tr style=\"text-align: right;\">\n",
              "      <th></th>\n",
              "      <th>id</th>\n",
              "      <th>age</th>\n",
              "      <th>gender</th>\n",
              "      <th>height</th>\n",
              "      <th>weight</th>\n",
              "      <th>ap_hi</th>\n",
              "      <th>ap_lo</th>\n",
              "      <th>cholesterol</th>\n",
              "      <th>gluc</th>\n",
              "      <th>smoke</th>\n",
              "      <th>alco</th>\n",
              "      <th>active</th>\n",
              "      <th>cardio</th>\n",
              "    </tr>\n",
              "  </thead>\n",
              "  <tbody>\n",
              "    <tr>\n",
              "      <th>228</th>\n",
              "      <td>314</td>\n",
              "      <td>17489</td>\n",
              "      <td>2</td>\n",
              "      <td>183</td>\n",
              "      <td>98.0</td>\n",
              "      <td>160</td>\n",
              "      <td>1100</td>\n",
              "      <td>1</td>\n",
              "      <td>2</td>\n",
              "      <td>1</td>\n",
              "      <td>0</td>\n",
              "      <td>1</td>\n",
              "      <td>1</td>\n",
              "    </tr>\n",
              "    <tr>\n",
              "      <th>241</th>\n",
              "      <td>334</td>\n",
              "      <td>21932</td>\n",
              "      <td>2</td>\n",
              "      <td>157</td>\n",
              "      <td>60.0</td>\n",
              "      <td>160</td>\n",
              "      <td>1000</td>\n",
              "      <td>2</td>\n",
              "      <td>1</td>\n",
              "      <td>0</td>\n",
              "      <td>0</td>\n",
              "      <td>0</td>\n",
              "      <td>1</td>\n",
              "    </tr>\n",
              "    <tr>\n",
              "      <th>260</th>\n",
              "      <td>357</td>\n",
              "      <td>18217</td>\n",
              "      <td>1</td>\n",
              "      <td>150</td>\n",
              "      <td>83.0</td>\n",
              "      <td>140</td>\n",
              "      <td>800</td>\n",
              "      <td>1</td>\n",
              "      <td>1</td>\n",
              "      <td>0</td>\n",
              "      <td>0</td>\n",
              "      <td>1</td>\n",
              "      <td>1</td>\n",
              "    </tr>\n",
              "    <tr>\n",
              "      <th>329</th>\n",
              "      <td>458</td>\n",
              "      <td>23407</td>\n",
              "      <td>1</td>\n",
              "      <td>176</td>\n",
              "      <td>63.0</td>\n",
              "      <td>160</td>\n",
              "      <td>1000</td>\n",
              "      <td>2</td>\n",
              "      <td>2</td>\n",
              "      <td>0</td>\n",
              "      <td>0</td>\n",
              "      <td>0</td>\n",
              "      <td>1</td>\n",
              "    </tr>\n",
              "    <tr>\n",
              "      <th>345</th>\n",
              "      <td>482</td>\n",
              "      <td>18704</td>\n",
              "      <td>1</td>\n",
              "      <td>154</td>\n",
              "      <td>81.0</td>\n",
              "      <td>140</td>\n",
              "      <td>1000</td>\n",
              "      <td>2</td>\n",
              "      <td>1</td>\n",
              "      <td>0</td>\n",
              "      <td>0</td>\n",
              "      <td>1</td>\n",
              "      <td>1</td>\n",
              "    </tr>\n",
              "    <tr>\n",
              "      <th>...</th>\n",
              "      <td>...</td>\n",
              "      <td>...</td>\n",
              "      <td>...</td>\n",
              "      <td>...</td>\n",
              "      <td>...</td>\n",
              "      <td>...</td>\n",
              "      <td>...</td>\n",
              "      <td>...</td>\n",
              "      <td>...</td>\n",
              "      <td>...</td>\n",
              "      <td>...</td>\n",
              "      <td>...</td>\n",
              "      <td>...</td>\n",
              "    </tr>\n",
              "    <tr>\n",
              "      <th>69771</th>\n",
              "      <td>99659</td>\n",
              "      <td>23330</td>\n",
              "      <td>1</td>\n",
              "      <td>167</td>\n",
              "      <td>81.0</td>\n",
              "      <td>160</td>\n",
              "      <td>1000</td>\n",
              "      <td>1</td>\n",
              "      <td>1</td>\n",
              "      <td>0</td>\n",
              "      <td>0</td>\n",
              "      <td>1</td>\n",
              "      <td>1</td>\n",
              "    </tr>\n",
              "    <tr>\n",
              "      <th>69872</th>\n",
              "      <td>99798</td>\n",
              "      <td>21808</td>\n",
              "      <td>1</td>\n",
              "      <td>152</td>\n",
              "      <td>56.0</td>\n",
              "      <td>160</td>\n",
              "      <td>1000</td>\n",
              "      <td>1</td>\n",
              "      <td>1</td>\n",
              "      <td>0</td>\n",
              "      <td>0</td>\n",
              "      <td>1</td>\n",
              "      <td>1</td>\n",
              "    </tr>\n",
              "    <tr>\n",
              "      <th>69878</th>\n",
              "      <td>99807</td>\n",
              "      <td>21239</td>\n",
              "      <td>2</td>\n",
              "      <td>168</td>\n",
              "      <td>95.0</td>\n",
              "      <td>160</td>\n",
              "      <td>1000</td>\n",
              "      <td>1</td>\n",
              "      <td>1</td>\n",
              "      <td>0</td>\n",
              "      <td>0</td>\n",
              "      <td>1</td>\n",
              "      <td>1</td>\n",
              "    </tr>\n",
              "    <tr>\n",
              "      <th>69885</th>\n",
              "      <td>99816</td>\n",
              "      <td>22417</td>\n",
              "      <td>2</td>\n",
              "      <td>166</td>\n",
              "      <td>78.0</td>\n",
              "      <td>170</td>\n",
              "      <td>1000</td>\n",
              "      <td>1</td>\n",
              "      <td>1</td>\n",
              "      <td>0</td>\n",
              "      <td>0</td>\n",
              "      <td>0</td>\n",
              "      <td>0</td>\n",
              "    </tr>\n",
              "    <tr>\n",
              "      <th>69967</th>\n",
              "      <td>99955</td>\n",
              "      <td>21416</td>\n",
              "      <td>2</td>\n",
              "      <td>168</td>\n",
              "      <td>63.0</td>\n",
              "      <td>140</td>\n",
              "      <td>1000</td>\n",
              "      <td>1</td>\n",
              "      <td>1</td>\n",
              "      <td>0</td>\n",
              "      <td>0</td>\n",
              "      <td>1</td>\n",
              "      <td>1</td>\n",
              "    </tr>\n",
              "  </tbody>\n",
              "</table>\n",
              "<p>1234 rows × 13 columns</p>\n",
              "</div>"
            ],
            "text/plain": [
              "          id    age  gender  height  weight  ...  gluc  smoke  alco  active  cardio\n",
              "228      314  17489       2     183    98.0  ...     2      1     0       1       1\n",
              "241      334  21932       2     157    60.0  ...     1      0     0       0       1\n",
              "260      357  18217       1     150    83.0  ...     1      0     0       1       1\n",
              "329      458  23407       1     176    63.0  ...     2      0     0       0       1\n",
              "345      482  18704       1     154    81.0  ...     1      0     0       1       1\n",
              "...      ...    ...     ...     ...     ...  ...   ...    ...   ...     ...     ...\n",
              "69771  99659  23330       1     167    81.0  ...     1      0     0       1       1\n",
              "69872  99798  21808       1     152    56.0  ...     1      0     0       1       1\n",
              "69878  99807  21239       2     168    95.0  ...     1      0     0       1       1\n",
              "69885  99816  22417       2     166    78.0  ...     1      0     0       0       0\n",
              "69967  99955  21416       2     168    63.0  ...     1      0     0       1       1\n",
              "\n",
              "[1234 rows x 13 columns]"
            ]
          },
          "metadata": {
            "tags": []
          },
          "execution_count": 839
        }
      ]
    },
    {
      "cell_type": "markdown",
      "metadata": {
        "id": "fZs_UQGXNj_c"
      },
      "source": [
        "There are 1000+ rows of data where systoic blood pressure > diastolic blood pressure. This is not possible. Hence we drop those rows of data."
      ]
    },
    {
      "cell_type": "code",
      "metadata": {
        "id": "gu9jQyjnNfAV"
      },
      "source": [
        "df.drop(df[(df['ap_lo'] > df['ap_hi'])].index,inplace=True)"
      ],
      "execution_count": 840,
      "outputs": []
    },
    {
      "cell_type": "code",
      "metadata": {
        "colab": {
          "base_uri": "https://localhost:8080/",
          "height": 295
        },
        "id": "V7Ct-slFN8nD",
        "outputId": "a5739392-faf9-487f-b92b-f55c8884103f"
      },
      "source": [
        "df.describe()"
      ],
      "execution_count": 841,
      "outputs": [
        {
          "output_type": "execute_result",
          "data": {
            "text/html": [
              "<div>\n",
              "<style scoped>\n",
              "    .dataframe tbody tr th:only-of-type {\n",
              "        vertical-align: middle;\n",
              "    }\n",
              "\n",
              "    .dataframe tbody tr th {\n",
              "        vertical-align: top;\n",
              "    }\n",
              "\n",
              "    .dataframe thead th {\n",
              "        text-align: right;\n",
              "    }\n",
              "</style>\n",
              "<table border=\"1\" class=\"dataframe\">\n",
              "  <thead>\n",
              "    <tr style=\"text-align: right;\">\n",
              "      <th></th>\n",
              "      <th>id</th>\n",
              "      <th>age</th>\n",
              "      <th>gender</th>\n",
              "      <th>height</th>\n",
              "      <th>weight</th>\n",
              "      <th>ap_hi</th>\n",
              "      <th>ap_lo</th>\n",
              "      <th>cholesterol</th>\n",
              "      <th>gluc</th>\n",
              "      <th>smoke</th>\n",
              "      <th>alco</th>\n",
              "      <th>active</th>\n",
              "      <th>cardio</th>\n",
              "    </tr>\n",
              "  </thead>\n",
              "  <tbody>\n",
              "    <tr>\n",
              "      <th>count</th>\n",
              "      <td>68766.000000</td>\n",
              "      <td>68766.000000</td>\n",
              "      <td>68766.000000</td>\n",
              "      <td>68766.000000</td>\n",
              "      <td>68766.000000</td>\n",
              "      <td>68766.000000</td>\n",
              "      <td>68766.000000</td>\n",
              "      <td>68766.000000</td>\n",
              "      <td>68766.000000</td>\n",
              "      <td>68766.000000</td>\n",
              "      <td>68766.000000</td>\n",
              "      <td>68766.000000</td>\n",
              "      <td>68766.000000</td>\n",
              "    </tr>\n",
              "    <tr>\n",
              "      <th>mean</th>\n",
              "      <td>49976.959878</td>\n",
              "      <td>19464.145188</td>\n",
              "      <td>1.348617</td>\n",
              "      <td>164.359916</td>\n",
              "      <td>74.114962</td>\n",
              "      <td>128.839601</td>\n",
              "      <td>81.245776</td>\n",
              "      <td>1.364657</td>\n",
              "      <td>1.225577</td>\n",
              "      <td>0.087878</td>\n",
              "      <td>0.053340</td>\n",
              "      <td>0.803449</td>\n",
              "      <td>0.494765</td>\n",
              "    </tr>\n",
              "    <tr>\n",
              "      <th>std</th>\n",
              "      <td>28842.637757</td>\n",
              "      <td>2468.319995</td>\n",
              "      <td>0.476536</td>\n",
              "      <td>8.190703</td>\n",
              "      <td>14.332163</td>\n",
              "      <td>155.201462</td>\n",
              "      <td>9.694132</td>\n",
              "      <td>0.678876</td>\n",
              "      <td>0.571441</td>\n",
              "      <td>0.283119</td>\n",
              "      <td>0.224713</td>\n",
              "      <td>0.397392</td>\n",
              "      <td>0.499976</td>\n",
              "    </tr>\n",
              "    <tr>\n",
              "      <th>min</th>\n",
              "      <td>0.000000</td>\n",
              "      <td>10798.000000</td>\n",
              "      <td>1.000000</td>\n",
              "      <td>55.000000</td>\n",
              "      <td>11.000000</td>\n",
              "      <td>12.000000</td>\n",
              "      <td>-70.000000</td>\n",
              "      <td>1.000000</td>\n",
              "      <td>1.000000</td>\n",
              "      <td>0.000000</td>\n",
              "      <td>0.000000</td>\n",
              "      <td>0.000000</td>\n",
              "      <td>0.000000</td>\n",
              "    </tr>\n",
              "    <tr>\n",
              "      <th>25%</th>\n",
              "      <td>25008.250000</td>\n",
              "      <td>17657.000000</td>\n",
              "      <td>1.000000</td>\n",
              "      <td>159.000000</td>\n",
              "      <td>65.000000</td>\n",
              "      <td>120.000000</td>\n",
              "      <td>80.000000</td>\n",
              "      <td>1.000000</td>\n",
              "      <td>1.000000</td>\n",
              "      <td>0.000000</td>\n",
              "      <td>0.000000</td>\n",
              "      <td>1.000000</td>\n",
              "      <td>0.000000</td>\n",
              "    </tr>\n",
              "    <tr>\n",
              "      <th>50%</th>\n",
              "      <td>50020.500000</td>\n",
              "      <td>19701.000000</td>\n",
              "      <td>1.000000</td>\n",
              "      <td>165.000000</td>\n",
              "      <td>72.000000</td>\n",
              "      <td>120.000000</td>\n",
              "      <td>80.000000</td>\n",
              "      <td>1.000000</td>\n",
              "      <td>1.000000</td>\n",
              "      <td>0.000000</td>\n",
              "      <td>0.000000</td>\n",
              "      <td>1.000000</td>\n",
              "      <td>0.000000</td>\n",
              "    </tr>\n",
              "    <tr>\n",
              "      <th>75%</th>\n",
              "      <td>74865.750000</td>\n",
              "      <td>21324.000000</td>\n",
              "      <td>2.000000</td>\n",
              "      <td>170.000000</td>\n",
              "      <td>82.000000</td>\n",
              "      <td>140.000000</td>\n",
              "      <td>90.000000</td>\n",
              "      <td>2.000000</td>\n",
              "      <td>1.000000</td>\n",
              "      <td>0.000000</td>\n",
              "      <td>0.000000</td>\n",
              "      <td>1.000000</td>\n",
              "      <td>1.000000</td>\n",
              "    </tr>\n",
              "    <tr>\n",
              "      <th>max</th>\n",
              "      <td>99999.000000</td>\n",
              "      <td>23713.000000</td>\n",
              "      <td>2.000000</td>\n",
              "      <td>250.000000</td>\n",
              "      <td>200.000000</td>\n",
              "      <td>16020.000000</td>\n",
              "      <td>182.000000</td>\n",
              "      <td>3.000000</td>\n",
              "      <td>3.000000</td>\n",
              "      <td>1.000000</td>\n",
              "      <td>1.000000</td>\n",
              "      <td>1.000000</td>\n",
              "      <td>1.000000</td>\n",
              "    </tr>\n",
              "  </tbody>\n",
              "</table>\n",
              "</div>"
            ],
            "text/plain": [
              "                 id           age  ...        active        cardio\n",
              "count  68766.000000  68766.000000  ...  68766.000000  68766.000000\n",
              "mean   49976.959878  19464.145188  ...      0.803449      0.494765\n",
              "std    28842.637757   2468.319995  ...      0.397392      0.499976\n",
              "min        0.000000  10798.000000  ...      0.000000      0.000000\n",
              "25%    25008.250000  17657.000000  ...      1.000000      0.000000\n",
              "50%    50020.500000  19701.000000  ...      1.000000      0.000000\n",
              "75%    74865.750000  21324.000000  ...      1.000000      1.000000\n",
              "max    99999.000000  23713.000000  ...      1.000000      1.000000\n",
              "\n",
              "[8 rows x 13 columns]"
            ]
          },
          "metadata": {
            "tags": []
          },
          "execution_count": 841
        }
      ]
    },
    {
      "cell_type": "markdown",
      "metadata": {
        "id": "Z3-chcePLnk4"
      },
      "source": [
        "We also notice than min & max values of ap_hi and ap_lo are outliers. We must remove them. \n",
        "We confirm this by drawing a box-plot of that variable and see outliers.\n",
        "We also check for outliers on other fields too."
      ]
    },
    {
      "cell_type": "code",
      "metadata": {
        "colab": {
          "base_uri": "https://localhost:8080/",
          "height": 298
        },
        "id": "hnze1obXQYaB",
        "outputId": "29057868-608c-435c-f96d-3bd010041fd9"
      },
      "source": [
        "import seaborn as sns\n",
        "sns.boxplot(x = df[\"ap_hi\"])"
      ],
      "execution_count": 842,
      "outputs": [
        {
          "output_type": "execute_result",
          "data": {
            "text/plain": [
              "<matplotlib.axes._subplots.AxesSubplot at 0x7f22dc639ed0>"
            ]
          },
          "metadata": {
            "tags": []
          },
          "execution_count": 842
        },
        {
          "output_type": "display_data",
          "data": {
            "image/png": "[encoded data removed]",
            "text/plain": [
              "<Figure size 432x288 with 1 Axes>"
            ]
          },
          "metadata": {
            "tags": [],
            "needs_background": "light"
          }
        }
      ]
    },
    {
      "cell_type": "code",
      "metadata": {
        "colab": {
          "base_uri": "https://localhost:8080/",
          "height": 298
        },
        "id": "G7NkGNJbQpzT",
        "outputId": "d2b82a26-d6c4-4d31-f27a-dfd3de4466c2"
      },
      "source": [
        "sns.boxplot(x = df[\"ap_lo\"])"
      ],
      "execution_count": 843,
      "outputs": [
        {
          "output_type": "execute_result",
          "data": {
            "text/plain": [
              "<matplotlib.axes._subplots.AxesSubplot at 0x7f22dc300690>"
            ]
          },
          "metadata": {
            "tags": []
          },
          "execution_count": 843
        },
        {
          "output_type": "display_data",
          "data": {
            "image/png": "[encoded data removed]",
            "text/plain": [
              "<Figure size 432x288 with 1 Axes>"
            ]
          },
          "metadata": {
            "tags": [],
            "needs_background": "light"
          }
        }
      ]
    },
    {
      "cell_type": "code",
      "metadata": {
        "id": "VQw6A5INQ1R7"
      },
      "source": [
        "def remove_outliers(field):\n",
        "    quantile1 = df[field].quantile(0.25)\n",
        "    quantile2 = df[field].quantile(0.50)\n",
        "    quantile3 = df[field].quantile(0.75)\n",
        "    IQR = quantile3 - quantile1\n",
        "    lower_bound = quantile1 - 1.5*IQR\n",
        "    upper_bound = quantile3 + 1.5*IQR\n",
        "\n",
        "    remove_filter = df[(df[field] > upper_bound) | (df[field] < lower_bound)]\n",
        "    print(\"Removing these columns because they are outliers for field {}\".format(field))\n",
        "    print(remove_filter)\n",
        "    df.drop(remove_filter.index, inplace = True)"
      ],
      "execution_count": 844,
      "outputs": []
    },
    {
      "cell_type": "code",
      "metadata": {
        "id": "s1Qdj31QLnN9",
        "colab": {
          "base_uri": "https://localhost:8080/"
        },
        "outputId": "48f60db9-9e77-42a8-c9bd-3d8868c56772"
      },
      "source": [
        "remove_outliers(\"ap_hi\")"
      ],
      "execution_count": 845,
      "outputs": [
        {
          "output_type": "stream",
          "text": [
            "Removing these columns because they are outliers for field ap_hi\n",
            "          id    age  gender  height  weight  ...  gluc  smoke  alco  active  cardio\n",
            "59        74  20431       1     164    64.0  ...     1      1     0       1       1\n",
            "61        79  20960       2     165    75.0  ...     1      0     0       1       1\n",
            "101      136  18718       1     167    80.0  ...     1      0     1       0       0\n",
            "209      288  18169       2     172    62.0  ...     1      0     0       1       0\n",
            "230      318  23376       2     175    75.0  ...     1      1     1       1       1\n",
            "...      ...    ...     ...     ...     ...  ...   ...    ...   ...     ...     ...\n",
            "69587  99398  23223       1     169   101.0  ...     1      0     0       0       1\n",
            "69593  99405  16781       2     179    93.0  ...     2      0     1       1       1\n",
            "69830  99734  22552       2     163    67.0  ...     1      0     0       0       1\n",
            "69894  99835  16857       1     160    70.0  ...     2      0     0       1       1\n",
            "69997  99996  19066       2     183   105.0  ...     1      0     1       0       1\n",
            "\n",
            "[1058 rows x 13 columns]\n"
          ],
          "name": "stdout"
        }
      ]
    },
    {
      "cell_type": "code",
      "metadata": {
        "colab": {
          "base_uri": "https://localhost:8080/"
        },
        "id": "FjeIrxWDR1IW",
        "outputId": "16dd9284-e3eb-4d19-c27f-546af9c92c3e"
      },
      "source": [
        "remove_outliers(\"ap_lo\")"
      ],
      "execution_count": 846,
      "outputs": [
        {
          "output_type": "stream",
          "text": [
            "Removing these columns because they are outliers for field ap_lo\n",
            "          id    age  gender  height  weight  ...  gluc  smoke  alco  active  cardio\n",
            "4          4  17474       1     156    56.0  ...     1      0     0       0       0\n",
            "9         14  19834       1     164    68.0  ...     1      0     0       0       0\n",
            "23        33  23376       2     156    45.0  ...     1      0     0       1       0\n",
            "43        58  20556       2     159    63.0  ...     1      0     0       1       1\n",
            "50        65  18238       1     160    75.0  ...     1      0     0       0       0\n",
            "...      ...    ...     ...     ...     ...  ...   ...    ...   ...     ...     ...\n",
            "69922  99878  15334       1     165    62.0  ...     1      0     0       1       0\n",
            "69929  99891  19834       1     164    85.0  ...     3      0     0       1       1\n",
            "69932  99897  15243       2     171    67.0  ...     1      0     0       1       0\n",
            "69937  99908  14489       1     160    53.0  ...     1      0     0       1       0\n",
            "69978  99967  18800       1     163    78.0  ...     1      0     0       1       1\n",
            "\n",
            "[3208 rows x 13 columns]\n"
          ],
          "name": "stdout"
        }
      ]
    },
    {
      "cell_type": "code",
      "metadata": {
        "id": "XV6-pakZL0a2",
        "colab": {
          "base_uri": "https://localhost:8080/",
          "height": 295
        },
        "outputId": "208aa6fb-abd5-4377-cb14-a9117b683f75"
      },
      "source": [
        "df.describe()"
      ],
      "execution_count": 847,
      "outputs": [
        {
          "output_type": "execute_result",
          "data": {
            "text/html": [
              "<div>\n",
              "<style scoped>\n",
              "    .dataframe tbody tr th:only-of-type {\n",
              "        vertical-align: middle;\n",
              "    }\n",
              "\n",
              "    .dataframe tbody tr th {\n",
              "        vertical-align: top;\n",
              "    }\n",
              "\n",
              "    .dataframe thead th {\n",
              "        text-align: right;\n",
              "    }\n",
              "</style>\n",
              "<table border=\"1\" class=\"dataframe\">\n",
              "  <thead>\n",
              "    <tr style=\"text-align: right;\">\n",
              "      <th></th>\n",
              "      <th>id</th>\n",
              "      <th>age</th>\n",
              "      <th>gender</th>\n",
              "      <th>height</th>\n",
              "      <th>weight</th>\n",
              "      <th>ap_hi</th>\n",
              "      <th>ap_lo</th>\n",
              "      <th>cholesterol</th>\n",
              "      <th>gluc</th>\n",
              "      <th>smoke</th>\n",
              "      <th>alco</th>\n",
              "      <th>active</th>\n",
              "      <th>cardio</th>\n",
              "    </tr>\n",
              "  </thead>\n",
              "  <tbody>\n",
              "    <tr>\n",
              "      <th>count</th>\n",
              "      <td>64500.000000</td>\n",
              "      <td>64500.000000</td>\n",
              "      <td>64500.000000</td>\n",
              "      <td>64500.000000</td>\n",
              "      <td>64500.000000</td>\n",
              "      <td>64500.000000</td>\n",
              "      <td>64500.000000</td>\n",
              "      <td>64500.000000</td>\n",
              "      <td>64500.000000</td>\n",
              "      <td>64500.000000</td>\n",
              "      <td>64500.000000</td>\n",
              "      <td>64500.000000</td>\n",
              "      <td>64500.000000</td>\n",
              "    </tr>\n",
              "    <tr>\n",
              "      <th>mean</th>\n",
              "      <td>49966.534946</td>\n",
              "      <td>19491.981225</td>\n",
              "      <td>1.351876</td>\n",
              "      <td>164.456961</td>\n",
              "      <td>74.261272</td>\n",
              "      <td>126.624527</td>\n",
              "      <td>81.788868</td>\n",
              "      <td>1.364264</td>\n",
              "      <td>1.225659</td>\n",
              "      <td>0.087612</td>\n",
              "      <td>0.053054</td>\n",
              "      <td>0.803488</td>\n",
              "      <td>0.498388</td>\n",
              "    </tr>\n",
              "    <tr>\n",
              "      <th>std</th>\n",
              "      <td>28856.092134</td>\n",
              "      <td>2458.769607</td>\n",
              "      <td>0.477559</td>\n",
              "      <td>8.148030</td>\n",
              "      <td>14.142237</td>\n",
              "      <td>14.383593</td>\n",
              "      <td>7.712722</td>\n",
              "      <td>0.680277</td>\n",
              "      <td>0.572670</td>\n",
              "      <td>0.282733</td>\n",
              "      <td>0.224143</td>\n",
              "      <td>0.397363</td>\n",
              "      <td>0.500001</td>\n",
              "    </tr>\n",
              "    <tr>\n",
              "      <th>min</th>\n",
              "      <td>0.000000</td>\n",
              "      <td>10859.000000</td>\n",
              "      <td>1.000000</td>\n",
              "      <td>55.000000</td>\n",
              "      <td>11.000000</td>\n",
              "      <td>90.000000</td>\n",
              "      <td>65.000000</td>\n",
              "      <td>1.000000</td>\n",
              "      <td>1.000000</td>\n",
              "      <td>0.000000</td>\n",
              "      <td>0.000000</td>\n",
              "      <td>0.000000</td>\n",
              "      <td>0.000000</td>\n",
              "    </tr>\n",
              "    <tr>\n",
              "      <th>25%</th>\n",
              "      <td>24923.750000</td>\n",
              "      <td>17720.000000</td>\n",
              "      <td>1.000000</td>\n",
              "      <td>159.000000</td>\n",
              "      <td>65.000000</td>\n",
              "      <td>120.000000</td>\n",
              "      <td>80.000000</td>\n",
              "      <td>1.000000</td>\n",
              "      <td>1.000000</td>\n",
              "      <td>0.000000</td>\n",
              "      <td>0.000000</td>\n",
              "      <td>1.000000</td>\n",
              "      <td>0.000000</td>\n",
              "    </tr>\n",
              "    <tr>\n",
              "      <th>50%</th>\n",
              "      <td>50009.500000</td>\n",
              "      <td>19716.000000</td>\n",
              "      <td>1.000000</td>\n",
              "      <td>165.000000</td>\n",
              "      <td>72.000000</td>\n",
              "      <td>120.000000</td>\n",
              "      <td>80.000000</td>\n",
              "      <td>1.000000</td>\n",
              "      <td>1.000000</td>\n",
              "      <td>0.000000</td>\n",
              "      <td>0.000000</td>\n",
              "      <td>1.000000</td>\n",
              "      <td>0.000000</td>\n",
              "    </tr>\n",
              "    <tr>\n",
              "      <th>75%</th>\n",
              "      <td>74879.250000</td>\n",
              "      <td>21343.000000</td>\n",
              "      <td>2.000000</td>\n",
              "      <td>170.000000</td>\n",
              "      <td>82.000000</td>\n",
              "      <td>140.000000</td>\n",
              "      <td>90.000000</td>\n",
              "      <td>1.000000</td>\n",
              "      <td>1.000000</td>\n",
              "      <td>0.000000</td>\n",
              "      <td>0.000000</td>\n",
              "      <td>1.000000</td>\n",
              "      <td>1.000000</td>\n",
              "    </tr>\n",
              "    <tr>\n",
              "      <th>max</th>\n",
              "      <td>99999.000000</td>\n",
              "      <td>23713.000000</td>\n",
              "      <td>2.000000</td>\n",
              "      <td>250.000000</td>\n",
              "      <td>200.000000</td>\n",
              "      <td>170.000000</td>\n",
              "      <td>105.000000</td>\n",
              "      <td>3.000000</td>\n",
              "      <td>3.000000</td>\n",
              "      <td>1.000000</td>\n",
              "      <td>1.000000</td>\n",
              "      <td>1.000000</td>\n",
              "      <td>1.000000</td>\n",
              "    </tr>\n",
              "  </tbody>\n",
              "</table>\n",
              "</div>"
            ],
            "text/plain": [
              "                 id           age  ...        active        cardio\n",
              "count  64500.000000  64500.000000  ...  64500.000000  64500.000000\n",
              "mean   49966.534946  19491.981225  ...      0.803488      0.498388\n",
              "std    28856.092134   2458.769607  ...      0.397363      0.500001\n",
              "min        0.000000  10859.000000  ...      0.000000      0.000000\n",
              "25%    24923.750000  17720.000000  ...      1.000000      0.000000\n",
              "50%    50009.500000  19716.000000  ...      1.000000      0.000000\n",
              "75%    74879.250000  21343.000000  ...      1.000000      1.000000\n",
              "max    99999.000000  23713.000000  ...      1.000000      1.000000\n",
              "\n",
              "[8 rows x 13 columns]"
            ]
          },
          "metadata": {
            "tags": []
          },
          "execution_count": 847
        }
      ]
    },
    {
      "cell_type": "markdown",
      "metadata": {
        "id": "EYRINgRhSR07"
      },
      "source": [
        "By now, we have dropped 5500 rows of data"
      ]
    },
    {
      "cell_type": "markdown",
      "metadata": {
        "id": "cVc8ejfs9VWz"
      },
      "source": [
        "## **Splitting into dependent and independent variables**"
      ]
    },
    {
      "cell_type": "code",
      "metadata": {
        "id": "SooVMhr1j31N"
      },
      "source": [
        "df.drop(\"id\",axis=1,inplace=True)"
      ],
      "execution_count": 848,
      "outputs": []
    },
    {
      "cell_type": "code",
      "metadata": {
        "colab": {
          "base_uri": "https://localhost:8080/"
        },
        "id": "bGZakXpn2GSi",
        "outputId": "15dc398a-a005-47dc-cf49-e06d2ca7630b"
      },
      "source": [
        "x = df.iloc[:,:-1].values\n",
        "x\n",
        "print(x[0])\n",
        "print(y[0])"
      ],
      "execution_count": 849,
      "outputs": [
        {
          "output_type": "stream",
          "text": [
            "[1.8393e+04 2.0000e+00 1.6800e+02 6.2000e+01 1.1000e+02 8.0000e+01\n",
            " 1.0000e+00 1.0000e+00 0.0000e+00 0.0000e+00 1.0000e+00]\n",
            "0\n"
          ],
          "name": "stdout"
        }
      ]
    },
    {
      "cell_type": "code",
      "metadata": {
        "colab": {
          "base_uri": "https://localhost:8080/"
        },
        "id": "O2vVbwYU2aHA",
        "outputId": "8b662fab-a277-4369-8cd8-2d97495b7391"
      },
      "source": [
        "y = df.iloc[:,-1].values\n",
        "y"
      ],
      "execution_count": 850,
      "outputs": [
        {
          "output_type": "execute_result",
          "data": {
            "text/plain": [
              "array([0, 1, 1, ..., 1, 1, 0])"
            ]
          },
          "metadata": {
            "tags": []
          },
          "execution_count": 850
        }
      ]
    },
    {
      "cell_type": "markdown",
      "metadata": {
        "id": "Tr3re3F49f0A"
      },
      "source": [
        "## **Splitting into training and testing set**"
      ]
    },
    {
      "cell_type": "code",
      "metadata": {
        "id": "az923FPw2iXR"
      },
      "source": [
        "from sklearn.model_selection import train_test_split\n",
        "x_train, x_test, y_train, y_test = train_test_split(x, y, test_size = 0.2, random_state = 1)"
      ],
      "execution_count": 851,
      "outputs": []
    },
    {
      "cell_type": "markdown",
      "metadata": {
        "id": "nMp17Fe19jcD"
      },
      "source": [
        "## **Normalising values in independent variable**"
      ]
    },
    {
      "cell_type": "code",
      "metadata": {
        "id": "HmLtDoiC2xEk"
      },
      "source": [
        "from sklearn.preprocessing import StandardScaler\n",
        "sc = StandardScaler()\n",
        "x_train = sc.fit_transform(x_train)\n",
        "x_test = sc.transform(x_test)"
      ],
      "execution_count": 852,
      "outputs": []
    },
    {
      "cell_type": "markdown",
      "metadata": {
        "id": "-g3BAwfA9o4g"
      },
      "source": [
        "## **Logistic Regression**"
      ]
    },
    {
      "cell_type": "code",
      "metadata": {
        "id": "Xl6aqZEp-PlY"
      },
      "source": [
        "models = [\"Logistic Regression\", \"K Nearest Neighbors\",\"Random Forest decision tree\", \"Decision tree classifier\"]\n",
        "accuracies = []"
      ],
      "execution_count": 853,
      "outputs": []
    },
    {
      "cell_type": "code",
      "metadata": {
        "id": "g-z54U3q24uU",
        "colab": {
          "base_uri": "https://localhost:8080/"
        },
        "outputId": "702a799d-61aa-48c9-ed53-4ee95077a8cc"
      },
      "source": [
        "\n",
        "from sklearn.linear_model import LogisticRegression\n",
        "# Logistic Regression\n",
        "logreg = LogisticRegression()\n",
        "logreg.fit(x_train, y_train)\n",
        "\n",
        "\n",
        "\n",
        "y_pred = logreg.predict(x_test)\n",
        "predictions = [round(value) for value in y_pred]\n",
        "\n",
        "\n",
        "\n",
        "# Predicting for single value\n",
        "x_data = [[1.8393e+04, 2.0000e+00, 1.6800e+02, 6.2000e+01, 1.1000e+02,\n",
        "       8.0000e+01, 1.0000e+00, 1.0000e+00, 0.0000e+00, 0.0000e+00,\n",
        "       1.0000e+00]]\n",
        "y_actual = [[1]]\n",
        "y_pred = logreg.predict(x_data)\n",
        "print(y_pred)\n",
        "from sklearn.metrics import confusion_matrix, accuracy_score\n",
        "accuracy = accuracy_score(y_actual, y_pred)\n",
        "print(accuracy)\n"
      ],
      "execution_count": 854,
      "outputs": [
        {
          "output_type": "stream",
          "text": [
            "[1]\n",
            "1.0\n"
          ],
          "name": "stdout"
        }
      ]
    },
    {
      "cell_type": "code",
      "metadata": {
        "colab": {
          "base_uri": "https://localhost:8080/"
        },
        "id": "C3PZmKPh3UTi",
        "outputId": "a656daa3-7674-4a8b-8e33-b58071e6bd10"
      },
      "source": [
        "# evaluate predictions\n",
        "from sklearn.metrics import confusion_matrix, accuracy_score\n",
        "accuracy = accuracy_score(y_test, predictions)\n",
        "accuracies.append(accuracy)\n",
        "print(\"Accuracy: {}\".format(accuracy * 100))"
      ],
      "execution_count": 855,
      "outputs": [
        {
          "output_type": "stream",
          "text": [
            "Accuracy: 71.3875968992248\n"
          ],
          "name": "stdout"
        }
      ]
    },
    {
      "cell_type": "code",
      "metadata": {
        "id": "8C_FRLHyF2aR"
      },
      "source": [
        ""
      ],
      "execution_count": 855,
      "outputs": []
    },
    {
      "cell_type": "markdown",
      "metadata": {
        "id": "4JS7GVyf9v48"
      },
      "source": [
        "## **K Nearest neighbors**"
      ]
    },
    {
      "cell_type": "code",
      "metadata": {
        "colab": {
          "base_uri": "https://localhost:8080/"
        },
        "id": "IrYyk61v3lX_",
        "outputId": "eee040fe-ff0b-4d8d-a67e-21afadfcab4e"
      },
      "source": [
        "from sklearn.neighbors import KNeighborsClassifier\n",
        "classifier = KNeighborsClassifier(n_neighbors = 5, metric = 'minkowski', p = 2)\n",
        "classifier.fit(x_train, y_train)"
      ],
      "execution_count": 856,
      "outputs": [
        {
          "output_type": "execute_result",
          "data": {
            "text/plain": [
              "KNeighborsClassifier(algorithm='auto', leaf_size=30, metric='minkowski',\n",
              "                     metric_params=None, n_jobs=None, n_neighbors=5, p=2,\n",
              "                     weights='uniform')"
            ]
          },
          "metadata": {
            "tags": []
          },
          "execution_count": 856
        }
      ]
    },
    {
      "cell_type": "code",
      "metadata": {
        "colab": {
          "base_uri": "https://localhost:8080/"
        },
        "id": "pqOnhh2r33a4",
        "outputId": "4ce32cb2-a924-4ee4-f639-3fdffef8f827"
      },
      "source": [
        "from sklearn.metrics import confusion_matrix, accuracy_score\n",
        "y_pred = classifier.predict(x_test)\n",
        "cm = confusion_matrix(y_test, y_pred)\n",
        "accuracy = accuracy_score(y_test, y_pred)\n",
        "accuracies.append(accuracy)\n",
        "print(\"Accuracy: {}\".format(accuracy * 100))"
      ],
      "execution_count": 857,
      "outputs": [
        {
          "output_type": "stream",
          "text": [
            "Accuracy: 67.90697674418604\n"
          ],
          "name": "stdout"
        }
      ]
    },
    {
      "cell_type": "markdown",
      "metadata": {
        "id": "b1h8INbG97zM"
      },
      "source": [
        "## **Random Forest decision tree**"
      ]
    },
    {
      "cell_type": "code",
      "metadata": {
        "colab": {
          "base_uri": "https://localhost:8080/"
        },
        "id": "07hE3lOL4Ig-",
        "outputId": "6c73b749-983d-40fe-e2b9-f00e877019be"
      },
      "source": [
        "from sklearn.ensemble import RandomForestClassifier\n",
        "classifier = RandomForestClassifier(n_estimators = 10, criterion = 'entropy', random_state = 0)\n",
        "classifier.fit(x_train, y_train)"
      ],
      "execution_count": 858,
      "outputs": [
        {
          "output_type": "execute_result",
          "data": {
            "text/plain": [
              "RandomForestClassifier(bootstrap=True, ccp_alpha=0.0, class_weight=None,\n",
              "                       criterion='entropy', max_depth=None, max_features='auto',\n",
              "                       max_leaf_nodes=None, max_samples=None,\n",
              "                       min_impurity_decrease=0.0, min_impurity_split=None,\n",
              "                       min_samples_leaf=1, min_samples_split=2,\n",
              "                       min_weight_fraction_leaf=0.0, n_estimators=10,\n",
              "                       n_jobs=None, oob_score=False, random_state=0, verbose=0,\n",
              "                       warm_start=False)"
            ]
          },
          "metadata": {
            "tags": []
          },
          "execution_count": 858
        }
      ]
    },
    {
      "cell_type": "code",
      "metadata": {
        "colab": {
          "base_uri": "https://localhost:8080/"
        },
        "id": "_doC3W0n36ta",
        "outputId": "0e63c2be-556a-4f0f-acf6-2d3a3a14269b"
      },
      "source": [
        "from sklearn.metrics import confusion_matrix, accuracy_score\n",
        "y_pred = classifier.predict(x_test)\n",
        "cm = confusion_matrix(y_test, y_pred)\n",
        "accuracy = accuracy_score(y_test, y_pred)\n",
        "accuracies.append(accuracy)\n",
        "print(\"Accuracy: {}\".format(accuracy * 100))"
      ],
      "execution_count": 859,
      "outputs": [
        {
          "output_type": "stream",
          "text": [
            "Accuracy: 68.54263565891473\n"
          ],
          "name": "stdout"
        }
      ]
    },
    {
      "cell_type": "markdown",
      "metadata": {
        "id": "_qo2NK5d9_jT"
      },
      "source": [
        "## **Decision Tree classifier**\n",
        "\n",
        "\n"
      ]
    },
    {
      "cell_type": "code",
      "metadata": {
        "colab": {
          "base_uri": "https://localhost:8080/"
        },
        "id": "vE2_Ml6f4FGw",
        "outputId": "864f93c7-f12f-42b1-ead4-8d9399c0fe5c"
      },
      "source": [
        "from sklearn.tree import DecisionTreeClassifier\n",
        "classifier = DecisionTreeClassifier(criterion = 'entropy', random_state = 0)\n",
        "classifier.fit(x_train, y_train)"
      ],
      "execution_count": 860,
      "outputs": [
        {
          "output_type": "execute_result",
          "data": {
            "text/plain": [
              "DecisionTreeClassifier(ccp_alpha=0.0, class_weight=None, criterion='entropy',\n",
              "                       max_depth=None, max_features=None, max_leaf_nodes=None,\n",
              "                       min_impurity_decrease=0.0, min_impurity_split=None,\n",
              "                       min_samples_leaf=1, min_samples_split=2,\n",
              "                       min_weight_fraction_leaf=0.0, presort='deprecated',\n",
              "                       random_state=0, splitter='best')"
            ]
          },
          "metadata": {
            "tags": []
          },
          "execution_count": 860
        }
      ]
    },
    {
      "cell_type": "code",
      "metadata": {
        "colab": {
          "base_uri": "https://localhost:8080/"
        },
        "id": "93m3Uad94Qhe",
        "outputId": "8282ad41-b3a2-4bf5-bcd9-7527caab7fa4"
      },
      "source": [
        "from sklearn.metrics import confusion_matrix, accuracy_score\n",
        "y_pred = classifier.predict(x_test)\n",
        "cm = confusion_matrix(y_test, y_pred)\n",
        "accuracy = accuracy_score(y_test, y_pred)\n",
        "accuracies.append(accuracy)\n",
        "print(\"Accuracy: {}\".format(accuracy * 100))"
      ],
      "execution_count": 861,
      "outputs": [
        {
          "output_type": "stream",
          "text": [
            "Accuracy: 62.76744186046511\n"
          ],
          "name": "stdout"
        }
      ]
    },
    {
      "cell_type": "markdown",
      "metadata": {
        "id": "eMJhphLg-yp4"
      },
      "source": [
        "Summarising all accuracies"
      ]
    },
    {
      "cell_type": "code",
      "metadata": {
        "colab": {
          "base_uri": "https://localhost:8080/"
        },
        "id": "V0IPpNQ7AeGH",
        "outputId": "6a6221a8-a2e2-4f73-872c-b93646f60e34"
      },
      "source": [
        "print(models)\n",
        "accuracies = [x*100 for x in accuracies]\n",
        "accuracies"
      ],
      "execution_count": 862,
      "outputs": [
        {
          "output_type": "stream",
          "text": [
            "['Logistic Regression', 'K Nearest Neighbors', 'Random Forest decision tree', 'Decision tree classifier']\n"
          ],
          "name": "stdout"
        },
        {
          "output_type": "execute_result",
          "data": {
            "text/plain": [
              "[71.3875968992248, 67.90697674418604, 68.54263565891473, 62.76744186046511]"
            ]
          },
          "metadata": {
            "tags": []
          },
          "execution_count": 862
        }
      ]
    },
    {
      "cell_type": "code",
      "metadata": {
        "colab": {
          "base_uri": "https://localhost:8080/",
          "height": 458
        },
        "id": "vRv8pgJ--yUB",
        "outputId": "9f61556a-8b81-4ac3-b658-242cd8a3aea3"
      },
      "source": [
        "import matplotlib.pyplot as plt\n",
        "f, ax = plt.subplots(figsize=(18,7))\n",
        "plt.bar(models,accuracies)\n",
        "\n",
        "plt.title(\"Accuracies from different models\")\n",
        "plt.ylabel(\"Accuracy\")\n",
        "plt.xlabel(\"Model name\")\n",
        "plt.show()"
      ],
      "execution_count": 863,
      "outputs": [
        {
          "output_type": "display_data",
          "data": {
            "image/png": "[encoded data removed]",
            "text/plain": [
              "<Figure size 1296x504 with 1 Axes>"
            ]
          },
          "metadata": {
            "tags": [],
            "needs_background": "light"
          }
        }
      ]
    },
    {
      "cell_type": "markdown",
      "metadata": {
        "id": "QwjCe61-2DZ4"
      },
      "source": [
        "## **Visualizations**"
      ]
    },
    {
      "cell_type": "markdown",
      "metadata": {
        "id": "ZzqMiLqB2Hwp"
      },
      "source": [
        "Dataset gender composition"
      ]
    },
    {
      "cell_type": "code",
      "metadata": {
        "id": "yd-81QNsijOz",
        "colab": {
          "base_uri": "https://localhost:8080/"
        },
        "outputId": "423596c8-9643-45da-c588-f560c7973aaa"
      },
      "source": [
        "df[\"gender\"].value_counts()"
      ],
      "execution_count": 864,
      "outputs": [
        {
          "output_type": "execute_result",
          "data": {
            "text/plain": [
              "1    41804\n",
              "2    22696\n",
              "Name: gender, dtype: int64"
            ]
          },
          "metadata": {
            "tags": []
          },
          "execution_count": 864
        }
      ]
    },
    {
      "cell_type": "code",
      "metadata": {
        "colab": {
          "base_uri": "https://localhost:8080/",
          "height": 297
        },
        "id": "oOO09uiR2ijy",
        "outputId": "18c3030c-1301-4acd-e9e3-1ba07062b643"
      },
      "source": [
        "labels = [\"Female\", \"Male\"]\n",
        "gender_count = [45530, 24470]\n",
        "gender_pie_colors = [\"#fc4f30\", \"#008fd5\"]\n",
        "plt.pie(gender_count, labels = labels, colors = gender_pie_colors, autopct = '%1.1f%%', wedgeprops={ \"edgecolor\": \"white\" })\n",
        "\n",
        "\n",
        "plt.title(\"Gender composition in dataset\")\n",
        "plt.tight_layout()\n",
        "plt.show()"
      ],
      "execution_count": 865,
      "outputs": [
        {
          "output_type": "display_data",
          "data": {
            "image/png": "[encoded data removed]",
            "text/plain": [
              "<Figure size 432x288 with 1 Axes>"
            ]
          },
          "metadata": {
            "tags": []
          }
        }
      ]
    },
    {
      "cell_type": "markdown",
      "metadata": {
        "id": "APpDTtoz3Tnf"
      },
      "source": [
        "% of people having cardiovascular disease in dataset"
      ]
    },
    {
      "cell_type": "code",
      "metadata": {
        "colab": {
          "base_uri": "https://localhost:8080/"
        },
        "id": "Cq6UIMSj3YbA",
        "outputId": "9db63d89-c480-4778-bcd6-8b31deaa03d5"
      },
      "source": [
        "df[\"cardio\"].value_counts()"
      ],
      "execution_count": 866,
      "outputs": [
        {
          "output_type": "execute_result",
          "data": {
            "text/plain": [
              "0    32354\n",
              "1    32146\n",
              "Name: cardio, dtype: int64"
            ]
          },
          "metadata": {
            "tags": []
          },
          "execution_count": 866
        }
      ]
    },
    {
      "cell_type": "code",
      "metadata": {
        "colab": {
          "base_uri": "https://localhost:8080/",
          "height": 297
        },
        "id": "R4JA4X373AL-",
        "outputId": "47312b07-c552-4e07-c1a2-cd022d48e65b"
      },
      "source": [
        "labels = [\"Not having CVD\", \"Have CVD\"]\n",
        "cvd_count = [35021, 34979]\n",
        "cvd_pie_colors = [\"#fc4f30\", \"#008fd5\"]\n",
        "explode = [ 0, 0.15]\n",
        "\n",
        "plt.pie(cvd_count, labels = labels, colors = cvd_pie_colors, autopct = '%1.1f%%', wedgeprops={ \"edgecolor\": \"white\" })\n",
        "\n",
        "\n",
        "plt.title(\"CVD composition in dataset\")\n",
        "plt.tight_layout()\n",
        "plt.show()"
      ],
      "execution_count": 867,
      "outputs": [
        {
          "output_type": "display_data",
          "data": {
            "image/png": "[encoded data removed]",
            "text/plain": [
              "<Figure size 432x288 with 1 Axes>"
            ]
          },
          "metadata": {
            "tags": []
          }
        }
      ]
    },
    {
      "cell_type": "code",
      "metadata": {
        "colab": {
          "base_uri": "https://localhost:8080/"
        },
        "id": "tcroLUlP6gAu",
        "outputId": "1185b1c7-3f5d-428d-82de-7e97ea301e35"
      },
      "source": [
        "df[\"gluc\"].value_counts()"
      ],
      "execution_count": 868,
      "outputs": [
        {
          "output_type": "execute_result",
          "data": {
            "text/plain": [
              "1    54886\n",
              "3     4941\n",
              "2     4673\n",
              "Name: gluc, dtype: int64"
            ]
          },
          "metadata": {
            "tags": []
          },
          "execution_count": 868
        }
      ]
    },
    {
      "cell_type": "code",
      "metadata": {
        "colab": {
          "base_uri": "https://localhost:8080/"
        },
        "id": "6rg7SHo97wiG",
        "outputId": "1eb78ef1-715f-4e4e-ab10-ec99e42c75d0"
      },
      "source": [
        "df[\"cholesterol\"].value_counts()"
      ],
      "execution_count": 869,
      "outputs": [
        {
          "output_type": "execute_result",
          "data": {
            "text/plain": [
              "1    48461\n",
              "2     8583\n",
              "3     7456\n",
              "Name: cholesterol, dtype: int64"
            ]
          },
          "metadata": {
            "tags": []
          },
          "execution_count": 869
        }
      ]
    },
    {
      "cell_type": "code",
      "metadata": {
        "colab": {
          "base_uri": "https://localhost:8080/",
          "height": 281
        },
        "id": "654hajg43uAC",
        "outputId": "f9536dfd-c509-4b81-cc2e-0fbcc5872f16"
      },
      "source": [
        "labels = [\"Normal\", \"Above normal\", \"Well above normal\"]\n",
        "gluc_count = [59479, 5331, 5190]\n",
        "chol_count = [52385, 9549, 8066]\n",
        "\n",
        "x_indices = np.arange(len(labels))\n",
        "bar_width = 0.25\n",
        "\n",
        "plt.bar(x_indices, gluc_count, width=bar_width, label = \"Glucose levels\")\n",
        "plt.bar(x_indices + bar_width, chol_count, width=bar_width, label = \"Cholesterol levels\")\n",
        "\n",
        "plt.xticks(x_indices, labels)\n",
        "plt.legend()\n",
        "plt.title(\"Distribution of glucose & cholesterol levels of patients\")\n",
        "plt.ylabel(\"Number of patients\")\n",
        "#plt.xlabel(\"Categories of glucose & cholesterol levels\")\n",
        "plt.show()"
      ],
      "execution_count": 870,
      "outputs": [
        {
          "output_type": "display_data",
          "data": {
            "image/png": "[encoded data removed]",
            "text/plain": [
              "<Figure size 432x288 with 1 Axes>"
            ]
          },
          "metadata": {
            "tags": [],
            "needs_background": "light"
          }
        }
      ]
    },
    {
      "cell_type": "code",
      "metadata": {
        "colab": {
          "base_uri": "https://localhost:8080/"
        },
        "id": "J2wzzopG6yYW",
        "outputId": "f0dfe9a1-f5f3-45e0-bfb4-eb9064a144e2"
      },
      "source": [
        "df[\"smoke\"].value_counts()"
      ],
      "execution_count": 871,
      "outputs": [
        {
          "output_type": "execute_result",
          "data": {
            "text/plain": [
              "0    58849\n",
              "1     5651\n",
              "Name: smoke, dtype: int64"
            ]
          },
          "metadata": {
            "tags": []
          },
          "execution_count": 871
        }
      ]
    },
    {
      "cell_type": "code",
      "metadata": {
        "colab": {
          "base_uri": "https://localhost:8080/"
        },
        "id": "wIzW3Kkg99Lg",
        "outputId": "19e26ad6-45fb-464b-cd4a-2353a426ee8d"
      },
      "source": [
        "df[\"active\"].value_counts()"
      ],
      "execution_count": 872,
      "outputs": [
        {
          "output_type": "execute_result",
          "data": {
            "text/plain": [
              "1    51825\n",
              "0    12675\n",
              "Name: active, dtype: int64"
            ]
          },
          "metadata": {
            "tags": []
          },
          "execution_count": 872
        }
      ]
    },
    {
      "cell_type": "code",
      "metadata": {
        "colab": {
          "base_uri": "https://localhost:8080/"
        },
        "id": "V9DaLq9R-HLg",
        "outputId": "325a1d22-ec3c-419f-e761-cb0c010ebd8e"
      },
      "source": [
        "df[\"alco\"].value_counts()"
      ],
      "execution_count": 873,
      "outputs": [
        {
          "output_type": "execute_result",
          "data": {
            "text/plain": [
              "0    61078\n",
              "1     3422\n",
              "Name: alco, dtype: int64"
            ]
          },
          "metadata": {
            "tags": []
          },
          "execution_count": 873
        }
      ]
    },
    {
      "cell_type": "code",
      "metadata": {
        "colab": {
          "base_uri": "https://localhost:8080/",
          "height": 297
        },
        "id": "tbWqIn_i-KI6",
        "outputId": "dd7da1ea-01e5-4475-8562-5e5ae752e06e"
      },
      "source": [
        "labels = [\"Don't smoke\", \"Do smoke\"]\n",
        "smoke_count = [63831, 6169]\n",
        "smoke_pie_colors = [\"#fc4f30\", \"#008fd5\"]\n",
        "explode = [ 0, 0.15]\n",
        "\n",
        "plt.pie(smoke_count, labels = labels, explode = explode,colors = smoke_pie_colors, autopct = '%1.1f%%', wedgeprops={ \"edgecolor\": \"white\" })\n",
        "\n",
        "\n",
        "plt.title(\"How many patients smoke?\")\n",
        "plt.tight_layout()\n",
        "plt.show()"
      ],
      "execution_count": 874,
      "outputs": [
        {
          "output_type": "display_data",
          "data": {
            "image/png": "[encoded data removed]",
            "text/plain": [
              "<Figure size 432x288 with 1 Axes>"
            ]
          },
          "metadata": {
            "tags": []
          }
        }
      ]
    },
    {
      "cell_type": "code",
      "metadata": {
        "colab": {
          "base_uri": "https://localhost:8080/",
          "height": 297
        },
        "id": "-jdOLc4Z-8-6",
        "outputId": "019abd4f-2aab-40f3-a3a8-f085622bba1c"
      },
      "source": [
        "labels = [\"Is not active\", \"Is active\"]\n",
        "active_count = [13739, 56261]\n",
        "active_pie_colors = [\"#fc4f30\", \"#008fd5\"]\n",
        "\n",
        "plt.pie(active_count, labels = labels,colors = active_pie_colors, autopct = '%1.1f%%', wedgeprops={ \"edgecolor\": \"white\" })\n",
        "\n",
        "\n",
        "plt.title(\"How many patients are physically active?\")\n",
        "plt.tight_layout()\n",
        "plt.show()"
      ],
      "execution_count": 875,
      "outputs": [
        {
          "output_type": "display_data",
          "data": {
            "image/png": "[encoded data removed]",
            "text/plain": [
              "<Figure size 432x288 with 1 Axes>"
            ]
          },
          "metadata": {
            "tags": []
          }
        }
      ]
    },
    {
      "cell_type": "code",
      "metadata": {
        "colab": {
          "base_uri": "https://localhost:8080/",
          "height": 297
        },
        "id": "JZCwoaft_8Uc",
        "outputId": "89691eac-596b-447e-ed54-5a30912f0365"
      },
      "source": [
        "labels = [\"Doesn't drink\", \"Does drink\"]\n",
        "alco_count  = [66236, 3764]\n",
        "alco_pie_colors = [\"#fc4f30\", \"#008fd5\"]\n",
        "explode = [ 0, 0.15]\n",
        "\n",
        "plt.pie(alco_count, labels = labels, colors = alco_pie_colors, explode = explode,autopct = '%1.1f%%', wedgeprops={ \"edgecolor\": \"white\" })\n",
        "\n",
        "\n",
        "plt.title(\"How many patients consume alchohol?\")\n",
        "plt.tight_layout()\n",
        "plt.show()"
      ],
      "execution_count": 876,
      "outputs": [
        {
          "output_type": "display_data",
          "data": {
            "image/png": "[encoded data removed]",
            "text/plain": [
              "<Figure size 432x288 with 1 Axes>"
            ]
          },
          "metadata": {
            "tags": []
          }
        }
      ]
    },
    {
      "cell_type": "markdown",
      "metadata": {
        "id": "gZ4cwdcSZlJo"
      },
      "source": [
        "Let's plot bar graph distribution of patient's age with cardio"
      ]
    },
    {
      "cell_type": "code",
      "metadata": {
        "colab": {
          "base_uri": "https://localhost:8080/",
          "height": 295
        },
        "id": "BzPQSxhZgtEl",
        "outputId": "247dead0-fc9c-49f7-fe91-fb8e4cff1e19"
      },
      "source": [
        "ages_in_years = df[\"age\"].div(365).apply(lambda x : int(x))\n",
        "\n",
        "plt.hist(ages_in_years, edgecolor = \"white\")\n",
        "\n",
        "plt.title(\"Ages of patients\")\n",
        "plt.xlabel(\"Ages\")\n",
        "plt.ylabel(\"Number of patients\")\n",
        "\n",
        "plt.show()"
      ],
      "execution_count": 877,
      "outputs": [
        {
          "output_type": "display_data",
          "data": {
            "image/png": "[encoded data removed]",
            "text/plain": [
              "<Figure size 432x288 with 1 Axes>"
            ]
          },
          "metadata": {
            "tags": [],
            "needs_background": "light"
          }
        }
      ]
    },
    {
      "cell_type": "code",
      "metadata": {
        "colab": {
          "base_uri": "https://localhost:8080/",
          "height": 348
        },
        "id": "HQNisppwZcaB",
        "outputId": "b5f20202-41db-4f3f-cc5a-936b48a18f78"
      },
      "source": [
        "ages_in_years = df[\"age\"].div(365).apply(lambda x : int(x))\n",
        "\n",
        "remove_filter = df[(df[\"cardio\"] == 0)]\n",
        "df_cvd = df.drop(remove_filter.index)\n",
        "\n",
        "\n",
        "remove_filter = df[(df[\"cardio\"] == 1)]\n",
        "df_no_cvd = df.drop(remove_filter.index)\n",
        "\n",
        "age_cvd = df_cvd[\"age\"].div(365).apply(lambda x : int(x))\n",
        "age_no_cvd = df_no_cvd[\"age\"].div(365).apply(lambda x : int(x))\n",
        "\n",
        "\n",
        "#For debugging \n",
        "print(df_cvd.shape)\n",
        "print(df_no_cvd.shape)\n",
        "print(df.shape)\n",
        "\n",
        "\n",
        "plt.hist(age_cvd, edgecolor = \"white\")\n",
        "\n",
        "plt.title(\"Patients having CVD\")\n",
        "plt.xlabel(\"Ages\")\n",
        "plt.ylabel(\"Number of patients\")\n",
        "\n",
        "plt.show()"
      ],
      "execution_count": 878,
      "outputs": [
        {
          "output_type": "stream",
          "text": [
            "(32146, 12)\n",
            "(32354, 12)\n",
            "(64500, 12)\n"
          ],
          "name": "stdout"
        },
        {
          "output_type": "display_data",
          "data": {
            "image/png": "[encoded data removed]",
            "text/plain": [
              "<Figure size 432x288 with 1 Axes>"
            ]
          },
          "metadata": {
            "tags": [],
            "needs_background": "light"
          }
        }
      ]
    },
    {
      "cell_type": "code",
      "metadata": {
        "colab": {
          "base_uri": "https://localhost:8080/",
          "height": 295
        },
        "id": "MtuqWA0RZ8jE",
        "outputId": "cab3f6e7-ed4a-4d06-e216-ead75785a56e"
      },
      "source": [
        "plt.hist(age_no_cvd, edgecolor = \"white\")\n",
        "plt.title(\"Patients not having CVD\")\n",
        "plt.xlabel(\"Ages\")\n",
        "plt.ylabel(\"Number of patients\")\n",
        "plt.show()"
      ],
      "execution_count": 879,
      "outputs": [
        {
          "output_type": "display_data",
          "data": {
            "image/png": "[encoded data removed]",
            "text/plain": [
              "<Figure size 432x288 with 1 Axes>"
            ]
          },
          "metadata": {
            "tags": [],
            "needs_background": "light"
          }
        }
      ]
    },
    {
      "cell_type": "code",
      "metadata": {
        "id": "PL9OLoF0gfPf"
      },
      "source": [
        ""
      ],
      "execution_count": 879,
      "outputs": []
    }
  ]
}