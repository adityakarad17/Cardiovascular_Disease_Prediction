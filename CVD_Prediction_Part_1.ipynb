{
  "nbformat": 4,
  "nbformat_minor": 0,
  "metadata": {
    "colab": {
      "name": "CVD_Prediction_Part_1.ipynb",
      "provenance": [],
      "collapsed_sections": [
        "RMdIDh5p9HeQ",
        "pqqG9c619Lpa",
        "YY7NP2ycOajR",
        "cVc8ejfs9VWz",
        "Tr3re3F49f0A",
        "nMp17Fe19jcD",
        "-g3BAwfA9o4g",
        "4JS7GVyf9v48",
        "_qo2NK5d9_jT",
        "eMJhphLg-yp4",
        "QwjCe61-2DZ4",
        "FIPRcgD9ZYof"
      ]
    },
    "kernelspec": {
      "display_name": "Python 3",
      "name": "python3"
    },
    "language_info": {
      "name": "python"
    }
  },
  "cells": [
    {
      "cell_type": "markdown",
      "metadata": {
        "id": "RMdIDh5p9HeQ"
      },
      "source": [
        "## **Importing libraries**"
      ]
    },
    {
      "cell_type": "code",
      "metadata": {
        "id": "9rKVESAXX1e6"
      },
      "source": [
        "import numpy as np\n",
        "import pandas as pd\n",
        "\n",
        "# Metrics\n",
        "from sklearn.metrics import confusion_matrix, accuracy_score"
      ],
      "execution_count": 78,
      "outputs": []
    },
    {
      "cell_type": "markdown",
      "metadata": {
        "id": "pqqG9c619Lpa"
      },
      "source": [
        "## **Importing dataset**"
      ]
    },
    {
      "cell_type": "code",
      "metadata": {
        "colab": {
          "base_uri": "https://localhost:8080/",
          "height": 0
        },
        "id": "Y8XnX46Z1orm",
        "outputId": "96a6eda1-90a1-4f84-ca8d-7f4d5dfd9078"
      },
      "source": [
        "df = pd.read_csv(\"cardio_train.csv\", sep = \";\")\n",
        "df.head(10)"
      ],
      "execution_count": 79,
      "outputs": [
        {
          "output_type": "execute_result",
          "data": {
            "text/html": [
              "<div>\n",
              "<style scoped>\n",
              "    .dataframe tbody tr th:only-of-type {\n",
              "        vertical-align: middle;\n",
              "    }\n",
              "\n",
              "    .dataframe tbody tr th {\n",
              "        vertical-align: top;\n",
              "    }\n",
              "\n",
              "    .dataframe thead th {\n",
              "        text-align: right;\n",
              "    }\n",
              "</style>\n",
              "<table border=\"1\" class=\"dataframe\">\n",
              "  <thead>\n",
              "    <tr style=\"text-align: right;\">\n",
              "      <th></th>\n",
              "      <th>id</th>\n",
              "      <th>age</th>\n",
              "      <th>gender</th>\n",
              "      <th>height</th>\n",
              "      <th>weight</th>\n",
              "      <th>ap_hi</th>\n",
              "      <th>ap_lo</th>\n",
              "      <th>cholesterol</th>\n",
              "      <th>gluc</th>\n",
              "      <th>smoke</th>\n",
              "      <th>alco</th>\n",
              "      <th>active</th>\n",
              "      <th>cardio</th>\n",
              "    </tr>\n",
              "  </thead>\n",
              "  <tbody>\n",
              "    <tr>\n",
              "      <th>0</th>\n",
              "      <td>0</td>\n",
              "      <td>18393</td>\n",
              "      <td>2</td>\n",
              "      <td>168</td>\n",
              "      <td>62.0</td>\n",
              "      <td>110</td>\n",
              "      <td>80</td>\n",
              "      <td>1</td>\n",
              "      <td>1</td>\n",
              "      <td>0</td>\n",
              "      <td>0</td>\n",
              "      <td>1</td>\n",
              "      <td>0</td>\n",
              "    </tr>\n",
              "    <tr>\n",
              "      <th>1</th>\n",
              "      <td>1</td>\n",
              "      <td>20228</td>\n",
              "      <td>1</td>\n",
              "      <td>156</td>\n",
              "      <td>85.0</td>\n",
              "      <td>140</td>\n",
              "      <td>90</td>\n",
              "      <td>3</td>\n",
              "      <td>1</td>\n",
              "      <td>0</td>\n",
              "      <td>0</td>\n",
              "      <td>1</td>\n",
              "      <td>1</td>\n",
              "    </tr>\n",
              "    <tr>\n",
              "      <th>2</th>\n",
              "      <td>2</td>\n",
              "      <td>18857</td>\n",
              "      <td>1</td>\n",
              "      <td>165</td>\n",
              "      <td>64.0</td>\n",
              "      <td>130</td>\n",
              "      <td>70</td>\n",
              "      <td>3</td>\n",
              "      <td>1</td>\n",
              "      <td>0</td>\n",
              "      <td>0</td>\n",
              "      <td>0</td>\n",
              "      <td>1</td>\n",
              "    </tr>\n",
              "    <tr>\n",
              "      <th>3</th>\n",
              "      <td>3</td>\n",
              "      <td>17623</td>\n",
              "      <td>2</td>\n",
              "      <td>169</td>\n",
              "      <td>82.0</td>\n",
              "      <td>150</td>\n",
              "      <td>100</td>\n",
              "      <td>1</td>\n",
              "      <td>1</td>\n",
              "      <td>0</td>\n",
              "      <td>0</td>\n",
              "      <td>1</td>\n",
              "      <td>1</td>\n",
              "    </tr>\n",
              "    <tr>\n",
              "      <th>4</th>\n",
              "      <td>4</td>\n",
              "      <td>17474</td>\n",
              "      <td>1</td>\n",
              "      <td>156</td>\n",
              "      <td>56.0</td>\n",
              "      <td>100</td>\n",
              "      <td>60</td>\n",
              "      <td>1</td>\n",
              "      <td>1</td>\n",
              "      <td>0</td>\n",
              "      <td>0</td>\n",
              "      <td>0</td>\n",
              "      <td>0</td>\n",
              "    </tr>\n",
              "    <tr>\n",
              "      <th>5</th>\n",
              "      <td>8</td>\n",
              "      <td>21914</td>\n",
              "      <td>1</td>\n",
              "      <td>151</td>\n",
              "      <td>67.0</td>\n",
              "      <td>120</td>\n",
              "      <td>80</td>\n",
              "      <td>2</td>\n",
              "      <td>2</td>\n",
              "      <td>0</td>\n",
              "      <td>0</td>\n",
              "      <td>0</td>\n",
              "      <td>0</td>\n",
              "    </tr>\n",
              "    <tr>\n",
              "      <th>6</th>\n",
              "      <td>9</td>\n",
              "      <td>22113</td>\n",
              "      <td>1</td>\n",
              "      <td>157</td>\n",
              "      <td>93.0</td>\n",
              "      <td>130</td>\n",
              "      <td>80</td>\n",
              "      <td>3</td>\n",
              "      <td>1</td>\n",
              "      <td>0</td>\n",
              "      <td>0</td>\n",
              "      <td>1</td>\n",
              "      <td>0</td>\n",
              "    </tr>\n",
              "    <tr>\n",
              "      <th>7</th>\n",
              "      <td>12</td>\n",
              "      <td>22584</td>\n",
              "      <td>2</td>\n",
              "      <td>178</td>\n",
              "      <td>95.0</td>\n",
              "      <td>130</td>\n",
              "      <td>90</td>\n",
              "      <td>3</td>\n",
              "      <td>3</td>\n",
              "      <td>0</td>\n",
              "      <td>0</td>\n",
              "      <td>1</td>\n",
              "      <td>1</td>\n",
              "    </tr>\n",
              "    <tr>\n",
              "      <th>8</th>\n",
              "      <td>13</td>\n",
              "      <td>17668</td>\n",
              "      <td>1</td>\n",
              "      <td>158</td>\n",
              "      <td>71.0</td>\n",
              "      <td>110</td>\n",
              "      <td>70</td>\n",
              "      <td>1</td>\n",
              "      <td>1</td>\n",
              "      <td>0</td>\n",
              "      <td>0</td>\n",
              "      <td>1</td>\n",
              "      <td>0</td>\n",
              "    </tr>\n",
              "    <tr>\n",
              "      <th>9</th>\n",
              "      <td>14</td>\n",
              "      <td>19834</td>\n",
              "      <td>1</td>\n",
              "      <td>164</td>\n",
              "      <td>68.0</td>\n",
              "      <td>110</td>\n",
              "      <td>60</td>\n",
              "      <td>1</td>\n",
              "      <td>1</td>\n",
              "      <td>0</td>\n",
              "      <td>0</td>\n",
              "      <td>0</td>\n",
              "      <td>0</td>\n",
              "    </tr>\n",
              "  </tbody>\n",
              "</table>\n",
              "</div>"
            ],
            "text/plain": [
              "   id    age  gender  height  weight  ...  gluc  smoke  alco  active  cardio\n",
              "0   0  18393       2     168    62.0  ...     1      0     0       1       0\n",
              "1   1  20228       1     156    85.0  ...     1      0     0       1       1\n",
              "2   2  18857       1     165    64.0  ...     1      0     0       0       1\n",
              "3   3  17623       2     169    82.0  ...     1      0     0       1       1\n",
              "4   4  17474       1     156    56.0  ...     1      0     0       0       0\n",
              "5   8  21914       1     151    67.0  ...     2      0     0       0       0\n",
              "6   9  22113       1     157    93.0  ...     1      0     0       1       0\n",
              "7  12  22584       2     178    95.0  ...     3      0     0       1       1\n",
              "8  13  17668       1     158    71.0  ...     1      0     0       1       0\n",
              "9  14  19834       1     164    68.0  ...     1      0     0       0       0\n",
              "\n",
              "[10 rows x 13 columns]"
            ]
          },
          "metadata": {
            "tags": []
          },
          "execution_count": 79
        }
      ]
    },
    {
      "cell_type": "code",
      "metadata": {
        "colab": {
          "base_uri": "https://localhost:8080/"
        },
        "id": "z-bCECfn1tl1",
        "outputId": "1c10e422-738e-4516-d499-f13bac6ea83f"
      },
      "source": [
        "df.info()"
      ],
      "execution_count": 80,
      "outputs": [
        {
          "output_type": "stream",
          "text": [
            "<class 'pandas.core.frame.DataFrame'>\n",
            "RangeIndex: 70000 entries, 0 to 69999\n",
            "Data columns (total 13 columns):\n",
            " #   Column       Non-Null Count  Dtype  \n",
            "---  ------       --------------  -----  \n",
            " 0   id           70000 non-null  int64  \n",
            " 1   age          70000 non-null  int64  \n",
            " 2   gender       70000 non-null  int64  \n",
            " 3   height       70000 non-null  int64  \n",
            " 4   weight       70000 non-null  float64\n",
            " 5   ap_hi        70000 non-null  int64  \n",
            " 6   ap_lo        70000 non-null  int64  \n",
            " 7   cholesterol  70000 non-null  int64  \n",
            " 8   gluc         70000 non-null  int64  \n",
            " 9   smoke        70000 non-null  int64  \n",
            " 10  alco         70000 non-null  int64  \n",
            " 11  active       70000 non-null  int64  \n",
            " 12  cardio       70000 non-null  int64  \n",
            "dtypes: float64(1), int64(12)\n",
            "memory usage: 6.9 MB\n"
          ],
          "name": "stdout"
        }
      ]
    },
    {
      "cell_type": "code",
      "metadata": {
        "colab": {
          "base_uri": "https://localhost:8080/",
          "height": 0
        },
        "id": "80r5WTNl0sfq",
        "outputId": "665990a0-38ad-4e3b-8fd0-48b7c59ed636"
      },
      "source": [
        "df.describe()"
      ],
      "execution_count": 81,
      "outputs": [
        {
          "output_type": "execute_result",
          "data": {
            "text/html": [
              "<div>\n",
              "<style scoped>\n",
              "    .dataframe tbody tr th:only-of-type {\n",
              "        vertical-align: middle;\n",
              "    }\n",
              "\n",
              "    .dataframe tbody tr th {\n",
              "        vertical-align: top;\n",
              "    }\n",
              "\n",
              "    .dataframe thead th {\n",
              "        text-align: right;\n",
              "    }\n",
              "</style>\n",
              "<table border=\"1\" class=\"dataframe\">\n",
              "  <thead>\n",
              "    <tr style=\"text-align: right;\">\n",
              "      <th></th>\n",
              "      <th>id</th>\n",
              "      <th>age</th>\n",
              "      <th>gender</th>\n",
              "      <th>height</th>\n",
              "      <th>weight</th>\n",
              "      <th>ap_hi</th>\n",
              "      <th>ap_lo</th>\n",
              "      <th>cholesterol</th>\n",
              "      <th>gluc</th>\n",
              "      <th>smoke</th>\n",
              "      <th>alco</th>\n",
              "      <th>active</th>\n",
              "      <th>cardio</th>\n",
              "    </tr>\n",
              "  </thead>\n",
              "  <tbody>\n",
              "    <tr>\n",
              "      <th>count</th>\n",
              "      <td>70000.000000</td>\n",
              "      <td>70000.000000</td>\n",
              "      <td>70000.000000</td>\n",
              "      <td>70000.000000</td>\n",
              "      <td>70000.000000</td>\n",
              "      <td>70000.000000</td>\n",
              "      <td>70000.000000</td>\n",
              "      <td>70000.000000</td>\n",
              "      <td>70000.000000</td>\n",
              "      <td>70000.000000</td>\n",
              "      <td>70000.000000</td>\n",
              "      <td>70000.000000</td>\n",
              "      <td>70000.000000</td>\n",
              "    </tr>\n",
              "    <tr>\n",
              "      <th>mean</th>\n",
              "      <td>49972.419900</td>\n",
              "      <td>19468.865814</td>\n",
              "      <td>1.349571</td>\n",
              "      <td>164.359229</td>\n",
              "      <td>74.205690</td>\n",
              "      <td>128.817286</td>\n",
              "      <td>96.630414</td>\n",
              "      <td>1.366871</td>\n",
              "      <td>1.226457</td>\n",
              "      <td>0.088129</td>\n",
              "      <td>0.053771</td>\n",
              "      <td>0.803729</td>\n",
              "      <td>0.499700</td>\n",
              "    </tr>\n",
              "    <tr>\n",
              "      <th>std</th>\n",
              "      <td>28851.302323</td>\n",
              "      <td>2467.251667</td>\n",
              "      <td>0.476838</td>\n",
              "      <td>8.210126</td>\n",
              "      <td>14.395757</td>\n",
              "      <td>154.011419</td>\n",
              "      <td>188.472530</td>\n",
              "      <td>0.680250</td>\n",
              "      <td>0.572270</td>\n",
              "      <td>0.283484</td>\n",
              "      <td>0.225568</td>\n",
              "      <td>0.397179</td>\n",
              "      <td>0.500003</td>\n",
              "    </tr>\n",
              "    <tr>\n",
              "      <th>min</th>\n",
              "      <td>0.000000</td>\n",
              "      <td>10798.000000</td>\n",
              "      <td>1.000000</td>\n",
              "      <td>55.000000</td>\n",
              "      <td>10.000000</td>\n",
              "      <td>-150.000000</td>\n",
              "      <td>-70.000000</td>\n",
              "      <td>1.000000</td>\n",
              "      <td>1.000000</td>\n",
              "      <td>0.000000</td>\n",
              "      <td>0.000000</td>\n",
              "      <td>0.000000</td>\n",
              "      <td>0.000000</td>\n",
              "    </tr>\n",
              "    <tr>\n",
              "      <th>25%</th>\n",
              "      <td>25006.750000</td>\n",
              "      <td>17664.000000</td>\n",
              "      <td>1.000000</td>\n",
              "      <td>159.000000</td>\n",
              "      <td>65.000000</td>\n",
              "      <td>120.000000</td>\n",
              "      <td>80.000000</td>\n",
              "      <td>1.000000</td>\n",
              "      <td>1.000000</td>\n",
              "      <td>0.000000</td>\n",
              "      <td>0.000000</td>\n",
              "      <td>1.000000</td>\n",
              "      <td>0.000000</td>\n",
              "    </tr>\n",
              "    <tr>\n",
              "      <th>50%</th>\n",
              "      <td>50001.500000</td>\n",
              "      <td>19703.000000</td>\n",
              "      <td>1.000000</td>\n",
              "      <td>165.000000</td>\n",
              "      <td>72.000000</td>\n",
              "      <td>120.000000</td>\n",
              "      <td>80.000000</td>\n",
              "      <td>1.000000</td>\n",
              "      <td>1.000000</td>\n",
              "      <td>0.000000</td>\n",
              "      <td>0.000000</td>\n",
              "      <td>1.000000</td>\n",
              "      <td>0.000000</td>\n",
              "    </tr>\n",
              "    <tr>\n",
              "      <th>75%</th>\n",
              "      <td>74889.250000</td>\n",
              "      <td>21327.000000</td>\n",
              "      <td>2.000000</td>\n",
              "      <td>170.000000</td>\n",
              "      <td>82.000000</td>\n",
              "      <td>140.000000</td>\n",
              "      <td>90.000000</td>\n",
              "      <td>2.000000</td>\n",
              "      <td>1.000000</td>\n",
              "      <td>0.000000</td>\n",
              "      <td>0.000000</td>\n",
              "      <td>1.000000</td>\n",
              "      <td>1.000000</td>\n",
              "    </tr>\n",
              "    <tr>\n",
              "      <th>max</th>\n",
              "      <td>99999.000000</td>\n",
              "      <td>23713.000000</td>\n",
              "      <td>2.000000</td>\n",
              "      <td>250.000000</td>\n",
              "      <td>200.000000</td>\n",
              "      <td>16020.000000</td>\n",
              "      <td>11000.000000</td>\n",
              "      <td>3.000000</td>\n",
              "      <td>3.000000</td>\n",
              "      <td>1.000000</td>\n",
              "      <td>1.000000</td>\n",
              "      <td>1.000000</td>\n",
              "      <td>1.000000</td>\n",
              "    </tr>\n",
              "  </tbody>\n",
              "</table>\n",
              "</div>"
            ],
            "text/plain": [
              "                 id           age  ...        active        cardio\n",
              "count  70000.000000  70000.000000  ...  70000.000000  70000.000000\n",
              "mean   49972.419900  19468.865814  ...      0.803729      0.499700\n",
              "std    28851.302323   2467.251667  ...      0.397179      0.500003\n",
              "min        0.000000  10798.000000  ...      0.000000      0.000000\n",
              "25%    25006.750000  17664.000000  ...      1.000000      0.000000\n",
              "50%    50001.500000  19703.000000  ...      1.000000      0.000000\n",
              "75%    74889.250000  21327.000000  ...      1.000000      1.000000\n",
              "max    99999.000000  23713.000000  ...      1.000000      1.000000\n",
              "\n",
              "[8 rows x 13 columns]"
            ]
          },
          "metadata": {
            "tags": []
          },
          "execution_count": 81
        }
      ]
    },
    {
      "cell_type": "code",
      "metadata": {
        "colab": {
          "base_uri": "https://localhost:8080/"
        },
        "id": "VVGv7-y613JY",
        "outputId": "6cf1c0e0-e42f-43a0-da7c-626f7416aade"
      },
      "source": [
        "df.isnull().sum()"
      ],
      "execution_count": 82,
      "outputs": [
        {
          "output_type": "execute_result",
          "data": {
            "text/plain": [
              "id             0\n",
              "age            0\n",
              "gender         0\n",
              "height         0\n",
              "weight         0\n",
              "ap_hi          0\n",
              "ap_lo          0\n",
              "cholesterol    0\n",
              "gluc           0\n",
              "smoke          0\n",
              "alco           0\n",
              "active         0\n",
              "cardio         0\n",
              "dtype: int64"
            ]
          },
          "metadata": {
            "tags": []
          },
          "execution_count": 82
        }
      ]
    },
    {
      "cell_type": "markdown",
      "metadata": {
        "id": "C5PGroMF9TFQ"
      },
      "source": [
        "No null values are found.\n",
        "\n"
      ]
    },
    {
      "cell_type": "markdown",
      "metadata": {
        "id": "YY7NP2ycOajR"
      },
      "source": [
        "## **Removing outliers & irrelevant data**"
      ]
    },
    {
      "cell_type": "markdown",
      "metadata": {
        "id": "RMH5jtb9NUoE"
      },
      "source": [
        "Systolic blood pressure, measures the pressure in your arteries when your heart beats.\n",
        "Diastolic blood pressure, measures the pressure in your arteries when your heart rests between beats. \n",
        "Systolic blood pressure is always greater than diastolic blood pressure."
      ]
    },
    {
      "cell_type": "code",
      "metadata": {
        "colab": {
          "base_uri": "https://localhost:8080/",
          "height": 0
        },
        "id": "gPcKa-fONdjt",
        "outputId": "e6f70be9-7410-4ad9-8e61-b9cf080a550f"
      },
      "source": [
        "df[(df['ap_lo'] > df['ap_hi'])]"
      ],
      "execution_count": 83,
      "outputs": [
        {
          "output_type": "execute_result",
          "data": {
            "text/html": [
              "<div>\n",
              "<style scoped>\n",
              "    .dataframe tbody tr th:only-of-type {\n",
              "        vertical-align: middle;\n",
              "    }\n",
              "\n",
              "    .dataframe tbody tr th {\n",
              "        vertical-align: top;\n",
              "    }\n",
              "\n",
              "    .dataframe thead th {\n",
              "        text-align: right;\n",
              "    }\n",
              "</style>\n",
              "<table border=\"1\" class=\"dataframe\">\n",
              "  <thead>\n",
              "    <tr style=\"text-align: right;\">\n",
              "      <th></th>\n",
              "      <th>id</th>\n",
              "      <th>age</th>\n",
              "      <th>gender</th>\n",
              "      <th>height</th>\n",
              "      <th>weight</th>\n",
              "      <th>ap_hi</th>\n",
              "      <th>ap_lo</th>\n",
              "      <th>cholesterol</th>\n",
              "      <th>gluc</th>\n",
              "      <th>smoke</th>\n",
              "      <th>alco</th>\n",
              "      <th>active</th>\n",
              "      <th>cardio</th>\n",
              "    </tr>\n",
              "  </thead>\n",
              "  <tbody>\n",
              "    <tr>\n",
              "      <th>228</th>\n",
              "      <td>314</td>\n",
              "      <td>17489</td>\n",
              "      <td>2</td>\n",
              "      <td>183</td>\n",
              "      <td>98.0</td>\n",
              "      <td>160</td>\n",
              "      <td>1100</td>\n",
              "      <td>1</td>\n",
              "      <td>2</td>\n",
              "      <td>1</td>\n",
              "      <td>0</td>\n",
              "      <td>1</td>\n",
              "      <td>1</td>\n",
              "    </tr>\n",
              "    <tr>\n",
              "      <th>241</th>\n",
              "      <td>334</td>\n",
              "      <td>21932</td>\n",
              "      <td>2</td>\n",
              "      <td>157</td>\n",
              "      <td>60.0</td>\n",
              "      <td>160</td>\n",
              "      <td>1000</td>\n",
              "      <td>2</td>\n",
              "      <td>1</td>\n",
              "      <td>0</td>\n",
              "      <td>0</td>\n",
              "      <td>0</td>\n",
              "      <td>1</td>\n",
              "    </tr>\n",
              "    <tr>\n",
              "      <th>260</th>\n",
              "      <td>357</td>\n",
              "      <td>18217</td>\n",
              "      <td>1</td>\n",
              "      <td>150</td>\n",
              "      <td>83.0</td>\n",
              "      <td>140</td>\n",
              "      <td>800</td>\n",
              "      <td>1</td>\n",
              "      <td>1</td>\n",
              "      <td>0</td>\n",
              "      <td>0</td>\n",
              "      <td>1</td>\n",
              "      <td>1</td>\n",
              "    </tr>\n",
              "    <tr>\n",
              "      <th>329</th>\n",
              "      <td>458</td>\n",
              "      <td>23407</td>\n",
              "      <td>1</td>\n",
              "      <td>176</td>\n",
              "      <td>63.0</td>\n",
              "      <td>160</td>\n",
              "      <td>1000</td>\n",
              "      <td>2</td>\n",
              "      <td>2</td>\n",
              "      <td>0</td>\n",
              "      <td>0</td>\n",
              "      <td>0</td>\n",
              "      <td>1</td>\n",
              "    </tr>\n",
              "    <tr>\n",
              "      <th>345</th>\n",
              "      <td>482</td>\n",
              "      <td>18704</td>\n",
              "      <td>1</td>\n",
              "      <td>154</td>\n",
              "      <td>81.0</td>\n",
              "      <td>140</td>\n",
              "      <td>1000</td>\n",
              "      <td>2</td>\n",
              "      <td>1</td>\n",
              "      <td>0</td>\n",
              "      <td>0</td>\n",
              "      <td>1</td>\n",
              "      <td>1</td>\n",
              "    </tr>\n",
              "    <tr>\n",
              "      <th>...</th>\n",
              "      <td>...</td>\n",
              "      <td>...</td>\n",
              "      <td>...</td>\n",
              "      <td>...</td>\n",
              "      <td>...</td>\n",
              "      <td>...</td>\n",
              "      <td>...</td>\n",
              "      <td>...</td>\n",
              "      <td>...</td>\n",
              "      <td>...</td>\n",
              "      <td>...</td>\n",
              "      <td>...</td>\n",
              "      <td>...</td>\n",
              "    </tr>\n",
              "    <tr>\n",
              "      <th>69771</th>\n",
              "      <td>99659</td>\n",
              "      <td>23330</td>\n",
              "      <td>1</td>\n",
              "      <td>167</td>\n",
              "      <td>81.0</td>\n",
              "      <td>160</td>\n",
              "      <td>1000</td>\n",
              "      <td>1</td>\n",
              "      <td>1</td>\n",
              "      <td>0</td>\n",
              "      <td>0</td>\n",
              "      <td>1</td>\n",
              "      <td>1</td>\n",
              "    </tr>\n",
              "    <tr>\n",
              "      <th>69872</th>\n",
              "      <td>99798</td>\n",
              "      <td>21808</td>\n",
              "      <td>1</td>\n",
              "      <td>152</td>\n",
              "      <td>56.0</td>\n",
              "      <td>160</td>\n",
              "      <td>1000</td>\n",
              "      <td>1</td>\n",
              "      <td>1</td>\n",
              "      <td>0</td>\n",
              "      <td>0</td>\n",
              "      <td>1</td>\n",
              "      <td>1</td>\n",
              "    </tr>\n",
              "    <tr>\n",
              "      <th>69878</th>\n",
              "      <td>99807</td>\n",
              "      <td>21239</td>\n",
              "      <td>2</td>\n",
              "      <td>168</td>\n",
              "      <td>95.0</td>\n",
              "      <td>160</td>\n",
              "      <td>1000</td>\n",
              "      <td>1</td>\n",
              "      <td>1</td>\n",
              "      <td>0</td>\n",
              "      <td>0</td>\n",
              "      <td>1</td>\n",
              "      <td>1</td>\n",
              "    </tr>\n",
              "    <tr>\n",
              "      <th>69885</th>\n",
              "      <td>99816</td>\n",
              "      <td>22417</td>\n",
              "      <td>2</td>\n",
              "      <td>166</td>\n",
              "      <td>78.0</td>\n",
              "      <td>170</td>\n",
              "      <td>1000</td>\n",
              "      <td>1</td>\n",
              "      <td>1</td>\n",
              "      <td>0</td>\n",
              "      <td>0</td>\n",
              "      <td>0</td>\n",
              "      <td>0</td>\n",
              "    </tr>\n",
              "    <tr>\n",
              "      <th>69967</th>\n",
              "      <td>99955</td>\n",
              "      <td>21416</td>\n",
              "      <td>2</td>\n",
              "      <td>168</td>\n",
              "      <td>63.0</td>\n",
              "      <td>140</td>\n",
              "      <td>1000</td>\n",
              "      <td>1</td>\n",
              "      <td>1</td>\n",
              "      <td>0</td>\n",
              "      <td>0</td>\n",
              "      <td>1</td>\n",
              "      <td>1</td>\n",
              "    </tr>\n",
              "  </tbody>\n",
              "</table>\n",
              "<p>1234 rows × 13 columns</p>\n",
              "</div>"
            ],
            "text/plain": [
              "          id    age  gender  height  weight  ...  gluc  smoke  alco  active  cardio\n",
              "228      314  17489       2     183    98.0  ...     2      1     0       1       1\n",
              "241      334  21932       2     157    60.0  ...     1      0     0       0       1\n",
              "260      357  18217       1     150    83.0  ...     1      0     0       1       1\n",
              "329      458  23407       1     176    63.0  ...     2      0     0       0       1\n",
              "345      482  18704       1     154    81.0  ...     1      0     0       1       1\n",
              "...      ...    ...     ...     ...     ...  ...   ...    ...   ...     ...     ...\n",
              "69771  99659  23330       1     167    81.0  ...     1      0     0       1       1\n",
              "69872  99798  21808       1     152    56.0  ...     1      0     0       1       1\n",
              "69878  99807  21239       2     168    95.0  ...     1      0     0       1       1\n",
              "69885  99816  22417       2     166    78.0  ...     1      0     0       0       0\n",
              "69967  99955  21416       2     168    63.0  ...     1      0     0       1       1\n",
              "\n",
              "[1234 rows x 13 columns]"
            ]
          },
          "metadata": {
            "tags": []
          },
          "execution_count": 83
        }
      ]
    },
    {
      "cell_type": "markdown",
      "metadata": {
        "id": "fZs_UQGXNj_c"
      },
      "source": [
        "There are 1000+ rows of data where systoic blood pressure > diastolic blood pressure. This is not possible. Hence we drop those rows of data."
      ]
    },
    {
      "cell_type": "code",
      "metadata": {
        "id": "gu9jQyjnNfAV"
      },
      "source": [
        "df.drop(df[(df['ap_lo'] > df['ap_hi'])].index,inplace=True)"
      ],
      "execution_count": 84,
      "outputs": []
    },
    {
      "cell_type": "code",
      "metadata": {
        "colab": {
          "base_uri": "https://localhost:8080/",
          "height": 0
        },
        "id": "V7Ct-slFN8nD",
        "outputId": "fe8e2600-5676-4797-d74a-81bdc6ecb238"
      },
      "source": [
        "df.describe()"
      ],
      "execution_count": 85,
      "outputs": [
        {
          "output_type": "execute_result",
          "data": {
            "text/html": [
              "<div>\n",
              "<style scoped>\n",
              "    .dataframe tbody tr th:only-of-type {\n",
              "        vertical-align: middle;\n",
              "    }\n",
              "\n",
              "    .dataframe tbody tr th {\n",
              "        vertical-align: top;\n",
              "    }\n",
              "\n",
              "    .dataframe thead th {\n",
              "        text-align: right;\n",
              "    }\n",
              "</style>\n",
              "<table border=\"1\" class=\"dataframe\">\n",
              "  <thead>\n",
              "    <tr style=\"text-align: right;\">\n",
              "      <th></th>\n",
              "      <th>id</th>\n",
              "      <th>age</th>\n",
              "      <th>gender</th>\n",
              "      <th>height</th>\n",
              "      <th>weight</th>\n",
              "      <th>ap_hi</th>\n",
              "      <th>ap_lo</th>\n",
              "      <th>cholesterol</th>\n",
              "      <th>gluc</th>\n",
              "      <th>smoke</th>\n",
              "      <th>alco</th>\n",
              "      <th>active</th>\n",
              "      <th>cardio</th>\n",
              "    </tr>\n",
              "  </thead>\n",
              "  <tbody>\n",
              "    <tr>\n",
              "      <th>count</th>\n",
              "      <td>68766.000000</td>\n",
              "      <td>68766.000000</td>\n",
              "      <td>68766.000000</td>\n",
              "      <td>68766.000000</td>\n",
              "      <td>68766.000000</td>\n",
              "      <td>68766.000000</td>\n",
              "      <td>68766.000000</td>\n",
              "      <td>68766.000000</td>\n",
              "      <td>68766.000000</td>\n",
              "      <td>68766.000000</td>\n",
              "      <td>68766.000000</td>\n",
              "      <td>68766.000000</td>\n",
              "      <td>68766.000000</td>\n",
              "    </tr>\n",
              "    <tr>\n",
              "      <th>mean</th>\n",
              "      <td>49976.959878</td>\n",
              "      <td>19464.145188</td>\n",
              "      <td>1.348617</td>\n",
              "      <td>164.359916</td>\n",
              "      <td>74.114962</td>\n",
              "      <td>128.839601</td>\n",
              "      <td>81.245776</td>\n",
              "      <td>1.364657</td>\n",
              "      <td>1.225577</td>\n",
              "      <td>0.087878</td>\n",
              "      <td>0.053340</td>\n",
              "      <td>0.803449</td>\n",
              "      <td>0.494765</td>\n",
              "    </tr>\n",
              "    <tr>\n",
              "      <th>std</th>\n",
              "      <td>28842.637757</td>\n",
              "      <td>2468.319995</td>\n",
              "      <td>0.476536</td>\n",
              "      <td>8.190703</td>\n",
              "      <td>14.332163</td>\n",
              "      <td>155.201462</td>\n",
              "      <td>9.694132</td>\n",
              "      <td>0.678876</td>\n",
              "      <td>0.571441</td>\n",
              "      <td>0.283119</td>\n",
              "      <td>0.224713</td>\n",
              "      <td>0.397392</td>\n",
              "      <td>0.499976</td>\n",
              "    </tr>\n",
              "    <tr>\n",
              "      <th>min</th>\n",
              "      <td>0.000000</td>\n",
              "      <td>10798.000000</td>\n",
              "      <td>1.000000</td>\n",
              "      <td>55.000000</td>\n",
              "      <td>11.000000</td>\n",
              "      <td>12.000000</td>\n",
              "      <td>-70.000000</td>\n",
              "      <td>1.000000</td>\n",
              "      <td>1.000000</td>\n",
              "      <td>0.000000</td>\n",
              "      <td>0.000000</td>\n",
              "      <td>0.000000</td>\n",
              "      <td>0.000000</td>\n",
              "    </tr>\n",
              "    <tr>\n",
              "      <th>25%</th>\n",
              "      <td>25008.250000</td>\n",
              "      <td>17657.000000</td>\n",
              "      <td>1.000000</td>\n",
              "      <td>159.000000</td>\n",
              "      <td>65.000000</td>\n",
              "      <td>120.000000</td>\n",
              "      <td>80.000000</td>\n",
              "      <td>1.000000</td>\n",
              "      <td>1.000000</td>\n",
              "      <td>0.000000</td>\n",
              "      <td>0.000000</td>\n",
              "      <td>1.000000</td>\n",
              "      <td>0.000000</td>\n",
              "    </tr>\n",
              "    <tr>\n",
              "      <th>50%</th>\n",
              "      <td>50020.500000</td>\n",
              "      <td>19701.000000</td>\n",
              "      <td>1.000000</td>\n",
              "      <td>165.000000</td>\n",
              "      <td>72.000000</td>\n",
              "      <td>120.000000</td>\n",
              "      <td>80.000000</td>\n",
              "      <td>1.000000</td>\n",
              "      <td>1.000000</td>\n",
              "      <td>0.000000</td>\n",
              "      <td>0.000000</td>\n",
              "      <td>1.000000</td>\n",
              "      <td>0.000000</td>\n",
              "    </tr>\n",
              "    <tr>\n",
              "      <th>75%</th>\n",
              "      <td>74865.750000</td>\n",
              "      <td>21324.000000</td>\n",
              "      <td>2.000000</td>\n",
              "      <td>170.000000</td>\n",
              "      <td>82.000000</td>\n",
              "      <td>140.000000</td>\n",
              "      <td>90.000000</td>\n",
              "      <td>2.000000</td>\n",
              "      <td>1.000000</td>\n",
              "      <td>0.000000</td>\n",
              "      <td>0.000000</td>\n",
              "      <td>1.000000</td>\n",
              "      <td>1.000000</td>\n",
              "    </tr>\n",
              "    <tr>\n",
              "      <th>max</th>\n",
              "      <td>99999.000000</td>\n",
              "      <td>23713.000000</td>\n",
              "      <td>2.000000</td>\n",
              "      <td>250.000000</td>\n",
              "      <td>200.000000</td>\n",
              "      <td>16020.000000</td>\n",
              "      <td>182.000000</td>\n",
              "      <td>3.000000</td>\n",
              "      <td>3.000000</td>\n",
              "      <td>1.000000</td>\n",
              "      <td>1.000000</td>\n",
              "      <td>1.000000</td>\n",
              "      <td>1.000000</td>\n",
              "    </tr>\n",
              "  </tbody>\n",
              "</table>\n",
              "</div>"
            ],
            "text/plain": [
              "                 id           age  ...        active        cardio\n",
              "count  68766.000000  68766.000000  ...  68766.000000  68766.000000\n",
              "mean   49976.959878  19464.145188  ...      0.803449      0.494765\n",
              "std    28842.637757   2468.319995  ...      0.397392      0.499976\n",
              "min        0.000000  10798.000000  ...      0.000000      0.000000\n",
              "25%    25008.250000  17657.000000  ...      1.000000      0.000000\n",
              "50%    50020.500000  19701.000000  ...      1.000000      0.000000\n",
              "75%    74865.750000  21324.000000  ...      1.000000      1.000000\n",
              "max    99999.000000  23713.000000  ...      1.000000      1.000000\n",
              "\n",
              "[8 rows x 13 columns]"
            ]
          },
          "metadata": {
            "tags": []
          },
          "execution_count": 85
        }
      ]
    },
    {
      "cell_type": "markdown",
      "metadata": {
        "id": "Z3-chcePLnk4"
      },
      "source": [
        "We also notice than min & max values of ap_hi and ap_lo are outliers. We must remove them. \n",
        "We confirm this by drawing a box-plot of that variable and see outliers.\n",
        "We also check for outliers on other fields too."
      ]
    },
    {
      "cell_type": "code",
      "metadata": {
        "colab": {
          "base_uri": "https://localhost:8080/",
          "height": 0
        },
        "id": "hnze1obXQYaB",
        "outputId": "ba61f0ff-6b41-477a-caa9-50e295f0d464"
      },
      "source": [
        "import seaborn as sns\n",
        "sns.boxplot(x = df[\"ap_hi\"])"
      ],
      "execution_count": 86,
      "outputs": [
        {
          "output_type": "execute_result",
          "data": {
            "text/plain": [
              "<matplotlib.axes._subplots.AxesSubplot at 0x7f435b59fc90>"
            ]
          },
          "metadata": {
            "tags": []
          },
          "execution_count": 86
        },
        {
          "output_type": "display_data",
          "data": {
            "image/png": "[encoded data removed]",
            "text/plain": [
              "<Figure size 432x288 with 1 Axes>"
            ]
          },
          "metadata": {
            "tags": [],
            "needs_background": "light"
          }
        }
      ]
    },
    {
      "cell_type": "code",
      "metadata": {
        "id": "G7NkGNJbQpzT",
        "colab": {
          "base_uri": "https://localhost:8080/",
          "height": 0
        },
        "outputId": "bf2d06d9-ac41-480f-bfca-4f22f9043a5b"
      },
      "source": [
        "sns.boxplot(x = df[\"ap_lo\"])"
      ],
      "execution_count": 87,
      "outputs": [
        {
          "output_type": "execute_result",
          "data": {
            "text/plain": [
              "<matplotlib.axes._subplots.AxesSubplot at 0x7f435b05c4d0>"
            ]
          },
          "metadata": {
            "tags": []
          },
          "execution_count": 87
        },
        {
          "output_type": "display_data",
          "data": {
            "image/png": "[encoded data removed]",
            "text/plain": [
              "<Figure size 432x288 with 1 Axes>"
            ]
          },
          "metadata": {
            "tags": [],
            "needs_background": "light"
          }
        }
      ]
    },
    {
      "cell_type": "code",
      "metadata": {
        "id": "VQw6A5INQ1R7"
      },
      "source": [
        "def remove_outliers(field):\n",
        "    quartile1 = df[field].quantile(0.25)\n",
        "    quartile2 = df[field].quantile(0.50)\n",
        "    quartile3 = df[field].quantile(0.75)\n",
        "    IQR = quartile3 - quartile1\n",
        "    lower_bound = quartile1 - 1.5*IQR\n",
        "    upper_bound = quartile3 + 1.5*IQR\n",
        "\n",
        "    remove_filter = df[(df[field] > upper_bound) | (df[field] < lower_bound)]\n",
        "    print(\"Removing these columns because they are outliers for field {}\".format(field))\n",
        "    print(remove_filter)\n",
        "    df.drop(remove_filter.index, inplace = True)"
      ],
      "execution_count": 88,
      "outputs": []
    },
    {
      "cell_type": "code",
      "metadata": {
        "id": "s1Qdj31QLnN9",
        "colab": {
          "base_uri": "https://localhost:8080/"
        },
        "outputId": "f353b63c-334c-43f7-89ca-65a259ab84f2"
      },
      "source": [
        "remove_outliers(\"ap_hi\")"
      ],
      "execution_count": 89,
      "outputs": [
        {
          "output_type": "stream",
          "text": [
            "Removing these columns because they are outliers for field ap_hi\n",
            "          id    age  gender  height  weight  ...  gluc  smoke  alco  active  cardio\n",
            "59        74  20431       1     164    64.0  ...     1      1     0       1       1\n",
            "61        79  20960       2     165    75.0  ...     1      0     0       1       1\n",
            "101      136  18718       1     167    80.0  ...     1      0     1       0       0\n",
            "209      288  18169       2     172    62.0  ...     1      0     0       1       0\n",
            "230      318  23376       2     175    75.0  ...     1      1     1       1       1\n",
            "...      ...    ...     ...     ...     ...  ...   ...    ...   ...     ...     ...\n",
            "69587  99398  23223       1     169   101.0  ...     1      0     0       0       1\n",
            "69593  99405  16781       2     179    93.0  ...     2      0     1       1       1\n",
            "69830  99734  22552       2     163    67.0  ...     1      0     0       0       1\n",
            "69894  99835  16857       1     160    70.0  ...     2      0     0       1       1\n",
            "69997  99996  19066       2     183   105.0  ...     1      0     1       0       1\n",
            "\n",
            "[1058 rows x 13 columns]\n"
          ],
          "name": "stdout"
        }
      ]
    },
    {
      "cell_type": "code",
      "metadata": {
        "id": "FjeIrxWDR1IW",
        "colab": {
          "base_uri": "https://localhost:8080/"
        },
        "outputId": "ca431d37-9076-4dcf-bedb-a279f201aa42"
      },
      "source": [
        "remove_outliers(\"ap_lo\")"
      ],
      "execution_count": 90,
      "outputs": [
        {
          "output_type": "stream",
          "text": [
            "Removing these columns because they are outliers for field ap_lo\n",
            "          id    age  gender  height  weight  ...  gluc  smoke  alco  active  cardio\n",
            "4          4  17474       1     156    56.0  ...     1      0     0       0       0\n",
            "9         14  19834       1     164    68.0  ...     1      0     0       0       0\n",
            "23        33  23376       2     156    45.0  ...     1      0     0       1       0\n",
            "43        58  20556       2     159    63.0  ...     1      0     0       1       1\n",
            "50        65  18238       1     160    75.0  ...     1      0     0       0       0\n",
            "...      ...    ...     ...     ...     ...  ...   ...    ...   ...     ...     ...\n",
            "69922  99878  15334       1     165    62.0  ...     1      0     0       1       0\n",
            "69929  99891  19834       1     164    85.0  ...     3      0     0       1       1\n",
            "69932  99897  15243       2     171    67.0  ...     1      0     0       1       0\n",
            "69937  99908  14489       1     160    53.0  ...     1      0     0       1       0\n",
            "69978  99967  18800       1     163    78.0  ...     1      0     0       1       1\n",
            "\n",
            "[3208 rows x 13 columns]\n"
          ],
          "name": "stdout"
        }
      ]
    },
    {
      "cell_type": "code",
      "metadata": {
        "id": "XV6-pakZL0a2",
        "colab": {
          "base_uri": "https://localhost:8080/",
          "height": 0
        },
        "outputId": "b02cc7b3-22e9-4c35-bf8b-7879398a8ecd"
      },
      "source": [
        "df.describe()"
      ],
      "execution_count": 91,
      "outputs": [
        {
          "output_type": "execute_result",
          "data": {
            "text/html": [
              "<div>\n",
              "<style scoped>\n",
              "    .dataframe tbody tr th:only-of-type {\n",
              "        vertical-align: middle;\n",
              "    }\n",
              "\n",
              "    .dataframe tbody tr th {\n",
              "        vertical-align: top;\n",
              "    }\n",
              "\n",
              "    .dataframe thead th {\n",
              "        text-align: right;\n",
              "    }\n",
              "</style>\n",
              "<table border=\"1\" class=\"dataframe\">\n",
              "  <thead>\n",
              "    <tr style=\"text-align: right;\">\n",
              "      <th></th>\n",
              "      <th>id</th>\n",
              "      <th>age</th>\n",
              "      <th>gender</th>\n",
              "      <th>height</th>\n",
              "      <th>weight</th>\n",
              "      <th>ap_hi</th>\n",
              "      <th>ap_lo</th>\n",
              "      <th>cholesterol</th>\n",
              "      <th>gluc</th>\n",
              "      <th>smoke</th>\n",
              "      <th>alco</th>\n",
              "      <th>active</th>\n",
              "      <th>cardio</th>\n",
              "    </tr>\n",
              "  </thead>\n",
              "  <tbody>\n",
              "    <tr>\n",
              "      <th>count</th>\n",
              "      <td>64500.000000</td>\n",
              "      <td>64500.000000</td>\n",
              "      <td>64500.000000</td>\n",
              "      <td>64500.000000</td>\n",
              "      <td>64500.000000</td>\n",
              "      <td>64500.000000</td>\n",
              "      <td>64500.000000</td>\n",
              "      <td>64500.000000</td>\n",
              "      <td>64500.000000</td>\n",
              "      <td>64500.000000</td>\n",
              "      <td>64500.000000</td>\n",
              "      <td>64500.000000</td>\n",
              "      <td>64500.000000</td>\n",
              "    </tr>\n",
              "    <tr>\n",
              "      <th>mean</th>\n",
              "      <td>49966.534946</td>\n",
              "      <td>19491.981225</td>\n",
              "      <td>1.351876</td>\n",
              "      <td>164.456961</td>\n",
              "      <td>74.261272</td>\n",
              "      <td>126.624527</td>\n",
              "      <td>81.788868</td>\n",
              "      <td>1.364264</td>\n",
              "      <td>1.225659</td>\n",
              "      <td>0.087612</td>\n",
              "      <td>0.053054</td>\n",
              "      <td>0.803488</td>\n",
              "      <td>0.498388</td>\n",
              "    </tr>\n",
              "    <tr>\n",
              "      <th>std</th>\n",
              "      <td>28856.092134</td>\n",
              "      <td>2458.769607</td>\n",
              "      <td>0.477559</td>\n",
              "      <td>8.148030</td>\n",
              "      <td>14.142237</td>\n",
              "      <td>14.383593</td>\n",
              "      <td>7.712722</td>\n",
              "      <td>0.680277</td>\n",
              "      <td>0.572670</td>\n",
              "      <td>0.282733</td>\n",
              "      <td>0.224143</td>\n",
              "      <td>0.397363</td>\n",
              "      <td>0.500001</td>\n",
              "    </tr>\n",
              "    <tr>\n",
              "      <th>min</th>\n",
              "      <td>0.000000</td>\n",
              "      <td>10859.000000</td>\n",
              "      <td>1.000000</td>\n",
              "      <td>55.000000</td>\n",
              "      <td>11.000000</td>\n",
              "      <td>90.000000</td>\n",
              "      <td>65.000000</td>\n",
              "      <td>1.000000</td>\n",
              "      <td>1.000000</td>\n",
              "      <td>0.000000</td>\n",
              "      <td>0.000000</td>\n",
              "      <td>0.000000</td>\n",
              "      <td>0.000000</td>\n",
              "    </tr>\n",
              "    <tr>\n",
              "      <th>25%</th>\n",
              "      <td>24923.750000</td>\n",
              "      <td>17720.000000</td>\n",
              "      <td>1.000000</td>\n",
              "      <td>159.000000</td>\n",
              "      <td>65.000000</td>\n",
              "      <td>120.000000</td>\n",
              "      <td>80.000000</td>\n",
              "      <td>1.000000</td>\n",
              "      <td>1.000000</td>\n",
              "      <td>0.000000</td>\n",
              "      <td>0.000000</td>\n",
              "      <td>1.000000</td>\n",
              "      <td>0.000000</td>\n",
              "    </tr>\n",
              "    <tr>\n",
              "      <th>50%</th>\n",
              "      <td>50009.500000</td>\n",
              "      <td>19716.000000</td>\n",
              "      <td>1.000000</td>\n",
              "      <td>165.000000</td>\n",
              "      <td>72.000000</td>\n",
              "      <td>120.000000</td>\n",
              "      <td>80.000000</td>\n",
              "      <td>1.000000</td>\n",
              "      <td>1.000000</td>\n",
              "      <td>0.000000</td>\n",
              "      <td>0.000000</td>\n",
              "      <td>1.000000</td>\n",
              "      <td>0.000000</td>\n",
              "    </tr>\n",
              "    <tr>\n",
              "      <th>75%</th>\n",
              "      <td>74879.250000</td>\n",
              "      <td>21343.000000</td>\n",
              "      <td>2.000000</td>\n",
              "      <td>170.000000</td>\n",
              "      <td>82.000000</td>\n",
              "      <td>140.000000</td>\n",
              "      <td>90.000000</td>\n",
              "      <td>1.000000</td>\n",
              "      <td>1.000000</td>\n",
              "      <td>0.000000</td>\n",
              "      <td>0.000000</td>\n",
              "      <td>1.000000</td>\n",
              "      <td>1.000000</td>\n",
              "    </tr>\n",
              "    <tr>\n",
              "      <th>max</th>\n",
              "      <td>99999.000000</td>\n",
              "      <td>23713.000000</td>\n",
              "      <td>2.000000</td>\n",
              "      <td>250.000000</td>\n",
              "      <td>200.000000</td>\n",
              "      <td>170.000000</td>\n",
              "      <td>105.000000</td>\n",
              "      <td>3.000000</td>\n",
              "      <td>3.000000</td>\n",
              "      <td>1.000000</td>\n",
              "      <td>1.000000</td>\n",
              "      <td>1.000000</td>\n",
              "      <td>1.000000</td>\n",
              "    </tr>\n",
              "  </tbody>\n",
              "</table>\n",
              "</div>"
            ],
            "text/plain": [
              "                 id           age  ...        active        cardio\n",
              "count  64500.000000  64500.000000  ...  64500.000000  64500.000000\n",
              "mean   49966.534946  19491.981225  ...      0.803488      0.498388\n",
              "std    28856.092134   2458.769607  ...      0.397363      0.500001\n",
              "min        0.000000  10859.000000  ...      0.000000      0.000000\n",
              "25%    24923.750000  17720.000000  ...      1.000000      0.000000\n",
              "50%    50009.500000  19716.000000  ...      1.000000      0.000000\n",
              "75%    74879.250000  21343.000000  ...      1.000000      1.000000\n",
              "max    99999.000000  23713.000000  ...      1.000000      1.000000\n",
              "\n",
              "[8 rows x 13 columns]"
            ]
          },
          "metadata": {
            "tags": []
          },
          "execution_count": 91
        }
      ]
    },
    {
      "cell_type": "markdown",
      "metadata": {
        "id": "EYRINgRhSR07"
      },
      "source": [
        "By now, we have dropped 5500 rows of data"
      ]
    },
    {
      "cell_type": "markdown",
      "metadata": {
        "id": "cVc8ejfs9VWz"
      },
      "source": [
        "## **Splitting into dependent and independent variables**"
      ]
    },
    {
      "cell_type": "markdown",
      "metadata": {
        "id": "RT6va48sz-fO"
      },
      "source": [
        "ID column is not necessary for classification, so we can drop it."
      ]
    },
    {
      "cell_type": "code",
      "metadata": {
        "id": "SooVMhr1j31N"
      },
      "source": [
        "df.drop(\"id\",axis=1,inplace=True)"
      ],
      "execution_count": 92,
      "outputs": []
    },
    {
      "cell_type": "code",
      "metadata": {
        "id": "5EKuoluF7EG5",
        "colab": {
          "base_uri": "https://localhost:8080/",
          "height": 0
        },
        "outputId": "acea0961-be0a-46cb-f7e1-52b9f18e10ad"
      },
      "source": [
        "df.head()"
      ],
      "execution_count": 93,
      "outputs": [
        {
          "output_type": "execute_result",
          "data": {
            "text/html": [
              "<div>\n",
              "<style scoped>\n",
              "    .dataframe tbody tr th:only-of-type {\n",
              "        vertical-align: middle;\n",
              "    }\n",
              "\n",
              "    .dataframe tbody tr th {\n",
              "        vertical-align: top;\n",
              "    }\n",
              "\n",
              "    .dataframe thead th {\n",
              "        text-align: right;\n",
              "    }\n",
              "</style>\n",
              "<table border=\"1\" class=\"dataframe\">\n",
              "  <thead>\n",
              "    <tr style=\"text-align: right;\">\n",
              "      <th></th>\n",
              "      <th>age</th>\n",
              "      <th>gender</th>\n",
              "      <th>height</th>\n",
              "      <th>weight</th>\n",
              "      <th>ap_hi</th>\n",
              "      <th>ap_lo</th>\n",
              "      <th>cholesterol</th>\n",
              "      <th>gluc</th>\n",
              "      <th>smoke</th>\n",
              "      <th>alco</th>\n",
              "      <th>active</th>\n",
              "      <th>cardio</th>\n",
              "    </tr>\n",
              "  </thead>\n",
              "  <tbody>\n",
              "    <tr>\n",
              "      <th>0</th>\n",
              "      <td>18393</td>\n",
              "      <td>2</td>\n",
              "      <td>168</td>\n",
              "      <td>62.0</td>\n",
              "      <td>110</td>\n",
              "      <td>80</td>\n",
              "      <td>1</td>\n",
              "      <td>1</td>\n",
              "      <td>0</td>\n",
              "      <td>0</td>\n",
              "      <td>1</td>\n",
              "      <td>0</td>\n",
              "    </tr>\n",
              "    <tr>\n",
              "      <th>1</th>\n",
              "      <td>20228</td>\n",
              "      <td>1</td>\n",
              "      <td>156</td>\n",
              "      <td>85.0</td>\n",
              "      <td>140</td>\n",
              "      <td>90</td>\n",
              "      <td>3</td>\n",
              "      <td>1</td>\n",
              "      <td>0</td>\n",
              "      <td>0</td>\n",
              "      <td>1</td>\n",
              "      <td>1</td>\n",
              "    </tr>\n",
              "    <tr>\n",
              "      <th>2</th>\n",
              "      <td>18857</td>\n",
              "      <td>1</td>\n",
              "      <td>165</td>\n",
              "      <td>64.0</td>\n",
              "      <td>130</td>\n",
              "      <td>70</td>\n",
              "      <td>3</td>\n",
              "      <td>1</td>\n",
              "      <td>0</td>\n",
              "      <td>0</td>\n",
              "      <td>0</td>\n",
              "      <td>1</td>\n",
              "    </tr>\n",
              "    <tr>\n",
              "      <th>3</th>\n",
              "      <td>17623</td>\n",
              "      <td>2</td>\n",
              "      <td>169</td>\n",
              "      <td>82.0</td>\n",
              "      <td>150</td>\n",
              "      <td>100</td>\n",
              "      <td>1</td>\n",
              "      <td>1</td>\n",
              "      <td>0</td>\n",
              "      <td>0</td>\n",
              "      <td>1</td>\n",
              "      <td>1</td>\n",
              "    </tr>\n",
              "    <tr>\n",
              "      <th>5</th>\n",
              "      <td>21914</td>\n",
              "      <td>1</td>\n",
              "      <td>151</td>\n",
              "      <td>67.0</td>\n",
              "      <td>120</td>\n",
              "      <td>80</td>\n",
              "      <td>2</td>\n",
              "      <td>2</td>\n",
              "      <td>0</td>\n",
              "      <td>0</td>\n",
              "      <td>0</td>\n",
              "      <td>0</td>\n",
              "    </tr>\n",
              "  </tbody>\n",
              "</table>\n",
              "</div>"
            ],
            "text/plain": [
              "     age  gender  height  weight  ap_hi  ...  gluc  smoke  alco  active  cardio\n",
              "0  18393       2     168    62.0    110  ...     1      0     0       1       0\n",
              "1  20228       1     156    85.0    140  ...     1      0     0       1       1\n",
              "2  18857       1     165    64.0    130  ...     1      0     0       0       1\n",
              "3  17623       2     169    82.0    150  ...     1      0     0       1       1\n",
              "5  21914       1     151    67.0    120  ...     2      0     0       0       0\n",
              "\n",
              "[5 rows x 12 columns]"
            ]
          },
          "metadata": {
            "tags": []
          },
          "execution_count": 93
        }
      ]
    },
    {
      "cell_type": "code",
      "metadata": {
        "id": "bGZakXpn2GSi",
        "colab": {
          "base_uri": "https://localhost:8080/"
        },
        "outputId": "1490f5d6-a52a-4841-a48a-b667e31fb1c4"
      },
      "source": [
        "x = df.iloc[:,:-1].values\n",
        "x\n",
        "print(x[0])"
      ],
      "execution_count": 94,
      "outputs": [
        {
          "output_type": "stream",
          "text": [
            "[1.8393e+04 2.0000e+00 1.6800e+02 6.2000e+01 1.1000e+02 8.0000e+01\n",
            " 1.0000e+00 1.0000e+00 0.0000e+00 0.0000e+00 1.0000e+00]\n"
          ],
          "name": "stdout"
        }
      ]
    },
    {
      "cell_type": "code",
      "metadata": {
        "id": "O2vVbwYU2aHA",
        "colab": {
          "base_uri": "https://localhost:8080/"
        },
        "outputId": "0088b81e-1878-45ff-99a4-5013105293b4"
      },
      "source": [
        "y = df.iloc[:,-1].values\n",
        "y"
      ],
      "execution_count": 95,
      "outputs": [
        {
          "output_type": "execute_result",
          "data": {
            "text/plain": [
              "array([0, 1, 1, ..., 1, 1, 0])"
            ]
          },
          "metadata": {
            "tags": []
          },
          "execution_count": 95
        }
      ]
    },
    {
      "cell_type": "markdown",
      "metadata": {
        "id": "Tr3re3F49f0A"
      },
      "source": [
        "## **Splitting into training and testing set**"
      ]
    },
    {
      "cell_type": "markdown",
      "metadata": {
        "id": "4CDd_42d0F-8"
      },
      "source": [
        "We split the dataset into training & testing set in ratio of 80:20"
      ]
    },
    {
      "cell_type": "code",
      "metadata": {
        "id": "az923FPw2iXR"
      },
      "source": [
        "from sklearn.model_selection import train_test_split\n",
        "x_train, x_test, y_train, y_test = train_test_split(x, y, test_size = 0.2, random_state = 1)"
      ],
      "execution_count": 96,
      "outputs": []
    },
    {
      "cell_type": "markdown",
      "metadata": {
        "id": "nMp17Fe19jcD"
      },
      "source": [
        "## **Standardising values in independent variable**"
      ]
    },
    {
      "cell_type": "markdown",
      "metadata": {
        "id": "i5TrWEw70Y54"
      },
      "source": [
        "We use StandardScaler library for normalising values in X. StandardScaler calculates standard score of sample x as (x-u)/s, where u is mean of training samples & s is standard deviation"
      ]
    },
    {
      "cell_type": "code",
      "metadata": {
        "id": "HmLtDoiC2xEk"
      },
      "source": [
        "from sklearn.preprocessing import StandardScaler\n",
        "sc = StandardScaler()\n",
        "x_train = sc.fit_transform(x_train)\n",
        "x_test = sc.transform(x_test)"
      ],
      "execution_count": 97,
      "outputs": []
    },
    {
      "cell_type": "code",
      "metadata": {
        "id": "efoA5Hf0gedT",
        "colab": {
          "base_uri": "https://localhost:8080/"
        },
        "outputId": "245910c2-0982-49d0-87d2-754676dfa0b6"
      },
      "source": [
        "x_train"
      ],
      "execution_count": 98,
      "outputs": [
        {
          "output_type": "execute_result",
          "data": {
            "text/plain": [
              "array([[-1.67444759, -0.73880703,  0.6777486 , ..., -0.31048783,\n",
              "        -0.23758402,  0.49332899],\n",
              "       [ 1.27937276, -0.73880703, -0.79284022, ..., -0.31048783,\n",
              "        -0.23758402,  0.49332899],\n",
              "       [ 0.95333596,  1.35353341,  0.80029767, ..., -0.31048783,\n",
              "        -0.23758402,  0.49332899],\n",
              "       ...,\n",
              "       [ 0.0730772 , -0.73880703, -0.05754581, ..., -0.31048783,\n",
              "        -0.23758402, -2.02704487],\n",
              "       [ 0.31669125, -0.73880703,  0.43265046, ..., -0.31048783,\n",
              "        -0.23758402,  0.49332899],\n",
              "       [-0.45353517, -0.73880703, -1.2830365 , ..., -0.31048783,\n",
              "        -0.23758402, -2.02704487]])"
            ]
          },
          "metadata": {
            "tags": []
          },
          "execution_count": 98
        }
      ]
    },
    {
      "cell_type": "markdown",
      "metadata": {
        "id": "-g3BAwfA9o4g"
      },
      "source": [
        "## **Logistic Regression**"
      ]
    },
    {
      "cell_type": "markdown",
      "metadata": {
        "id": "Xc91fc6h1aVm"
      },
      "source": [
        "We have defined an array to collect accuracies & confusion matrices of the models we are going to use, for later comparison."
      ]
    },
    {
      "cell_type": "code",
      "metadata": {
        "id": "Xl6aqZEp-PlY"
      },
      "source": [
        "models = [\"Logistic Regression\", \"K Nearest Neighbors\", \"Decision tree classifier\"]\n",
        "accuracies = []\n",
        "confusion_matrices = []"
      ],
      "execution_count": 99,
      "outputs": []
    },
    {
      "cell_type": "markdown",
      "metadata": {
        "id": "3Pe3387S1SpZ"
      },
      "source": [
        "A utility function for displaying different elements of confusion matrix for ease of use."
      ]
    },
    {
      "cell_type": "code",
      "metadata": {
        "id": "tuUldKTLqA0Z"
      },
      "source": [
        "def describe_confusion_matrix( cm ):\n",
        "    print(\"True positives: {}\".format(cm[1][1]))\n",
        "    print(\"True negatives: {}\".format(cm[0][0]))\n",
        "    print(\"False positives: {}\".format(cm[0][1]))\n",
        "    print(\"False negatives: {}\".format(cm[1][0]))\n",
        "    "
      ],
      "execution_count": 100,
      "outputs": []
    },
    {
      "cell_type": "code",
      "metadata": {
        "id": "g-z54U3q24uU"
      },
      "source": [
        "from sklearn.linear_model import LogisticRegression\n",
        "\n",
        "# Logistic Regression\n",
        "logreg = LogisticRegression()\n",
        "logreg.fit(x_train, y_train)\n",
        "\n",
        "y_pred = logreg.predict(x_test)\n",
        "predictions = [round(value) for value in y_pred]"
      ],
      "execution_count": 101,
      "outputs": []
    },
    {
      "cell_type": "code",
      "metadata": {
        "id": "C3PZmKPh3UTi",
        "colab": {
          "base_uri": "https://localhost:8080/"
        },
        "outputId": "3f54f766-059a-4b1c-b4df-dee39f5768db"
      },
      "source": [
        "accuracy = accuracy_score(y_test, predictions)\n",
        "cm = confusion_matrix(y_test, y_pred)\n",
        "accuracies.append(accuracy)\n",
        "print(\"Accuracy: {}\".format(accuracy * 100))\n",
        "confusion_matrices.append(cm)\n",
        "print(cm)\n",
        "describe_confusion_matrix(cm)"
      ],
      "execution_count": 102,
      "outputs": [
        {
          "output_type": "stream",
          "text": [
            "Accuracy: 71.3875968992248\n",
            "[[4967 1489]\n",
            " [2202 4242]]\n",
            "True positives: 4242\n",
            "True negatives: 4967\n",
            "False positives: 1489\n",
            "False negatives: 2202\n"
          ],
          "name": "stdout"
        }
      ]
    },
    {
      "cell_type": "markdown",
      "metadata": {
        "id": "Y5DcUR5TFt2b"
      },
      "source": [
        "Changing threshold from 0.00 to 1.00 for logistic regression. We saw very little improvement in accuracy."
      ]
    },
    {
      "cell_type": "code",
      "metadata": {
        "id": "NNBSGUDx7j83"
      },
      "source": [
        "# from sklearn.metrics import recall_score\n",
        "\n",
        "# accuracy_arr = []\n",
        "# recall_arr   = []\n",
        "# y_pred1 = logreg.predict_proba(x_test)\n",
        "# for threshold in range(1,100):\n",
        "#     actual_threshold = threshold/100\n",
        "#     y_pred_actual1=[]\n",
        "#     for y1,x1 in y_pred1:\n",
        "#         if x1 >= actual_threshold:\n",
        "#             y_pred_actual1.append(1)\n",
        "#         else:\n",
        "#             y_pred_actual1.append(0)\n",
        "#     accuracy = accuracy_score(y_test, y_pred_actual1)\n",
        "#     accuracy_arr.append(accuracy)\n",
        "#     recall  = recall_score(y_test,y_pred_actual1)\n",
        "#     recall_arr.append(recall)"
      ],
      "execution_count": 103,
      "outputs": []
    },
    {
      "cell_type": "code",
      "metadata": {
        "id": "7AV-tsB3FfwV"
      },
      "source": [
        "# import matplotlib.pyplot as plt\n",
        "# plt.figure(figsize=(10,6))\n",
        "# plt.plot( range(1, 100), accuracy_arr, color='#003f5c', linestyle='-.', marker='o',markersize=10, markerfacecolor='#ff6361')\n",
        "# #plt.plot( range(1, 100), recall_arr, color='#000000', linestyle='-.', marker='o',markersize=10, markerfacecolor='#000000')\n",
        "# plt.title('Accuracy vs. Threshold')\n",
        "# plt.xlabel('Threshold')\n",
        "# plt.ylabel('Accuracy')"
      ],
      "execution_count": 104,
      "outputs": []
    },
    {
      "cell_type": "code",
      "metadata": {
        "id": "yQ6JWjyfFh5-"
      },
      "source": [
        "# maxpos=accuracy_arr.index(max(accuracy_arr))\n",
        "# print(100*max(accuracy_arr))\n",
        "# print(maxpos)\n",
        "# recall_arr[46]"
      ],
      "execution_count": 105,
      "outputs": []
    },
    {
      "cell_type": "markdown",
      "metadata": {
        "id": "4JS7GVyf9v48"
      },
      "source": [
        "## **K Nearest neighbors**"
      ]
    },
    {
      "cell_type": "markdown",
      "metadata": {
        "id": "3KzrDEk61oKh"
      },
      "source": [
        "We found the optimal value of K=13 from the plot shown below. We notice that at k=13, accuracy is high & also false negatives are minimised."
      ]
    },
    {
      "cell_type": "code",
      "metadata": {
        "id": "IrYyk61v3lX_",
        "colab": {
          "base_uri": "https://localhost:8080/"
        },
        "outputId": "b661b294-d966-49ed-dd68-616b8d264f44"
      },
      "source": [
        "from sklearn.neighbors import KNeighborsClassifier\n",
        "classifier = KNeighborsClassifier(n_neighbors = 13)\n",
        "classifier.fit(x_train, y_train)"
      ],
      "execution_count": 106,
      "outputs": [
        {
          "output_type": "execute_result",
          "data": {
            "text/plain": [
              "KNeighborsClassifier(algorithm='auto', leaf_size=30, metric='minkowski',\n",
              "                     metric_params=None, n_jobs=None, n_neighbors=13, p=2,\n",
              "                     weights='uniform')"
            ]
          },
          "metadata": {
            "tags": []
          },
          "execution_count": 106
        }
      ]
    },
    {
      "cell_type": "code",
      "metadata": {
        "id": "pqOnhh2r33a4",
        "colab": {
          "base_uri": "https://localhost:8080/"
        },
        "outputId": "c7f6293e-5c79-4a1a-b4f7-90eeb3e6c7c2"
      },
      "source": [
        "y_pred = classifier.predict(x_test)\n",
        "cm = confusion_matrix(y_test, y_pred)\n",
        "accuracy = accuracy_score(y_test, y_pred)\n",
        "accuracies.append(accuracy)\n",
        "confusion_matrices.append(cm)\n",
        "print(\"Accuracy: {}\".format(accuracy * 100))\n",
        "print(cm)\n",
        "describe_confusion_matrix(cm)"
      ],
      "execution_count": 107,
      "outputs": [
        {
          "output_type": "stream",
          "text": [
            "Accuracy: 70.65891472868216\n",
            "[[4701 1755]\n",
            " [2030 4414]]\n",
            "True positives: 4414\n",
            "True negatives: 4701\n",
            "False positives: 1755\n",
            "False negatives: 2030\n"
          ],
          "name": "stdout"
        }
      ]
    },
    {
      "cell_type": "markdown",
      "metadata": {
        "id": "mdZ-sJEnS1Z7"
      },
      "source": [
        "Finding optimal K optimising for accuracy & false negatives. Comment this code because it takes a long time to run."
      ]
    },
    {
      "cell_type": "code",
      "metadata": {
        "id": "_1Vt3kmdu4Sq"
      },
      "source": [
        "# knn_accuracies = []\n",
        "# knn_false_negatives = []\n",
        "\n",
        "# for i in range(1,35):    \n",
        "#     knn = KNeighborsClassifier(n_neighbors=i)\n",
        "#     knn.fit(x_train,y_train)\n",
        "#     y_pred = knn.predict(x_test)\n",
        "#     knn_accuracies.append(accuracy_score(y_test, y_pred))\n",
        "#     cm = confusion_matrix(y_test, y_pred)\n",
        "#     fn = cm[1][0]\n",
        "#     knn_false_negatives.append(fn)"
      ],
      "execution_count": 108,
      "outputs": []
    },
    {
      "cell_type": "markdown",
      "metadata": {
        "id": "-086neWZ3RRu"
      },
      "source": [
        "From the below graphs, we can see that k=13 gives high accuracy & low false negatives."
      ]
    },
    {
      "cell_type": "code",
      "metadata": {
        "id": "jp4_fSI4u2wq"
      },
      "source": [
        "# import matplotlib.pyplot as plt\n",
        "# plt.figure(figsize=(10,6))\n",
        "# plt.plot( range(1, 35), knn_accuracies, color='#003f5c', linestyle='-.', marker='o',markersize=10, markerfacecolor='#ff6361')\n",
        "# plt.title('Accuracy vs. K Value')\n",
        "# plt.xlabel('K')\n",
        "# plt.ylabel('Accuracy')"
      ],
      "execution_count": 109,
      "outputs": []
    },
    {
      "cell_type": "code",
      "metadata": {
        "id": "bI4yUOYOTcGg"
      },
      "source": [
        "# import matplotlib.pyplot as plt\n",
        "# plt.figure(figsize=(10,6))\n",
        "# plt.plot( range(1, 35), knn_false_negatives, color='#003f5c', linestyle='-.', marker='o',markersize=10, markerfacecolor='#ff6361')\n",
        "# plt.title('False negatives vs. K Value')\n",
        "# plt.xlabel('K')\n",
        "# plt.ylabel('False negatives')"
      ],
      "execution_count": 110,
      "outputs": []
    },
    {
      "cell_type": "markdown",
      "metadata": {
        "id": "_qo2NK5d9_jT"
      },
      "source": [
        "## **Decision Tree classifier**\n",
        "\n",
        "\n"
      ]
    },
    {
      "cell_type": "markdown",
      "metadata": {
        "id": "AgRc4R8w4LIz"
      },
      "source": [
        "Here, we have passed max_depth = 9 to avoid overfit. This value was found from the plot below."
      ]
    },
    {
      "cell_type": "code",
      "metadata": {
        "id": "vE2_Ml6f4FGw",
        "colab": {
          "base_uri": "https://localhost:8080/"
        },
        "outputId": "fc753cd5-97b6-4cb4-b50f-1748d856df28"
      },
      "source": [
        "from sklearn.tree import DecisionTreeClassifier\n",
        "classifier = DecisionTreeClassifier(criterion = 'entropy', max_depth=9)\n",
        "classifier.fit(x_train, y_train)"
      ],
      "execution_count": 111,
      "outputs": [
        {
          "output_type": "execute_result",
          "data": {
            "text/plain": [
              "DecisionTreeClassifier(ccp_alpha=0.0, class_weight=None, criterion='entropy',\n",
              "                       max_depth=9, max_features=None, max_leaf_nodes=None,\n",
              "                       min_impurity_decrease=0.0, min_impurity_split=None,\n",
              "                       min_samples_leaf=1, min_samples_split=2,\n",
              "                       min_weight_fraction_leaf=0.0, presort='deprecated',\n",
              "                       random_state=None, splitter='best')"
            ]
          },
          "metadata": {
            "tags": []
          },
          "execution_count": 111
        }
      ]
    },
    {
      "cell_type": "code",
      "metadata": {
        "id": "93m3Uad94Qhe",
        "colab": {
          "base_uri": "https://localhost:8080/"
        },
        "outputId": "4bcdbfa9-0275-4a61-85b7-489a9f4c02dd"
      },
      "source": [
        "y_pred = classifier.predict(x_test)\n",
        "cm = confusion_matrix(y_test, y_pred)\n",
        "confusion_matrices.append(cm)\n",
        "accuracy = accuracy_score(y_test, y_pred)\n",
        "accuracies.append(accuracy)\n",
        "print(\"Accuracy: {}\".format(accuracy * 100))\n",
        "print(cm)\n",
        "describe_confusion_matrix(cm)"
      ],
      "execution_count": 112,
      "outputs": [
        {
          "output_type": "stream",
          "text": [
            "Accuracy: 71.6046511627907\n",
            "[[4688 1768]\n",
            " [1895 4549]]\n",
            "True positives: 4549\n",
            "True negatives: 4688\n",
            "False positives: 1768\n",
            "False negatives: 1895\n"
          ],
          "name": "stdout"
        }
      ]
    },
    {
      "cell_type": "markdown",
      "metadata": {
        "id": "doPPLUcZWxW4"
      },
      "source": [
        "Plotting a graph of accuracy v.s max_depth & false_negatives v.s. max_depth to find optimal value, to avoid overfit."
      ]
    },
    {
      "cell_type": "code",
      "metadata": {
        "id": "WieUjXY0VwRA",
        "colab": {
          "base_uri": "https://localhost:8080/"
        },
        "outputId": "bf55782f-af3d-40a8-b47a-54488ded7032"
      },
      "source": [
        "decision_accuracies = []\n",
        "decision_fn=[]\n",
        "\n",
        "from sklearn.tree import DecisionTreeClassifier\n",
        "for i in range(1,20):\n",
        "    classifier = DecisionTreeClassifier(criterion = 'entropy',  max_depth=i)\n",
        "    classifier.fit(x_train, y_train)\n",
        "    y_pred = classifier.predict(x_test)\n",
        "    cm = confusion_matrix(y_test, y_pred)\n",
        "    accuracy = accuracy_score(y_test, y_pred)\n",
        "    print(\"Accuracy: {}\".format(accuracy * 100))\n",
        "    decision_fn.append(cm[1][0])\n",
        "    decision_accuracies.append(accuracy)"
      ],
      "execution_count": 113,
      "outputs": [
        {
          "output_type": "stream",
          "text": [
            "Accuracy: 70.30232558139535\n",
            "Accuracy: 70.30232558139535\n",
            "Accuracy: 71.48062015503875\n",
            "Accuracy: 71.68992248062015\n",
            "Accuracy: 71.76744186046513\n",
            "Accuracy: 71.8062015503876\n",
            "Accuracy: 71.68992248062015\n",
            "Accuracy: 71.5968992248062\n",
            "Accuracy: 71.63565891472868\n",
            "Accuracy: 71.06201550387597\n",
            "Accuracy: 70.51937984496124\n",
            "Accuracy: 70.68992248062015\n",
            "Accuracy: 70.24031007751937\n",
            "Accuracy: 70.07751937984497\n",
            "Accuracy: 69.42635658914729\n",
            "Accuracy: 68.96899224806201\n",
            "Accuracy: 68.3875968992248\n",
            "Accuracy: 67.53488372093022\n",
            "Accuracy: 67.31007751937985\n"
          ],
          "name": "stdout"
        }
      ]
    },
    {
      "cell_type": "code",
      "metadata": {
        "id": "UZjkkXt_XGJk",
        "colab": {
          "base_uri": "https://localhost:8080/",
          "height": 0
        },
        "outputId": "3a37ff23-e858-45f8-8bc0-5893def22299"
      },
      "source": [
        "import matplotlib.pyplot as plt\n",
        "plt.figure(figsize=(10,6))\n",
        "plt.plot( range(1, 20), decision_accuracies, color='#003f5c', linestyle='-.', marker='o',markersize=10, markerfacecolor='#ff6361')\n",
        "plt.title('Accuracy vs. max_depth')\n",
        "plt.xlabel('max_depth')\n",
        "plt.ylabel('Accuracy')\n",
        "plt.show()"
      ],
      "execution_count": 114,
      "outputs": [
        {
          "output_type": "display_data",
          "data": {
            "image/png": "[encoded data removed]",
            "text/plain": [
              "<Figure size 720x432 with 1 Axes>"
            ]
          },
          "metadata": {
            "tags": [],
            "needs_background": "light"
          }
        }
      ]
    },
    {
      "cell_type": "code",
      "metadata": {
        "id": "qkFi-qXQXtxR",
        "colab": {
          "base_uri": "https://localhost:8080/",
          "height": 0
        },
        "outputId": "41f3793c-0635-479d-84f3-c719dcefb760"
      },
      "source": [
        "import matplotlib.pyplot as plt\n",
        "plt.figure(figsize=(10,6))\n",
        "plt.plot( range(1, 20), decision_fn, color='#003f5c', linestyle='-.', marker='o',markersize=10, markerfacecolor='#ff6361')\n",
        "plt.title('False negatives vs. max_depth')\n",
        "plt.xlabel('max_depth')\n",
        "plt.ylabel('False negatives')\n",
        "plt.show()"
      ],
      "execution_count": 115,
      "outputs": [
        {
          "output_type": "display_data",
          "data": {
            "image/png": "[encoded data removed]",
            "text/plain": [
              "<Figure size 720x432 with 1 Axes>"
            ]
          },
          "metadata": {
            "tags": [],
            "needs_background": "light"
          }
        }
      ]
    },
    {
      "cell_type": "markdown",
      "metadata": {
        "id": "eMJhphLg-yp4"
      },
      "source": [
        "## **Summarising all accuracies**"
      ]
    },
    {
      "cell_type": "code",
      "metadata": {
        "id": "V0IPpNQ7AeGH",
        "colab": {
          "base_uri": "https://localhost:8080/"
        },
        "outputId": "9cec8e09-20a4-499e-b709-0189db407e24"
      },
      "source": [
        "print(models)\n",
        "accuracies = [x*100 for x in accuracies]\n",
        "accuracies"
      ],
      "execution_count": 116,
      "outputs": [
        {
          "output_type": "stream",
          "text": [
            "['Logistic Regression', 'K Nearest Neighbors', 'Decision tree classifier']\n"
          ],
          "name": "stdout"
        },
        {
          "output_type": "execute_result",
          "data": {
            "text/plain": [
              "[71.3875968992248, 70.65891472868216, 71.6046511627907]"
            ]
          },
          "metadata": {
            "tags": []
          },
          "execution_count": 116
        }
      ]
    },
    {
      "cell_type": "code",
      "metadata": {
        "id": "THYJdqEtoA0p",
        "colab": {
          "base_uri": "https://localhost:8080/"
        },
        "outputId": "5e4db60c-d8b2-4686-f766-dbcf1f93e8cd"
      },
      "source": [
        "confusion_matrices"
      ],
      "execution_count": 117,
      "outputs": [
        {
          "output_type": "execute_result",
          "data": {
            "text/plain": [
              "[array([[4967, 1489],\n",
              "        [2202, 4242]]), array([[4701, 1755],\n",
              "        [2030, 4414]]), array([[4688, 1768],\n",
              "        [1895, 4549]])]"
            ]
          },
          "metadata": {
            "tags": []
          },
          "execution_count": 117
        }
      ]
    },
    {
      "cell_type": "code",
      "metadata": {
        "id": "vRv8pgJ--yUB",
        "colab": {
          "base_uri": "https://localhost:8080/",
          "height": 0
        },
        "outputId": "0d2c15d7-9052-436f-8c9b-f7b5436b665d"
      },
      "source": [
        "import matplotlib.pyplot as plt\n",
        "f, ax = plt.subplots(figsize=(18,7))\n",
        "plt.bar(models,accuracies, color = \"#FFA07A\")\n",
        "plt.title(\"Accuracies from different classification models\")\n",
        "plt.ylabel(\"Accuracy\")\n",
        "plt.xlabel(\"Model name\")\n",
        "plt.savefig(\"accuracy.png\")\n",
        "plt.show()"
      ],
      "execution_count": 118,
      "outputs": [
        {
          "output_type": "display_data",
          "data": {
            "image/png": "[encoded data removed]",
            "text/plain": [
              "<Figure size 1296x504 with 1 Axes>"
            ]
          },
          "metadata": {
            "tags": [],
            "needs_background": "light"
          }
        }
      ]
    },
    {
      "cell_type": "markdown",
      "metadata": {
        "id": "ooTAIDe832dW"
      },
      "source": [
        "**Pruning**"
      ]
    },
    {
      "cell_type": "markdown",
      "metadata": {
        "id": "Pim5hvMP5gV7"
      },
      "source": [
        "Commented because it takes a long time to run. (1.5hr+)"
      ]
    },
    {
      "cell_type": "code",
      "metadata": {
        "id": "SZakkQoke4Fv"
      },
      "source": [
        "# clf = DecisionTreeClassifier(random_state=0, criterion = 'entropy')\n",
        "# path = clf.cost_complexity_pruning_path(x_train, y_train)\n",
        "# ccp_alphas, impurities = path.ccp_alphas, path.impurities\n",
        "# len(ccp_alphas)"
      ],
      "execution_count": 119,
      "outputs": []
    },
    {
      "cell_type": "code",
      "metadata": {
        "id": "tBRlTVI8fFdp"
      },
      "source": [
        "# fig, ax = plt.subplots()\n",
        "# ax.plot(ccp_alphas[:-1], impurities[:-1], marker='o', drawstyle=\"steps-post\")\n",
        "# ax.set_xlabel(\"effective alpha\")\n",
        "# ax.set_ylabel(\"total impurity of leaves\")\n",
        "# ax.set_title(\"Total Impurity vs effective alpha for training set\")"
      ],
      "execution_count": 120,
      "outputs": []
    },
    {
      "cell_type": "code",
      "metadata": {
        "id": "Wv5HSijLfTDK"
      },
      "source": [
        "# clfs = []\n",
        "# for ccp_alpha in ccp_alphas:\n",
        "#     clf = DecisionTreeClassifier(random_state=0, ccp_alpha=ccp_alpha, criterion = 'entropy')\n",
        "#     clf.fit(x_train, y_train)\n",
        "#     clfs.append(clf)\n",
        "# print(\"Number of nodes in the last tree is: {} with ccp_alpha: {}\".format(\n",
        "#       clfs[-1].tree_.node_count, ccp_alphas[-1]))"
      ],
      "execution_count": 121,
      "outputs": []
    },
    {
      "cell_type": "code",
      "metadata": {
        "id": "GFSBJM6mg6pP"
      },
      "source": [
        "# clfs = clfs[:-1]\n",
        "# ccp_alphas = ccp_alphas[:-1]\n",
        "\n",
        "# node_counts = [clf.tree_.node_count for clf in clfs]\n",
        "# depth = [clf.tree_.max_depth for clf in clfs]\n",
        "# fig, ax = plt.subplots(2, 1)\n",
        "# ax[0].plot(ccp_alphas, node_counts, marker='o', drawstyle=\"steps-post\")\n",
        "# ax[0].set_xlabel(\"alpha\")\n",
        "# ax[0].set_ylabel(\"number of nodes\")\n",
        "# ax[0].set_title(\"Number of nodes vs alpha\")\n",
        "# ax[1].plot(ccp_alphas, depth, marker='o', drawstyle=\"steps-post\")\n",
        "# ax[1].set_xlabel(\"alpha\")\n",
        "# ax[1].set_ylabel(\"depth of tree\")\n",
        "# ax[1].set_title(\"Depth vs alpha\")\n",
        "# fig.tight_layout()"
      ],
      "execution_count": 122,
      "outputs": []
    },
    {
      "cell_type": "code",
      "metadata": {
        "id": "2eK-d5Jm19_c"
      },
      "source": [
        "# train_scores = [clf.score(x_train, y_train) for clf in clfs]\n",
        "# test_scores = [clf.score(x_test, y_test) for clf in clfs]"
      ],
      "execution_count": 123,
      "outputs": []
    },
    {
      "cell_type": "code",
      "metadata": {
        "id": "dOM_BE92g9Az"
      },
      "source": [
        "# maxpos=test_scores.index(max(test_scores))\n",
        "\n",
        "# fig, ax = plt.subplots(figsize=(20,10))\n",
        "# ax.set_xlabel(\"alpha\")\n",
        "# ax.set_ylabel(\"accuracy\")\n",
        "# ax.set_title(\"Accuracy vs alpha for training and testing sets\")\n",
        "# ax.plot(ccp_alphas, train_scores, marker='o', label=\"train\",\n",
        "#         drawstyle=\"steps-post\")\n",
        "# ax.plot(ccp_alphas, test_scores, marker='o', label=\"test\",\n",
        "#         drawstyle=\"steps-post\")\n",
        "# ax.legend()\n",
        "# plt.show()\n",
        "# print(maxpos)\n",
        "# ccp_alphas[maxpos]"
      ],
      "execution_count": 124,
      "outputs": []
    },
    {
      "cell_type": "markdown",
      "metadata": {
        "id": "QwjCe61-2DZ4"
      },
      "source": [
        "## **Visualizations**"
      ]
    },
    {
      "cell_type": "markdown",
      "metadata": {
        "id": "ZzqMiLqB2Hwp"
      },
      "source": [
        "Dataset gender composition"
      ]
    },
    {
      "cell_type": "code",
      "metadata": {
        "id": "yd-81QNsijOz",
        "colab": {
          "base_uri": "https://localhost:8080/"
        },
        "outputId": "7d7e082f-835c-4a0c-a752-040c015e8726"
      },
      "source": [
        "df[\"gender\"].value_counts()"
      ],
      "execution_count": 125,
      "outputs": [
        {
          "output_type": "execute_result",
          "data": {
            "text/plain": [
              "1    41804\n",
              "2    22696\n",
              "Name: gender, dtype: int64"
            ]
          },
          "metadata": {
            "tags": []
          },
          "execution_count": 125
        }
      ]
    },
    {
      "cell_type": "code",
      "metadata": {
        "id": "oOO09uiR2ijy",
        "colab": {
          "base_uri": "https://localhost:8080/",
          "height": 513
        },
        "outputId": "7bdc048c-c985-40c7-c6f4-1ce0c3297a9a"
      },
      "source": [
        "labels = [\"Female\", \"Male\"]\n",
        "gender_count = [45530, 24470]\n",
        "gender_pie_colors = [\"#ff6361\", \"#58508d\"]\n",
        "f, ax = plt.subplots(figsize=(15,7))\n",
        "plt.pie(gender_count, labels = labels, colors = gender_pie_colors, autopct = '%1.1f%%', wedgeprops={ \"edgecolor\": \"white\" })\n",
        "\n",
        "\n",
        "plt.title(\"Gender composition in dataset\")\n",
        "plt.tight_layout()\n",
        "plt.savefig(\"gender.png\")\n",
        "plt.show()"
      ],
      "execution_count": 126,
      "outputs": [
        {
          "output_type": "display_data",
          "data": {
            "image/png": "[encoded data removed]",
            "text/plain": [
              "<Figure size 1080x504 with 1 Axes>"
            ]
          },
          "metadata": {
            "tags": []
          }
        }
      ]
    },
    {
      "cell_type": "markdown",
      "metadata": {
        "id": "APpDTtoz3Tnf"
      },
      "source": [
        "% of people having cardiovascular disease in dataset"
      ]
    },
    {
      "cell_type": "code",
      "metadata": {
        "id": "Cq6UIMSj3YbA",
        "colab": {
          "base_uri": "https://localhost:8080/"
        },
        "outputId": "82526af4-81ae-457e-efc9-707dd0cb3fc4"
      },
      "source": [
        "df[\"cardio\"].value_counts()"
      ],
      "execution_count": 127,
      "outputs": [
        {
          "output_type": "execute_result",
          "data": {
            "text/plain": [
              "0    32354\n",
              "1    32146\n",
              "Name: cardio, dtype: int64"
            ]
          },
          "metadata": {
            "tags": []
          },
          "execution_count": 127
        }
      ]
    },
    {
      "cell_type": "code",
      "metadata": {
        "id": "R4JA4X373AL-",
        "colab": {
          "base_uri": "https://localhost:8080/",
          "height": 513
        },
        "outputId": "a41f7bfe-a780-433f-91ad-c023bb21650f"
      },
      "source": [
        "labels = [\"Not having CVD\", \"Have CVD\"]\n",
        "cvd_count = [35021, 34979]\n",
        "cvd_pie_colors = [\"#bc5090\", \"#ff6361\"]\n",
        "explode = [ 0, 0.15]\n",
        "f, ax = plt.subplots(figsize=(15,7))\n",
        "plt.pie(cvd_count, labels = labels, colors = cvd_pie_colors, autopct = '%1.1f%%', wedgeprops={ \"edgecolor\": \"white\" })\n",
        "\n",
        "\n",
        "plt.title(\"CVD composition in dataset\")\n",
        "plt.tight_layout()\n",
        "plt.savefig(\"cvd.png\")\n",
        "plt.show()"
      ],
      "execution_count": 128,
      "outputs": [
        {
          "output_type": "display_data",
          "data": {
            "image/png": "[encoded data removed]",
            "text/plain": [
              "<Figure size 1080x504 with 1 Axes>"
            ]
          },
          "metadata": {
            "tags": []
          }
        }
      ]
    },
    {
      "cell_type": "code",
      "metadata": {
        "id": "tcroLUlP6gAu",
        "colab": {
          "base_uri": "https://localhost:8080/"
        },
        "outputId": "febcf0a2-4b94-49cb-d611-63a576620538"
      },
      "source": [
        "df[\"gluc\"].value_counts()"
      ],
      "execution_count": 129,
      "outputs": [
        {
          "output_type": "execute_result",
          "data": {
            "text/plain": [
              "1    54886\n",
              "3     4941\n",
              "2     4673\n",
              "Name: gluc, dtype: int64"
            ]
          },
          "metadata": {
            "tags": []
          },
          "execution_count": 129
        }
      ]
    },
    {
      "cell_type": "code",
      "metadata": {
        "id": "6rg7SHo97wiG",
        "colab": {
          "base_uri": "https://localhost:8080/"
        },
        "outputId": "42d61244-078a-47f9-c932-f11da43f4eef"
      },
      "source": [
        "df[\"cholesterol\"].value_counts()"
      ],
      "execution_count": 130,
      "outputs": [
        {
          "output_type": "execute_result",
          "data": {
            "text/plain": [
              "1    48461\n",
              "2     8583\n",
              "3     7456\n",
              "Name: cholesterol, dtype: int64"
            ]
          },
          "metadata": {
            "tags": []
          },
          "execution_count": 130
        }
      ]
    },
    {
      "cell_type": "code",
      "metadata": {
        "id": "654hajg43uAC",
        "colab": {
          "base_uri": "https://localhost:8080/",
          "height": 444
        },
        "outputId": "aaec7c25-145f-4700-a14d-df5d7ff91e9c"
      },
      "source": [
        "labels = [\"Normal\", \"Above normal\", \"Well above normal\"]\n",
        "gluc_count = [59479, 5331, 5190]\n",
        "chol_count = [52385, 9549, 8066]\n",
        "\n",
        "x_indices = np.arange(len(labels))\n",
        "bar_width = 0.25\n",
        "f, ax = plt.subplots(figsize=(15,7))\n",
        "plt.bar(x_indices, gluc_count, width=bar_width, color = \"#bc5090\",label = \"Glucose levels\")\n",
        "plt.bar(x_indices + bar_width, chol_count, width=bar_width, color=\"#ff6361\", label = \"Cholesterol levels\")\n",
        "\n",
        "plt.xticks(x_indices, labels)\n",
        "plt.legend()\n",
        "plt.title(\"Distribution of glucose & cholesterol levels of patients\")\n",
        "plt.ylabel(\"Number of patients\")\n",
        "#plt.xlabel(\"Categories of glucose & cholesterol levels\")\n",
        "plt.savefig(\"glucose and cholestrol.png\")\n",
        "plt.show()"
      ],
      "execution_count": 131,
      "outputs": [
        {
          "output_type": "display_data",
          "data": {
            "image/png": "[encoded data removed]",
            "text/plain": [
              "<Figure size 1080x504 with 1 Axes>"
            ]
          },
          "metadata": {
            "tags": [],
            "needs_background": "light"
          }
        }
      ]
    },
    {
      "cell_type": "code",
      "metadata": {
        "id": "J2wzzopG6yYW",
        "colab": {
          "base_uri": "https://localhost:8080/"
        },
        "outputId": "362e9931-1510-4bb5-fc6e-50cde099d45c"
      },
      "source": [
        "df[\"smoke\"].value_counts()"
      ],
      "execution_count": 132,
      "outputs": [
        {
          "output_type": "execute_result",
          "data": {
            "text/plain": [
              "0    58849\n",
              "1     5651\n",
              "Name: smoke, dtype: int64"
            ]
          },
          "metadata": {
            "tags": []
          },
          "execution_count": 132
        }
      ]
    },
    {
      "cell_type": "code",
      "metadata": {
        "id": "wIzW3Kkg99Lg",
        "colab": {
          "base_uri": "https://localhost:8080/"
        },
        "outputId": "a593ea31-70aa-4fc9-954e-33d13005946d"
      },
      "source": [
        "df[\"active\"].value_counts()"
      ],
      "execution_count": 133,
      "outputs": [
        {
          "output_type": "execute_result",
          "data": {
            "text/plain": [
              "1    51825\n",
              "0    12675\n",
              "Name: active, dtype: int64"
            ]
          },
          "metadata": {
            "tags": []
          },
          "execution_count": 133
        }
      ]
    },
    {
      "cell_type": "code",
      "metadata": {
        "id": "V9DaLq9R-HLg",
        "colab": {
          "base_uri": "https://localhost:8080/"
        },
        "outputId": "e2a73f00-d20f-4c6f-9651-6b625eb6c02b"
      },
      "source": [
        "df[\"alco\"].value_counts()"
      ],
      "execution_count": 134,
      "outputs": [
        {
          "output_type": "execute_result",
          "data": {
            "text/plain": [
              "0    61078\n",
              "1     3422\n",
              "Name: alco, dtype: int64"
            ]
          },
          "metadata": {
            "tags": []
          },
          "execution_count": 134
        }
      ]
    },
    {
      "cell_type": "code",
      "metadata": {
        "id": "tbWqIn_i-KI6",
        "colab": {
          "base_uri": "https://localhost:8080/",
          "height": 513
        },
        "outputId": "beceff7b-04e9-4c5e-feaa-568c8f3951c2"
      },
      "source": [
        "labels = [\"Don't smoke\", \"Do smoke\"]\n",
        "smoke_count = [63831, 6169]\n",
        "smoke_pie_colors = [\"#ffa600\", \"#ff6361\"]\n",
        "explode = [ 0, 0.15]\n",
        "f, ax = plt.subplots(figsize=(15,7))\n",
        "plt.pie(smoke_count, labels = labels, explode = explode,colors = smoke_pie_colors, autopct = '%1.1f%%', wedgeprops={ \"edgecolor\": \"white\" })\n",
        "\n",
        "\n",
        "plt.title(\"How many patients smoke?\")\n",
        "plt.savefig(\"smoke.png\")\n",
        "plt.tight_layout()\n",
        "plt.show()"
      ],
      "execution_count": 135,
      "outputs": [
        {
          "output_type": "display_data",
          "data": {
            "image/png": "[encoded data removed]",
            "text/plain": [
              "<Figure size 1080x504 with 1 Axes>"
            ]
          },
          "metadata": {
            "tags": []
          }
        }
      ]
    },
    {
      "cell_type": "code",
      "metadata": {
        "id": "-jdOLc4Z-8-6",
        "colab": {
          "base_uri": "https://localhost:8080/",
          "height": 513
        },
        "outputId": "7829f810-238f-443e-ac0d-c74225d82997"
      },
      "source": [
        "labels = [\"Is not active\", \"Is active\"]\n",
        "active_count = [13739, 56261]\n",
        "active_pie_colors = [\"#ff6361\", \"#ffa600\"]\n",
        "f, ax = plt.subplots(figsize=(15,7))\n",
        "plt.pie(active_count, labels = labels,colors = active_pie_colors, autopct = '%1.1f%%', wedgeprops={ \"edgecolor\": \"white\" })\n",
        "\n",
        "\n",
        "plt.title(\"How many patients are physically active?\")\n",
        "plt.tight_layout()\n",
        "plt.savefig(\"active.png\")\n",
        "plt.show()"
      ],
      "execution_count": 136,
      "outputs": [
        {
          "output_type": "display_data",
          "data": {
            "image/png": "[encoded data removed]",
            "text/plain": [
              "<Figure size 1080x504 with 1 Axes>"
            ]
          },
          "metadata": {
            "tags": []
          }
        }
      ]
    },
    {
      "cell_type": "code",
      "metadata": {
        "id": "JZCwoaft_8Uc",
        "colab": {
          "base_uri": "https://localhost:8080/",
          "height": 513
        },
        "outputId": "99ec117f-4753-4bd5-b112-b6d6e4427c26"
      },
      "source": [
        "labels = [\"Doesn't drink\", \"Does drink\"]\n",
        "alco_count  = [66236, 3764]\n",
        "alco_pie_colors = [\"#ffa600\", \"#ff6361\"]\n",
        "explode = [ 0, 0.15]\n",
        "f, ax = plt.subplots(figsize=(15,7))\n",
        "plt.pie(alco_count, labels = labels, colors = alco_pie_colors, explode = explode,autopct = '%1.1f%%', wedgeprops={ \"edgecolor\": \"white\" })\n",
        "\n",
        "\n",
        "plt.title(\"How many patients consume alchohol?\")\n",
        "plt.tight_layout()\n",
        "plt.savefig(\"alcohol.png\")\n",
        "plt.show()"
      ],
      "execution_count": 137,
      "outputs": [
        {
          "output_type": "display_data",
          "data": {
            "image/png": "[encoded data removed]",
            "text/plain": [
              "<Figure size 1080x504 with 1 Axes>"
            ]
          },
          "metadata": {
            "tags": []
          }
        }
      ]
    },
    {
      "cell_type": "markdown",
      "metadata": {
        "id": "gZ4cwdcSZlJo"
      },
      "source": [
        "Let's plot bar graph distribution of patient's age with cardio"
      ]
    },
    {
      "cell_type": "code",
      "metadata": {
        "id": "BzPQSxhZgtEl",
        "colab": {
          "base_uri": "https://localhost:8080/",
          "height": 458
        },
        "outputId": "2e725310-132b-4ab6-f7aa-c09dd8ebd06f"
      },
      "source": [
        "ages_in_years = df[\"age\"].div(365).apply(lambda x : int(x))\n",
        "f, ax = plt.subplots(figsize=(15,7))\n",
        "plt.hist(ages_in_years, edgecolor = \"white\", color = \"#ef5675\")\n",
        "\n",
        "plt.title(\"Ages of patients\")\n",
        "plt.xlabel(\"Ages\")\n",
        "plt.ylabel(\"Number of patients\")\n",
        "plt.savefig(\"age.png\")\n",
        "plt.show()"
      ],
      "execution_count": 138,
      "outputs": [
        {
          "output_type": "display_data",
          "data": {
            "image/png": "[encoded data removed]",
            "text/plain": [
              "<Figure size 1080x504 with 1 Axes>"
            ]
          },
          "metadata": {
            "tags": [],
            "needs_background": "light"
          }
        }
      ]
    },
    {
      "cell_type": "code",
      "metadata": {
        "id": "HQNisppwZcaB",
        "colab": {
          "base_uri": "https://localhost:8080/",
          "height": 511
        },
        "outputId": "9ed66317-b2bf-4ada-8872-4898979c1952"
      },
      "source": [
        "ages_in_years = df[\"age\"].div(365).apply(lambda x : int(x))\n",
        "\n",
        "remove_filter = df[(df[\"cardio\"] == 0)]\n",
        "df_cvd = df.drop(remove_filter.index)\n",
        "\n",
        "\n",
        "remove_filter = df[(df[\"cardio\"] == 1)]\n",
        "df_no_cvd = df.drop(remove_filter.index)\n",
        "\n",
        "age_cvd = df_cvd[\"age\"].div(365).apply(lambda x : int(x))\n",
        "age_no_cvd = df_no_cvd[\"age\"].div(365).apply(lambda x : int(x))\n",
        "\n",
        "ages = [x for x in range(0,100)]\n",
        "agewise_cvd = [0]*100\n",
        "agewise_no_cvd = [0]*100\n",
        "\n",
        "for age in age_cvd:\n",
        "    agewise_cvd[age]+=1\n",
        "\n",
        "for age in age_no_cvd:\n",
        "    agewise_no_cvd[age]+=1\n",
        "f, ax = plt.subplots(figsize=(15,7))\n",
        "\n",
        "plt.plot(ages, agewise_no_cvd, color=\"#665191\", linestyle = \"--\", label = \"Patients not having CVD\")\n",
        "plt.plot(ages, agewise_cvd, color=\"#f95d6a\",label = \"Patients having CVD\")\n",
        "\n",
        "#For debugging purposes\n",
        "print(df_cvd.shape)\n",
        "print(df_no_cvd.shape)\n",
        "print(df.shape)\n",
        "\n",
        "\n",
        "#plt.plot(age_cvd, color = \"#f95d6a\",alpha = 0.5, label = \"Patients having CVD\")\n",
        "#plt.plot(age_no_cvd, color = \"#2f4b7c\",alpha = 0.5, label = \"Patients not having CVD\")\n",
        "\n",
        "plt.legend()\n",
        "plt.title(\"Patients having CVD\")\n",
        "plt.xlabel(\"Ages\")\n",
        "plt.ylabel(\"Number of patients\")\n",
        "\n",
        "plt.show()"
      ],
      "execution_count": 139,
      "outputs": [
        {
          "output_type": "stream",
          "text": [
            "(32146, 12)\n",
            "(32354, 12)\n",
            "(64500, 12)\n"
          ],
          "name": "stdout"
        },
        {
          "output_type": "display_data",
          "data": {
            "image/png": "[encoded data removed]",
            "text/plain": [
              "<Figure size 1080x504 with 1 Axes>"
            ]
          },
          "metadata": {
            "tags": [],
            "needs_background": "light"
          }
        }
      ]
    },
    {
      "cell_type": "markdown",
      "metadata": {
        "id": "FIPRcgD9ZYof"
      },
      "source": [
        "## **Choosing features**"
      ]
    },
    {
      "cell_type": "markdown",
      "metadata": {
        "id": "8T5j_pndeN20"
      },
      "source": [
        "Upon dropping least correlated features, we observed an insignificant improvement to accuracy, but significant increase in false negatives."
      ]
    },
    {
      "cell_type": "markdown",
      "metadata": {
        "id": "yEimNxqX5DML"
      },
      "source": [
        "From the heat-map, least correlated features were: height, smoke, active, alco."
      ]
    },
    {
      "cell_type": "code",
      "metadata": {
        "id": "2D0vf-b05S4e",
        "colab": {
          "base_uri": "https://localhost:8080/",
          "height": 0
        },
        "outputId": "48b500d8-b17f-42c8-cb69-909745aabf9e"
      },
      "source": [
        "df_temp = df\n",
        "df_temp.head()"
      ],
      "execution_count": 140,
      "outputs": [
        {
          "output_type": "execute_result",
          "data": {
            "text/html": [
              "<div>\n",
              "<style scoped>\n",
              "    .dataframe tbody tr th:only-of-type {\n",
              "        vertical-align: middle;\n",
              "    }\n",
              "\n",
              "    .dataframe tbody tr th {\n",
              "        vertical-align: top;\n",
              "    }\n",
              "\n",
              "    .dataframe thead th {\n",
              "        text-align: right;\n",
              "    }\n",
              "</style>\n",
              "<table border=\"1\" class=\"dataframe\">\n",
              "  <thead>\n",
              "    <tr style=\"text-align: right;\">\n",
              "      <th></th>\n",
              "      <th>age</th>\n",
              "      <th>gender</th>\n",
              "      <th>height</th>\n",
              "      <th>weight</th>\n",
              "      <th>ap_hi</th>\n",
              "      <th>ap_lo</th>\n",
              "      <th>cholesterol</th>\n",
              "      <th>gluc</th>\n",
              "      <th>smoke</th>\n",
              "      <th>alco</th>\n",
              "      <th>active</th>\n",
              "      <th>cardio</th>\n",
              "    </tr>\n",
              "  </thead>\n",
              "  <tbody>\n",
              "    <tr>\n",
              "      <th>0</th>\n",
              "      <td>18393</td>\n",
              "      <td>2</td>\n",
              "      <td>168</td>\n",
              "      <td>62.0</td>\n",
              "      <td>110</td>\n",
              "      <td>80</td>\n",
              "      <td>1</td>\n",
              "      <td>1</td>\n",
              "      <td>0</td>\n",
              "      <td>0</td>\n",
              "      <td>1</td>\n",
              "      <td>0</td>\n",
              "    </tr>\n",
              "    <tr>\n",
              "      <th>1</th>\n",
              "      <td>20228</td>\n",
              "      <td>1</td>\n",
              "      <td>156</td>\n",
              "      <td>85.0</td>\n",
              "      <td>140</td>\n",
              "      <td>90</td>\n",
              "      <td>3</td>\n",
              "      <td>1</td>\n",
              "      <td>0</td>\n",
              "      <td>0</td>\n",
              "      <td>1</td>\n",
              "      <td>1</td>\n",
              "    </tr>\n",
              "    <tr>\n",
              "      <th>2</th>\n",
              "      <td>18857</td>\n",
              "      <td>1</td>\n",
              "      <td>165</td>\n",
              "      <td>64.0</td>\n",
              "      <td>130</td>\n",
              "      <td>70</td>\n",
              "      <td>3</td>\n",
              "      <td>1</td>\n",
              "      <td>0</td>\n",
              "      <td>0</td>\n",
              "      <td>0</td>\n",
              "      <td>1</td>\n",
              "    </tr>\n",
              "    <tr>\n",
              "      <th>3</th>\n",
              "      <td>17623</td>\n",
              "      <td>2</td>\n",
              "      <td>169</td>\n",
              "      <td>82.0</td>\n",
              "      <td>150</td>\n",
              "      <td>100</td>\n",
              "      <td>1</td>\n",
              "      <td>1</td>\n",
              "      <td>0</td>\n",
              "      <td>0</td>\n",
              "      <td>1</td>\n",
              "      <td>1</td>\n",
              "    </tr>\n",
              "    <tr>\n",
              "      <th>5</th>\n",
              "      <td>21914</td>\n",
              "      <td>1</td>\n",
              "      <td>151</td>\n",
              "      <td>67.0</td>\n",
              "      <td>120</td>\n",
              "      <td>80</td>\n",
              "      <td>2</td>\n",
              "      <td>2</td>\n",
              "      <td>0</td>\n",
              "      <td>0</td>\n",
              "      <td>0</td>\n",
              "      <td>0</td>\n",
              "    </tr>\n",
              "  </tbody>\n",
              "</table>\n",
              "</div>"
            ],
            "text/plain": [
              "     age  gender  height  weight  ap_hi  ...  gluc  smoke  alco  active  cardio\n",
              "0  18393       2     168    62.0    110  ...     1      0     0       1       0\n",
              "1  20228       1     156    85.0    140  ...     1      0     0       1       1\n",
              "2  18857       1     165    64.0    130  ...     1      0     0       0       1\n",
              "3  17623       2     169    82.0    150  ...     1      0     0       1       1\n",
              "5  21914       1     151    67.0    120  ...     2      0     0       0       0\n",
              "\n",
              "[5 rows x 12 columns]"
            ]
          },
          "metadata": {
            "tags": []
          },
          "execution_count": 140
        }
      ]
    },
    {
      "cell_type": "code",
      "metadata": {
        "id": "3P3dU0GH454w"
      },
      "source": [
        "df_temp.drop(\"height\",axis=1,inplace=True)\n",
        "df_temp.drop(\"smoke\",axis=1,inplace=True)\n",
        "df_temp.drop(\"alco\",axis=1,inplace=True)\n",
        "df_temp.drop(\"active\",axis=1,inplace=True)"
      ],
      "execution_count": 141,
      "outputs": []
    },
    {
      "cell_type": "code",
      "metadata": {
        "id": "GL4LE4oy7zfC",
        "colab": {
          "base_uri": "https://localhost:8080/",
          "height": 0
        },
        "outputId": "ce4af611-315e-4b14-8cda-c5a4bdb664ca"
      },
      "source": [
        "df_temp"
      ],
      "execution_count": 142,
      "outputs": [
        {
          "output_type": "execute_result",
          "data": {
            "text/html": [
              "<div>\n",
              "<style scoped>\n",
              "    .dataframe tbody tr th:only-of-type {\n",
              "        vertical-align: middle;\n",
              "    }\n",
              "\n",
              "    .dataframe tbody tr th {\n",
              "        vertical-align: top;\n",
              "    }\n",
              "\n",
              "    .dataframe thead th {\n",
              "        text-align: right;\n",
              "    }\n",
              "</style>\n",
              "<table border=\"1\" class=\"dataframe\">\n",
              "  <thead>\n",
              "    <tr style=\"text-align: right;\">\n",
              "      <th></th>\n",
              "      <th>age</th>\n",
              "      <th>gender</th>\n",
              "      <th>weight</th>\n",
              "      <th>ap_hi</th>\n",
              "      <th>ap_lo</th>\n",
              "      <th>cholesterol</th>\n",
              "      <th>gluc</th>\n",
              "      <th>cardio</th>\n",
              "    </tr>\n",
              "  </thead>\n",
              "  <tbody>\n",
              "    <tr>\n",
              "      <th>0</th>\n",
              "      <td>18393</td>\n",
              "      <td>2</td>\n",
              "      <td>62.0</td>\n",
              "      <td>110</td>\n",
              "      <td>80</td>\n",
              "      <td>1</td>\n",
              "      <td>1</td>\n",
              "      <td>0</td>\n",
              "    </tr>\n",
              "    <tr>\n",
              "      <th>1</th>\n",
              "      <td>20228</td>\n",
              "      <td>1</td>\n",
              "      <td>85.0</td>\n",
              "      <td>140</td>\n",
              "      <td>90</td>\n",
              "      <td>3</td>\n",
              "      <td>1</td>\n",
              "      <td>1</td>\n",
              "    </tr>\n",
              "    <tr>\n",
              "      <th>2</th>\n",
              "      <td>18857</td>\n",
              "      <td>1</td>\n",
              "      <td>64.0</td>\n",
              "      <td>130</td>\n",
              "      <td>70</td>\n",
              "      <td>3</td>\n",
              "      <td>1</td>\n",
              "      <td>1</td>\n",
              "    </tr>\n",
              "    <tr>\n",
              "      <th>3</th>\n",
              "      <td>17623</td>\n",
              "      <td>2</td>\n",
              "      <td>82.0</td>\n",
              "      <td>150</td>\n",
              "      <td>100</td>\n",
              "      <td>1</td>\n",
              "      <td>1</td>\n",
              "      <td>1</td>\n",
              "    </tr>\n",
              "    <tr>\n",
              "      <th>5</th>\n",
              "      <td>21914</td>\n",
              "      <td>1</td>\n",
              "      <td>67.0</td>\n",
              "      <td>120</td>\n",
              "      <td>80</td>\n",
              "      <td>2</td>\n",
              "      <td>2</td>\n",
              "      <td>0</td>\n",
              "    </tr>\n",
              "    <tr>\n",
              "      <th>...</th>\n",
              "      <td>...</td>\n",
              "      <td>...</td>\n",
              "      <td>...</td>\n",
              "      <td>...</td>\n",
              "      <td>...</td>\n",
              "      <td>...</td>\n",
              "      <td>...</td>\n",
              "      <td>...</td>\n",
              "    </tr>\n",
              "    <tr>\n",
              "      <th>69994</th>\n",
              "      <td>21074</td>\n",
              "      <td>1</td>\n",
              "      <td>80.0</td>\n",
              "      <td>150</td>\n",
              "      <td>80</td>\n",
              "      <td>1</td>\n",
              "      <td>1</td>\n",
              "      <td>1</td>\n",
              "    </tr>\n",
              "    <tr>\n",
              "      <th>69995</th>\n",
              "      <td>19240</td>\n",
              "      <td>2</td>\n",
              "      <td>76.0</td>\n",
              "      <td>120</td>\n",
              "      <td>80</td>\n",
              "      <td>1</td>\n",
              "      <td>1</td>\n",
              "      <td>0</td>\n",
              "    </tr>\n",
              "    <tr>\n",
              "      <th>69996</th>\n",
              "      <td>22601</td>\n",
              "      <td>1</td>\n",
              "      <td>126.0</td>\n",
              "      <td>140</td>\n",
              "      <td>90</td>\n",
              "      <td>2</td>\n",
              "      <td>2</td>\n",
              "      <td>1</td>\n",
              "    </tr>\n",
              "    <tr>\n",
              "      <th>69998</th>\n",
              "      <td>22431</td>\n",
              "      <td>1</td>\n",
              "      <td>72.0</td>\n",
              "      <td>135</td>\n",
              "      <td>80</td>\n",
              "      <td>1</td>\n",
              "      <td>2</td>\n",
              "      <td>1</td>\n",
              "    </tr>\n",
              "    <tr>\n",
              "      <th>69999</th>\n",
              "      <td>20540</td>\n",
              "      <td>1</td>\n",
              "      <td>72.0</td>\n",
              "      <td>120</td>\n",
              "      <td>80</td>\n",
              "      <td>2</td>\n",
              "      <td>1</td>\n",
              "      <td>0</td>\n",
              "    </tr>\n",
              "  </tbody>\n",
              "</table>\n",
              "<p>64500 rows × 8 columns</p>\n",
              "</div>"
            ],
            "text/plain": [
              "         age  gender  weight  ap_hi  ap_lo  cholesterol  gluc  cardio\n",
              "0      18393       2    62.0    110     80            1     1       0\n",
              "1      20228       1    85.0    140     90            3     1       1\n",
              "2      18857       1    64.0    130     70            3     1       1\n",
              "3      17623       2    82.0    150    100            1     1       1\n",
              "5      21914       1    67.0    120     80            2     2       0\n",
              "...      ...     ...     ...    ...    ...          ...   ...     ...\n",
              "69994  21074       1    80.0    150     80            1     1       1\n",
              "69995  19240       2    76.0    120     80            1     1       0\n",
              "69996  22601       1   126.0    140     90            2     2       1\n",
              "69998  22431       1    72.0    135     80            1     2       1\n",
              "69999  20540       1    72.0    120     80            2     1       0\n",
              "\n",
              "[64500 rows x 8 columns]"
            ]
          },
          "metadata": {
            "tags": []
          },
          "execution_count": 142
        }
      ]
    },
    {
      "cell_type": "code",
      "metadata": {
        "id": "gtnUayZ17aQw",
        "colab": {
          "base_uri": "https://localhost:8080/"
        },
        "outputId": "c8f02751-75f8-4283-f3c6-921b1bff747e"
      },
      "source": [
        "x = df_temp.iloc[:,:-1].values\n",
        "x\n",
        "print(x[0])"
      ],
      "execution_count": 143,
      "outputs": [
        {
          "output_type": "stream",
          "text": [
            "[1.8393e+04 2.0000e+00 6.2000e+01 1.1000e+02 8.0000e+01 1.0000e+00\n",
            " 1.0000e+00]\n"
          ],
          "name": "stdout"
        }
      ]
    },
    {
      "cell_type": "code",
      "metadata": {
        "id": "M8DuUb1r7o94",
        "colab": {
          "base_uri": "https://localhost:8080/"
        },
        "outputId": "00418820-9361-4c18-c0df-4ec31e083b06"
      },
      "source": [
        "y = df_temp.iloc[:,-1].values\n",
        "y"
      ],
      "execution_count": 144,
      "outputs": [
        {
          "output_type": "execute_result",
          "data": {
            "text/plain": [
              "array([0, 1, 1, ..., 1, 1, 0])"
            ]
          },
          "metadata": {
            "tags": []
          },
          "execution_count": 144
        }
      ]
    },
    {
      "cell_type": "code",
      "metadata": {
        "id": "AAmf3O5n7fGp"
      },
      "source": [
        "from sklearn.model_selection import train_test_split\n",
        "x_train, x_test, y_train, y_test = train_test_split(x, y, test_size = 0.2, random_state = 1)"
      ],
      "execution_count": 145,
      "outputs": []
    },
    {
      "cell_type": "code",
      "metadata": {
        "id": "0V_Ps-iG7gnv"
      },
      "source": [
        "from sklearn.preprocessing import StandardScaler\n",
        "sc = StandardScaler()\n",
        "x_train = sc.fit_transform(x_train)\n",
        "x_test = sc.transform(x_test)"
      ],
      "execution_count": 146,
      "outputs": []
    },
    {
      "cell_type": "code",
      "metadata": {
        "id": "DnvXdC9q7icO"
      },
      "source": [
        "from sklearn.linear_model import LogisticRegression\n",
        "\n",
        "# Logistic Regression\n",
        "logreg = LogisticRegression()\n",
        "logreg.fit(x_train, y_train)\n",
        "\n",
        "y_pred = logreg.predict(x_test)\n",
        "predictions = [round(value) for value in y_pred]"
      ],
      "execution_count": 147,
      "outputs": []
    },
    {
      "cell_type": "code",
      "metadata": {
        "id": "itp8e6P17kAr",
        "colab": {
          "base_uri": "https://localhost:8080/"
        },
        "outputId": "347318a1-f47f-4d35-ae27-349be7bd6bcd"
      },
      "source": [
        "accuracy = accuracy_score(y_test, predictions)\n",
        "cm = confusion_matrix(y_test, y_pred)\n",
        "print(\"Accuracy: {}\".format(accuracy * 100))\n",
        "print(cm)\n",
        "describe_confusion_matrix(cm)"
      ],
      "execution_count": 148,
      "outputs": [
        {
          "output_type": "stream",
          "text": [
            "Accuracy: 71.17054263565892\n",
            "[[4991 1465]\n",
            " [2254 4190]]\n",
            "True positives: 4190\n",
            "True negatives: 4991\n",
            "False positives: 1465\n",
            "False negatives: 2254\n"
          ],
          "name": "stdout"
        }
      ]
    },
    {
      "cell_type": "code",
      "metadata": {
        "id": "5t6cge468C_B",
        "colab": {
          "base_uri": "https://localhost:8080/"
        },
        "outputId": "139f59f6-e983-4147-edd8-8c55ffdedeb3"
      },
      "source": [
        "from sklearn.neighbors import KNeighborsClassifier\n",
        "classifier = KNeighborsClassifier(n_neighbors = 13, p = 2)\n",
        "classifier.fit(x_train, y_train)"
      ],
      "execution_count": 149,
      "outputs": [
        {
          "output_type": "execute_result",
          "data": {
            "text/plain": [
              "KNeighborsClassifier(algorithm='auto', leaf_size=30, metric='minkowski',\n",
              "                     metric_params=None, n_jobs=None, n_neighbors=13, p=2,\n",
              "                     weights='uniform')"
            ]
          },
          "metadata": {
            "tags": []
          },
          "execution_count": 149
        }
      ]
    },
    {
      "cell_type": "code",
      "metadata": {
        "id": "GTkfPSIt8ErY",
        "colab": {
          "base_uri": "https://localhost:8080/"
        },
        "outputId": "954cf00b-6ddf-4270-9170-aea90a99a4bf"
      },
      "source": [
        "y_pred = classifier.predict(x_test)\n",
        "cm = confusion_matrix(y_test, y_pred)\n",
        "accuracy = accuracy_score(y_test, y_pred)\n",
        "print(\"Accuracy: {}\".format(accuracy * 100))\n",
        "print(cm)\n",
        "describe_confusion_matrix(cm)"
      ],
      "execution_count": 150,
      "outputs": [
        {
          "output_type": "stream",
          "text": [
            "Accuracy: 70.71317829457364\n",
            "[[4728 1728]\n",
            " [2050 4394]]\n",
            "True positives: 4394\n",
            "True negatives: 4728\n",
            "False positives: 1728\n",
            "False negatives: 2050\n"
          ],
          "name": "stdout"
        }
      ]
    },
    {
      "cell_type": "markdown",
      "metadata": {
        "id": "TpIRKYMX8gwQ"
      },
      "source": [
        "We can observe nearly the same accuracy & increased false negatives."
      ]
    }
  ]
}